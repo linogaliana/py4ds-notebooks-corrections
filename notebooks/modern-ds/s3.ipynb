{
 "cells": [
  {
   "cell_type": "markdown",
   "id": "3004a90d-4e56-4f89-abbc-66b7ae637e22",
   "metadata": {},
   "source": [
    "# Les nouveaux modes d’accès aux données : le format Parquet et les\n",
    "\n",
    "données sur le cloud\n",
    "\n",
    "Lino Galiana  \n",
    "2025-10-07\n",
    "\n",
    "> **Chapitre déplacé**\n",
    ">\n",
    "> Le programme du cours a été modifié. Ce chapitre se trouve maintenant dans la partie [Manipulation de données](../../content/manipulation/05_parquet_s3.qmd)"
   ]
  }
 ],
 "metadata": {
  "kernelspec": {
   "display_name": "Python 3",
   "language": "python",
   "name": "python3"
  }
 },
 "nbformat": 4,
 "nbformat_minor": 5
}

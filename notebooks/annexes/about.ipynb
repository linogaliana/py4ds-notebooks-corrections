{
 "cells": [
  {
   "cell_type": "markdown",
   "id": "119737ca-07c0-4dbd-8072-28eadbdf0ed7",
   "metadata": {},
   "source": [
    "# A propos de ce site\n",
    "\n",
    "Lino Galiana  \n",
    "2025-10-07\n",
    "\n",
    "Site web du cours [*Python pour la data science*](https://www.ensae.fr/courses/1425-python-pour-le-data-scientist)\n",
    "<a href=\"https://github.com/linogaliana/python-datascientist\" class=\"github\"><i class=\"fab fa-python\"></i></a>, une introduction à `Python` pour\n",
    "la deuxième année du cursus d’ingénieur de l’[`ENSAE`](https://www.ensae.fr/) (Master 1).\n",
    "\n",
    "<br>\n",
    "\n",
    "L’ensemble du contenu de ce groupe est librement disponible ici\n",
    "ou sur [`Github`](https://github.com/linogaliana/python-datascientist)\n",
    "<a href=\"https://github.com/linogaliana/python-datascientist\" class=\"github\"><i class=\"fab fa-github\"></i></a> et peut être testé\n",
    "sous forme de *notebooks* `Jupyter`.\n",
    "\n",
    "<br>"
   ]
  },
  {
   "cell_type": "raw",
   "id": "bb2d3bd8-4c08-4f09-9bc8-4409353ff5b8",
   "metadata": {},
   "source": [
    "<details>"
   ]
  },
  {
   "cell_type": "raw",
   "id": "6a1e4eb9-662b-4fe1-8b00-1b63479c1071",
   "metadata": {},
   "source": [
    "<summary>"
   ]
  },
  {
   "cell_type": "markdown",
   "id": "a7a21587-11db-42bd-af45-95df90b9f4ec",
   "metadata": {},
   "source": [
    "Exemple avec l’introduction à `Pandas`"
   ]
  },
  {
   "cell_type": "raw",
   "id": "8e2ce3cb-7715-45d6-be49-14c65d43be6e",
   "metadata": {},
   "source": [
    "</summary>"
   ]
  },
  {
   "cell_type": "raw",
   "id": "b84b9f21-f69b-4b35-99cf-c37994e1aa34",
   "metadata": {},
   "source": [
    "</details>"
   ]
  },
  {
   "cell_type": "raw",
   "id": "d3928db4-4c0d-40e8-8e6d-27f5dbd24d70",
   "metadata": {},
   "source": [
    "<details>"
   ]
  },
  {
   "cell_type": "raw",
   "id": "2aae056e-13a2-44c9-a0e0-4a5d65437eab",
   "metadata": {},
   "source": [
    "<summary>"
   ]
  },
  {
   "cell_type": "markdown",
   "id": "1e8025d5-9ad4-4466-9dae-db16cc337c3e",
   "metadata": {},
   "source": [
    "Au programme:"
   ]
  },
  {
   "cell_type": "raw",
   "id": "8fcc7ca9-07b5-411d-880e-160a1a97c7ff",
   "metadata": {},
   "source": [
    "</summary>"
   ]
  },
  {
   "cell_type": "markdown",
   "id": "b81ad6d3-0bc8-48d1-881d-aa73a5a5fc7b",
   "metadata": {},
   "source": [
    "Globalement, ce cours propose un contenu très complet pouvant autant\n",
    "satisfaire des débutants en\n",
    "*data science* que des personnes à la recherche de contenu plus avancé :\n",
    "<br>\n",
    "\n",
    "1.  **Manipulation de données** : manipulation de données standards (`Pandas`), données géographiques (`Geopandas`), récupération de données (webscraping, API)…\n",
    "2.  **Visualisation de données** : visualisations classiques (`Matplotlib`, `Seaborn`), cartographie, visualisations réactives (`Plotly`, `Folium`)\n",
    "3.  **Modélisation** : *machine learning* (`Scikit`), économétrie\n",
    "4.  **Traitement de données textuelles** (NLP): découverte de la tokenisation avec `NLTK` et `SpaCy`, modélisation…\n",
    "5.  **Introduction à la *data science* moderne** : *cloud computing*, `ElasticSearch`, intégration continue…\n",
    "\n",
    "L’ensemble du contenu de ce site s’appuie sur des **données\n",
    "ouvertes**, qu’il s’agisse de données françaises (principalement\n",
    "issues de la plateforme\n",
    "centralisatrice [`data.gouv`](https://www.data.gouv.fr) ou du site\n",
    "*web* de l’[Insee](https://www.insee.fr)) ou de données\n",
    "américaines. Le programme est présenté de manière linéaire dans la partie supérieure de cette page (👆️) ou de manière désordonnée ci-dessous (👇️).\n",
    "\n",
    "Un bon complément du contenu du site web est le cours que nous donnons avec Romain Avouac en dernière année de l’ENSAE plus tourné autour de la mise en production de projets *data science* : [https://ensae-reproductibilite.github.io/](https://ensae-reproductibilite.github.io/website/)"
   ]
  },
  {
   "cell_type": "raw",
   "id": "34a8fb75-28a1-4bf7-939e-b8f70c79f387",
   "metadata": {},
   "source": [
    "</details>"
   ]
  },
  {
   "cell_type": "markdown",
   "id": "8dc2b6d4-3b93-42e5-8c3d-8cdf7cd0ae69",
   "metadata": {},
   "source": [
    ":::::\n",
    "\n",
    "![](https://minio.lab.sspcloud.fr/lgaliana/generative-art/pythonds/kiddos.png)\n",
    "\n",
    "::::\n",
    "\n",
    ":::"
   ]
  }
 ],
 "metadata": {
  "kernelspec": {
   "display_name": "Python 3",
   "language": "python",
   "name": "python3"
  }
 },
 "nbformat": 4,
 "nbformat_minor": 5
}

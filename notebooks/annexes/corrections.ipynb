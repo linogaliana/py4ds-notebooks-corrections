{
 "cells": [
  {
   "cell_type": "markdown",
   "id": "65346ca2-5263-41c7-9ea8-776799ad3b51",
   "metadata": {},
   "source": [
    "# Corrections\n",
    "\n",
    "Lino Galiana  \n",
    "2025-10-07"
   ]
  }
 ],
 "metadata": {
  "kernelspec": {
   "display_name": "Python 3",
   "language": "python",
   "name": "python3"
  }
 },
 "nbformat": 4,
 "nbformat_minor": 5
}

{
 "cells": [
  {
   "cell_type": "markdown",
   "id": "b64d7e52-be87-480e-bef8-04b056b90151",
   "metadata": {},
   "source": [
    "# L’analyse fréquentiste par l’approche bag-of-words : intérêt et\n",
    "\n",
    "limites\n",
    "\n",
    "Lino Galiana  \n",
    "2025-10-07\n",
    "\n",
    "<div class=\"badge-container\"><div class=\"badge-text\">Pour essayer les exemples présents dans ce tutoriel :</div><a href=\"https://github.com/linogaliana/python-datascientist-notebooks/blob/main/notebooks/NLP/02_exoclean.ipynb\" target=\"_blank\" rel=\"noopener\"><img src=\"https://img.shields.io/static/v1?logo=github&label=&message=View%20on%20GitHub&color=181717\" alt=\"View on GitHub\"></a>\n",
    "<a href=\"https://datalab.sspcloud.fr/launcher/ide/vscode-python?autoLaunch=true&name=«02_exoclean»&init.personalInit=«https%3A%2F%2Fraw.githubusercontent.com%2Flinogaliana%2Fpython-datascientist%2Fmain%2Fsspcloud%2Finit-vscode.sh»&init.personalInitArgs=«NLP%2002_exoclean%20correction»\" target=\"_blank\" rel=\"noopener\"><img src=\"https://custom-icon-badges.demolab.com/badge/SSP%20Cloud-Lancer_avec_VSCode-blue?logo=vsc&logoColor=white\" alt=\"Onyxia\"></a>\n",
    "<a href=\"https://datalab.sspcloud.fr/launcher/ide/jupyter-python?autoLaunch=true&name=«02_exoclean»&init.personalInit=«https%3A%2F%2Fraw.githubusercontent.com%2Flinogaliana%2Fpython-datascientist%2Fmain%2Fsspcloud%2Finit-jupyter.sh»&init.personalInitArgs=«NLP%2002_exoclean%20correction»\" target=\"_blank\" rel=\"noopener\"><img src=\"https://img.shields.io/badge/SSP%20Cloud-Lancer_avec_Jupyter-orange?logo=Jupyter&logoColor=orange\" alt=\"Onyxia\"></a>\n",
    "<a href=\"https://colab.research.google.com/github/linogaliana/python-datascientist-notebooks-colab//blob/main//notebooks/NLP/02_exoclean.ipynb\" target=\"_blank\" rel=\"noopener\"><img src=\"https://colab.research.google.com/assets/colab-badge.svg\" alt=\"Open In Colab\"></a><br></div>\n",
    "\n",
    "Pour avancer dans ce chapitre, nous avons besoin de quelques installations préalables:"
   ]
  },
  {
   "cell_type": "code",
   "execution_count": null,
   "id": "fc869d78",
   "metadata": {},
   "outputs": [],
   "source": [
    "!pip install spacy\n",
    "!python -m spacy download en_core_web_sm\n",
    "!python -m spacy download fr_core_news_sm"
   ]
  },
  {
   "cell_type": "markdown",
   "id": "cf97ac50-cad6-46e3-9768-e3ac9425c00d",
   "metadata": {},
   "source": [
    "Il est également utile de définir la fonction suivante, issue de notre chapitre précédent :"
   ]
  },
  {
   "cell_type": "code",
   "execution_count": null,
   "id": "c7690d4d",
   "metadata": {},
   "outputs": [],
   "source": [
    "def clean_text(doc):\n",
    "    # Tokenize, remove stop words and punctuation, and lemmatize\n",
    "    cleaned_tokens = [token.lemma_ for token in doc if not token.is_stop and not token.is_punct]\n",
    "    # Join tokens back into a single string\n",
    "    cleaned_text = ' '.join(cleaned_tokens)\n",
    "    return cleaned_text"
   ]
  },
  {
   "cell_type": "markdown",
   "id": "7c408bc3-7170-465a-9b47-a073985991ee",
   "metadata": {},
   "source": [
    "# 1. Introduction\n",
    "\n",
    "Nous avons vu, précédemment, l’intérêt de nettoyer les données pour dégrossir le volume d’information présent dans nos données non structurées. L’objectif de ce chapitre est d’approfondir notre compréhension de l’approche fréquentiste appliquée aux données textuelles. Nous allons évoquer la manière dont cette analyse fréquentiste permet de synthétiser l’information présente dans un corpus textuel. Nous allons également voir la manière dont on peut raffiner l’approche *bag of words* en tenant compte de l’ordre de la proximité des termes dans une phrase.\n",
    "\n",
    "## 1.1 Données\n",
    "\n",
    "Nous allons reprendre le jeu de données anglo-saxon du chapitre précédent, à savoir\n",
    "des textes des auteurs fantastiques [Edgar Allan Poe](https://fr.wikipedia.org/wiki/Edgar_Allan_Poe) (*EAP*), [HP Lovecraft](https://fr.wikipedia.org/wiki/H._P._Lovecraft) (*HPL*) et [Mary Wollstonecraft Shelley](https://fr.wikipedia.org/wiki/Mary_Shelley) (*MWS*)."
   ]
  },
  {
   "cell_type": "code",
   "execution_count": null,
   "id": "e394f3e9",
   "metadata": {},
   "outputs": [],
   "source": [
    "import pandas as pd\n",
    "\n",
    "url='https://github.com/GU4243-ADS/spring2018-project1-ginnyqg/raw/master/data/spooky.csv'\n",
    "#1. Import des données\n",
    "horror = pd.read_csv(url,encoding='latin-1')\n",
    "#2. Majuscules aux noms des colonnes\n",
    "horror.columns = horror.columns.str.capitalize()\n",
    "#3. Retirer le prefixe id\n",
    "horror['ID'] = horror['Id'].str.replace(\"id\",\"\")\n",
    "horror = horror.set_index('Id')"
   ]
  },
  {
   "cell_type": "markdown",
   "id": "d81f6893-f5c7-4e3e-8619-5c3cdba9b6b1",
   "metadata": {},
   "source": [
    "``` python\n",
    "```"
   ]
  },
  {
   "cell_type": "code",
   "execution_count": null,
   "id": "2595de20",
   "metadata": {},
   "outputs": [],
   "source": [
    "# Function to clean the text\n",
    "def clean_text(doc):\n",
    "    # Tokenize, remove stop words and punctuation, and lemmatize\n",
    "    cleaned_tokens = [token.lemma_ for token in doc if not token.is_stop and not token.is_punct]\n",
    "    # Join tokens back into a single string\n",
    "    cleaned_text = ' '.join(cleaned_tokens)\n",
    "    return cleaned_text"
   ]
  },
  {
   "cell_type": "code",
   "execution_count": null,
   "id": "23bbe84f",
   "metadata": {},
   "outputs": [],
   "source": [
    "import spacy\n",
    "nlp_english = spacy.load('en_core_web_sm')\n",
    "stopwords = nlp_english.Defaults.stop_words"
   ]
  },
  {
   "cell_type": "code",
   "execution_count": null,
   "id": "clean-stopwords-horror",
   "metadata": {},
   "outputs": [],
   "source": [
    "docs = nlp_english.pipe(horror[\"Text\"])\n",
    "cleaned_texts = [clean_text(doc) for doc in docs]\n",
    "horror['preprocessed_text'] = cleaned_texts"
   ]
  },
  {
   "cell_type": "markdown",
   "id": "5f8e4cee-a914-4c59-89eb-348de180c4cb",
   "metadata": {},
   "source": [
    "# 2. La mesure TF-IDF (*term frequency - inverse document frequency*)\n",
    "\n",
    "## 2.1 La matrice documents - termes\n",
    "\n",
    "Comme nous l’avons évoqué précédemment, nous construisons une représentation synthétique de notre corpus comme un sac de mots dans lesquels on pioche plus ou moins fréquemment des mots selon leur fréquence d’apparition. C’est bien sûr une représentation simpliste de la réalité : les séquences de mots ne sont pas une suite aléatoire indépendante de mots.\n",
    "\n",
    "Cependant, avant d’évoquer ces enjeux, il nous reste à aller au bout de l’approche sac de mots. La représentation la plus caractéristique de ce paradigme est la matrice document-terme, principalement utilisée pour comparer des corpus. Celle-ci consiste à créer une matrice où chaque document est représenté par la présence ou l’absence des termes de notre corpus. L’idée est de compter le nombre de fois où les mots (les termes, en colonne) sont présents dans chaque phrase ou libellé (le document, en ligne). Cette matrice fournit alors une représentation numérique des données textuelles.\n",
    "\n",
    "Considérons un corpus constitué des trois phrases suivantes :\n",
    "\n",
    "-   *“La pratique du tricot et du crochet”*\n",
    "-   *“Transmettre la passion du timbre”*\n",
    "-   *“Vivre de sa passion”*\n",
    "\n",
    "La matrice document-terme associée à ce corpus est la suivante :\n",
    "\n",
    "|  | crochet | de | du | et | la | passion | pratique | sa | timbre | transmettre | tricot | vivre |\n",
    "|-------------------|:----:|:-:|:-:|:-:|:-:|:----:|:----:|:-:|:---:|:------:|:---:|:---:|\n",
    "| La pratique du tricot et du crochet | 1 | 0 | 2 | 1 | 1 | 0 | 1 | 0 | 0 | 0 | 1 | 0 |\n",
    "| Transmettre sa passion du timbre | 0 | 0 | 1 | 0 | 0 | 1 | 0 | 1 | 1 | 1 | 0 | 0 |\n",
    "| Vivre de sa passion | 0 | 1 | 0 | 0 | 0 | 1 | 0 | 1 | 0 | 0 | 0 | 1 |\n",
    "\n",
    "Chaque phrase du corpus est associée à un vecteur numérique. Par exemple,\n",
    "la phrase *“La pratique du tricot et du crochet”*, qui n’a pas de sens en soi pour une machine, devient un vecteur numérique intelligible pour elle égal à `[1, 0, 2, 1, 1, 0, 1, 0, 0, 0, 1, 0]`. Ce vecteur numérique est une représentation creuse (*sparse*) du langage puisque chaque document (ligne) ne comportera qu’une petite partie du vocabulaire total (l’ensemble des colonnes). Pour tous les mots qui n’apparaîtront pas dans le document, on aura des 0, d’où un vecteur *sparse*. Comme nous le verrons par la suite, cette représentation numérique diffère grandement des approches modernes d’*embeddings*, basées sur l’idée de représentation denses.\n",
    "\n",
    "## 2.2 Utilisation pour l’extraction d’informations\n",
    "\n",
    "Différents documents peuvent alors être rapprochés sur la base de ces mesures. C’est l’une des manières de procéder des moteurs de recherche même si les meilleurs utilisent des approches bien plus sophistiquées. La métrique [tf-idf](https://fr.wikipedia.org/wiki/TF-IDF) (*term frequency–inverse document frequency*)\n",
    "permet de calculer un score de proximité entre un terme de recherche et un\n",
    "document à partir de deux composantes :\n",
    "\n",
    "$$\n",
    "\\text{tf-idf}(t, d, D) = \\text{tf}(t, d) \\times \\text{idf}(t, D)\n",
    "$$\n",
    "\n",
    "avec $t$ un terme particulier (par exemple un mot), $d$ un document particulier et $D$ l’ensemble de documents dans le corpus.\n",
    "\n",
    "-   La partie `tf` calcule une fonction croissante de la fréquence du terme de recherche dans le document à l’étude ;\n",
    "\n",
    "-   La partie `idf` calcule une fonction inversement proportionnelle à la fréquence du terme dans l’ensemble des documents (ou corpus).\n",
    "\n",
    "-   La première partie (*term-frequency*, TF) est la fréquence d’apparition du terme terme $t$ dans le document $d$. Il existe des mesures de normalisation pour éviter de biaiser la mesure en cas de documents longs.\n",
    "\n",
    "$$\n",
    "\\text{tf}(t, d) = \\frac{f_{t,d}}{\\sum_{t' \\in d} f_{t',d}}\n",
    "$$\n",
    "\n",
    "où $f_{t,d}$ est le nombre brut de fois que le terme $t$ apparaît dans le document $d$ et le dénominateur est le nombre de termes dans le document $d$.\n",
    "\n",
    "-   La seconde partie (*inverse document frequency*, IDF) mesure la rareté, ou au contraire l’aspect commun, d’un terme dans l’ensemble du corpus. Si $N$ est le nombre total de documents dans le corpus $D$, cette partie de la mesure sera\n",
    "\n",
    "$$\n",
    "\\text{idf}(t, D) = \\log \\left( \\frac{N}{|\\{d \\in D : t \\in d\\}|} \\right)\n",
    "$$\n",
    "\n",
    "Le dénominateur $( |\\{d \\in D : t \\in d\\}| )$ correspond au nombre de documents contenant le terme $t$, s’il apparaît. Plus le mot est rare, plus sa présence dans un document sera surpondérée.\n",
    "\n",
    "De nombreux moteurs de recherche utilisent cette logique pour rechercher les documents les plus pertinents pour répondre à des termes de recherche. C’est notamment le cas d’ [`ElasticSearch`](https://www.elastic.co/fr/elasticsearch), le logiciel qui permet d’implémenter des moteurs de recherche efficaces. Pour classer les documents les plus pertinents par rapport à des termes de recherche, ce logiciel utilise notamment la mesure de distance [BM25](https://en.wikipedia.org/wiki/Okapi_BM25) qui est une version sophistiquée de la mesure TF-IDF.\n",
    "\n",
    "## 2.3 Exemple\n",
    "\n",
    "Prenons une illustration à partir d’un petit corpus. Le code suivant implémente une mesure TF-IDF. Celle-ci est légèrement différente de celle définie ci-dessus pour s’assurer de ne pas effectuer de division par zéro."
   ]
  },
  {
   "cell_type": "code",
   "execution_count": null,
   "id": "7a3bc8bc",
   "metadata": {},
   "outputs": [],
   "source": [
    "import numpy as np\n",
    "\n",
    "# Documents d'exemple\n",
    "documents = [\n",
    "    \"Le corbeau et le renard\",\n",
    "    \"Rusé comme un renard\",\n",
    "    \"Le chat est orange comme un renard\"\n",
    "]\n",
    "\n",
    "# Tokenisation\n",
    "def preprocess(doc):\n",
    "    return doc.lower().split()\n",
    "\n",
    "tokenized_docs = [preprocess(doc) for doc in documents]\n",
    "\n",
    "# Term frequency (TF)\n",
    "def term_frequency(term, tokenized_doc):\n",
    "    term_count = tokenized_doc.count(term)\n",
    "    return term_count / len(tokenized_doc)\n",
    "\n",
    "# Inverse document frequency (DF)\n",
    "def document_frequency(term, tokenized_docs):\n",
    "    return sum(1 for doc in tokenized_docs if term in doc)\n",
    "\n",
    "# Calculate inverse document frequency (IDF)\n",
    "def inverse_document_frequency(word, corpus):\n",
    "    # Normalisation avec + 1 pour éviter la division par zéro\n",
    "    count_of_documents = len(corpus) + 1\n",
    "    count_of_documents_with_word = sum([1 for doc in corpus if word in doc]) + 1\n",
    "    idf = np.log10(count_of_documents/count_of_documents_with_word) + 1\n",
    "    return idf\n",
    "\n",
    "# Calculate TF-IDF scores in each document\n",
    "def tf_idf_term(term):\n",
    "  tf_idf_scores = pd.DataFrame(\n",
    "    [\n",
    "      [\n",
    "      term_frequency(term, doc),\n",
    "      inverse_document_frequency(term, tokenized_docs)\n",
    "      ] for doc in tokenized_docs\n",
    "    ],\n",
    "    columns = [\"TF\", \"IDF\"]\n",
    "  )\n",
    "  tf_idf_scores[\"TF-IDF\"] = tf_idf_scores[\"TF\"] * tf_idf_scores[\"IDF\"]\n",
    "  return tf_idf_scores"
   ]
  },
  {
   "cell_type": "markdown",
   "id": "2b37e077-c100-40a5-b892-011ebd038d17",
   "metadata": {},
   "source": [
    "Commençons par calculer TF-IDF du mot “chat” pour chaque document. De manière\n",
    "naturelle, c’est le troisième document, le seul où apparaît le mot qui a la valeur maximale :"
   ]
  },
  {
   "cell_type": "code",
   "execution_count": null,
   "id": "60f0da87",
   "metadata": {},
   "outputs": [
    {
     "data": {
      "text/html": [
       "\n",
       "</div>"
      ]
     },
     "metadata": {},
     "output_type": "display_data"
    }
   ],
   "source": [
    "tf_idf_term(\"chat\")"
   ]
  },
  {
   "cell_type": "markdown",
   "id": "dc1c6d64-6d86-4323-830d-53a0e3775c35",
   "metadata": {},
   "source": [
    "Qu’en est-il du terme renard qui apparaît dans tous les documents (dont la partie $\\text{idf}$ est donc égale à 1) ? Dans ce cas, c’est le document où le mot est le plus fréquent, en l’occurrence le 2e, qui a la mesure maximale."
   ]
  },
  {
   "cell_type": "code",
   "execution_count": null,
   "id": "a677cd09",
   "metadata": {},
   "outputs": [
    {
     "data": {
      "text/html": [
       "\n",
       "</div>"
      ]
     },
     "metadata": {},
     "output_type": "display_data"
    }
   ],
   "source": [
    "tf_idf_term(\"renard\")"
   ]
  },
  {
   "cell_type": "markdown",
   "id": "e67a4998-bb98-4bb5-a7ef-dec295a102c1",
   "metadata": {},
   "source": [
    "## 2.4 Application\n",
    "\n",
    "L’exemple précédent ne passait pas très bien à l’échelle. Heureusement, `Scikit` propose une implémentation de la recherche par vecteur TF-IDF que nous pouvons explorer avec un nouvel exercice.\n",
    "\n",
    "> **Exercice 1 : TF-IDF : calcul de fréquence**\n",
    ">\n",
    "> 1.  Utiliser le vectoriseur TF-IdF de `scikit-learn` pour transformer notre corpus en une matrice `document x terms`. Au passage, utiliser l’option `stop_words` pour ne pas provoquer une inflation de la taille de la matrice. Nommer le modèle `tfidf` et le jeu entraîné `tfs`.\n",
    "> 2.  Après avoir construit la matrice de documents x terms avec le code suivant, rechercher les lignes où les termes ayant la structure `abandon` sont non-nuls.\n",
    "> 3.  Trouver les 50 extraits où le score TF-IDF du mot *“fear”* est le plus élevé et l’auteur associé. Déterminer la répartition des auteurs dans ces 50 documents.\n",
    "> 4.  Observer les 10 scores où TF-IDF de *“fear”* sont les plus élevés\n",
    ">\n",
    "> <details>\n",
    ">\n",
    "> <summary>\n",
    ">\n",
    "> Aide pour la question 2\n",
    ">\n",
    "> </summary>\n",
    ">\n",
    "> ``` python\n",
    "> feature_names = tfidf.get_feature_names_out()\n",
    "> corpus_index = [n for n in list(tfidf.vocabulary_.keys())]\n",
    "> horror_dense = pd.DataFrame(tfs.todense(), columns=feature_names)\n",
    "> ```\n",
    ">\n",
    "> </details>\n",
    "\n",
    "Le vectoriseur obtenu à l’issue de la question 1 est\n",
    "le suivant :"
   ]
  },
  {
   "cell_type": "code",
   "execution_count": null,
   "id": "e15d16d5",
   "metadata": {},
   "outputs": [
    {
     "data": {
      "text/html": [
       "<style>#sk-container-id-1 {\n",
       "  /* Definition of color scheme common for light and dark mode */\n",
       "  --sklearn-color-text: #000;\n",
       "  --sklearn-color-text-muted: #666;\n",
       "  --sklearn-color-line: gray;\n",
       "  /* Definition of color scheme for unfitted estimators */\n",
       "  --sklearn-color-unfitted-level-0: #fff5e6;\n",
       "  --sklearn-color-unfitted-level-1: #f6e4d2;\n",
       "  --sklearn-color-unfitted-level-2: #ffe0b3;\n",
       "  --sklearn-color-unfitted-level-3: chocolate;\n",
       "  /* Definition of color scheme for fitted estimators */\n",
       "  --sklearn-color-fitted-level-0: #f0f8ff;\n",
       "  --sklearn-color-fitted-level-1: #d4ebff;\n",
       "  --sklearn-color-fitted-level-2: #b3dbfd;\n",
       "  --sklearn-color-fitted-level-3: cornflowerblue;\n",
       "\n",
       "  /* Specific color for light theme */\n",
       "  --sklearn-color-text-on-default-background: var(--sg-text-color, var(--theme-code-foreground, var(--jp-content-font-color1, black)));\n",
       "  --sklearn-color-background: var(--sg-background-color, var(--theme-background, var(--jp-layout-color0, white)));\n",
       "  --sklearn-color-border-box: var(--sg-text-color, var(--theme-code-foreground, var(--jp-content-font-color1, black)));\n",
       "  --sklearn-color-icon: #696969;\n",
       "\n",
       "  @media (prefers-color-scheme: dark) {\n",
       "    /* Redefinition of color scheme for dark theme */\n",
       "    --sklearn-color-text-on-default-background: var(--sg-text-color, var(--theme-code-foreground, var(--jp-content-font-color1, white)));\n",
       "    --sklearn-color-background: var(--sg-background-color, var(--theme-background, var(--jp-layout-color0, #111)));\n",
       "    --sklearn-color-border-box: var(--sg-text-color, var(--theme-code-foreground, var(--jp-content-font-color1, white)));\n",
       "    --sklearn-color-icon: #878787;\n",
       "  }\n",
       "}\n",
       "\n",
       "#sk-container-id-1 {\n",
       "  color: var(--sklearn-color-text);\n",
       "}\n",
       "\n",
       "#sk-container-id-1 pre {\n",
       "  padding: 0;\n",
       "}\n",
       "\n",
       "#sk-container-id-1 input.sk-hidden--visually {\n",
       "  border: 0;\n",
       "  clip: rect(1px 1px 1px 1px);\n",
       "  clip: rect(1px, 1px, 1px, 1px);\n",
       "  height: 1px;\n",
       "  margin: -1px;\n",
       "  overflow: hidden;\n",
       "  padding: 0;\n",
       "  position: absolute;\n",
       "  width: 1px;\n",
       "}\n",
       "\n",
       "#sk-container-id-1 div.sk-dashed-wrapped {\n",
       "  border: 1px dashed var(--sklearn-color-line);\n",
       "  margin: 0 0.4em 0.5em 0.4em;\n",
       "  box-sizing: border-box;\n",
       "  padding-bottom: 0.4em;\n",
       "  background-color: var(--sklearn-color-background);\n",
       "}\n",
       "\n",
       "#sk-container-id-1 div.sk-container {\n",
       "  /* jupyter's `normalize.less` sets `[hidden] { display: none; }`\n",
       "     but bootstrap.min.css set `[hidden] { display: none !important; }`\n",
       "     so we also need the `!important` here to be able to override the\n",
       "     default hidden behavior on the sphinx rendered scikit-learn.org.\n",
       "     See: https://github.com/scikit-learn/scikit-learn/issues/21755 */\n",
       "  display: inline-block !important;\n",
       "  position: relative;\n",
       "}\n",
       "\n",
       "#sk-container-id-1 div.sk-text-repr-fallback {\n",
       "  display: none;\n",
       "}\n",
       "\n",
       "div.sk-parallel-item,\n",
       "div.sk-serial,\n",
       "div.sk-item {\n",
       "  /* draw centered vertical line to link estimators */\n",
       "  background-image: linear-gradient(var(--sklearn-color-text-on-default-background), var(--sklearn-color-text-on-default-background));\n",
       "  background-size: 2px 100%;\n",
       "  background-repeat: no-repeat;\n",
       "  background-position: center center;\n",
       "}\n",
       "\n",
       "/* Parallel-specific style estimator block */\n",
       "\n",
       "#sk-container-id-1 div.sk-parallel-item::after {\n",
       "  content: \"\";\n",
       "  width: 100%;\n",
       "  border-bottom: 2px solid var(--sklearn-color-text-on-default-background);\n",
       "  flex-grow: 1;\n",
       "}\n",
       "\n",
       "#sk-container-id-1 div.sk-parallel {\n",
       "  display: flex;\n",
       "  align-items: stretch;\n",
       "  justify-content: center;\n",
       "  background-color: var(--sklearn-color-background);\n",
       "  position: relative;\n",
       "}\n",
       "\n",
       "#sk-container-id-1 div.sk-parallel-item {\n",
       "  display: flex;\n",
       "  flex-direction: column;\n",
       "}\n",
       "\n",
       "#sk-container-id-1 div.sk-parallel-item:first-child::after {\n",
       "  align-self: flex-end;\n",
       "  width: 50%;\n",
       "}\n",
       "\n",
       "#sk-container-id-1 div.sk-parallel-item:last-child::after {\n",
       "  align-self: flex-start;\n",
       "  width: 50%;\n",
       "}\n",
       "\n",
       "#sk-container-id-1 div.sk-parallel-item:only-child::after {\n",
       "  width: 0;\n",
       "}\n",
       "\n",
       "/* Serial-specific style estimator block */\n",
       "\n",
       "#sk-container-id-1 div.sk-serial {\n",
       "  display: flex;\n",
       "  flex-direction: column;\n",
       "  align-items: center;\n",
       "  background-color: var(--sklearn-color-background);\n",
       "  padding-right: 1em;\n",
       "  padding-left: 1em;\n",
       "}\n",
       "\n",
       "\n",
       "/* Toggleable style: style used for estimator/Pipeline/ColumnTransformer box that is\n",
       "clickable and can be expanded/collapsed.\n",
       "- Pipeline and ColumnTransformer use this feature and define the default style\n",
       "- Estimators will overwrite some part of the style using the `sk-estimator` class\n",
       "*/\n",
       "\n",
       "/* Pipeline and ColumnTransformer style (default) */\n",
       "\n",
       "#sk-container-id-1 div.sk-toggleable {\n",
       "  /* Default theme specific background. It is overwritten whether we have a\n",
       "  specific estimator or a Pipeline/ColumnTransformer */\n",
       "  background-color: var(--sklearn-color-background);\n",
       "}\n",
       "\n",
       "/* Toggleable label */\n",
       "#sk-container-id-1 label.sk-toggleable__label {\n",
       "  cursor: pointer;\n",
       "  display: flex;\n",
       "  width: 100%;\n",
       "  margin-bottom: 0;\n",
       "  padding: 0.5em;\n",
       "  box-sizing: border-box;\n",
       "  text-align: center;\n",
       "  align-items: start;\n",
       "  justify-content: space-between;\n",
       "  gap: 0.5em;\n",
       "}\n",
       "\n",
       "#sk-container-id-1 label.sk-toggleable__label .caption {\n",
       "  font-size: 0.6rem;\n",
       "  font-weight: lighter;\n",
       "  color: var(--sklearn-color-text-muted);\n",
       "}\n",
       "\n",
       "#sk-container-id-1 label.sk-toggleable__label-arrow:before {\n",
       "  /* Arrow on the left of the label */\n",
       "  content: \"▸\";\n",
       "  float: left;\n",
       "  margin-right: 0.25em;\n",
       "  color: var(--sklearn-color-icon);\n",
       "}\n",
       "\n",
       "#sk-container-id-1 label.sk-toggleable__label-arrow:hover:before {\n",
       "  color: var(--sklearn-color-text);\n",
       "}\n",
       "\n",
       "/* Toggleable content - dropdown */\n",
       "\n",
       "#sk-container-id-1 div.sk-toggleable__content {\n",
       "  max-height: 0;\n",
       "  max-width: 0;\n",
       "  overflow: hidden;\n",
       "  text-align: left;\n",
       "  /* unfitted */\n",
       "  background-color: var(--sklearn-color-unfitted-level-0);\n",
       "}\n",
       "\n",
       "#sk-container-id-1 div.sk-toggleable__content.fitted {\n",
       "  /* fitted */\n",
       "  background-color: var(--sklearn-color-fitted-level-0);\n",
       "}\n",
       "\n",
       "#sk-container-id-1 div.sk-toggleable__content pre {\n",
       "  margin: 0.2em;\n",
       "  border-radius: 0.25em;\n",
       "  color: var(--sklearn-color-text);\n",
       "  /* unfitted */\n",
       "  background-color: var(--sklearn-color-unfitted-level-0);\n",
       "}\n",
       "\n",
       "#sk-container-id-1 div.sk-toggleable__content.fitted pre {\n",
       "  /* unfitted */\n",
       "  background-color: var(--sklearn-color-fitted-level-0);\n",
       "}\n",
       "\n",
       "#sk-container-id-1 input.sk-toggleable__control:checked~div.sk-toggleable__content {\n",
       "  /* Expand drop-down */\n",
       "  max-height: 200px;\n",
       "  max-width: 100%;\n",
       "  overflow: auto;\n",
       "}\n",
       "\n",
       "#sk-container-id-1 input.sk-toggleable__control:checked~label.sk-toggleable__label-arrow:before {\n",
       "  content: \"▾\";\n",
       "}\n",
       "\n",
       "/* Pipeline/ColumnTransformer-specific style */\n",
       "\n",
       "#sk-container-id-1 div.sk-label input.sk-toggleable__control:checked~label.sk-toggleable__label {\n",
       "  color: var(--sklearn-color-text);\n",
       "  background-color: var(--sklearn-color-unfitted-level-2);\n",
       "}\n",
       "\n",
       "#sk-container-id-1 div.sk-label.fitted input.sk-toggleable__control:checked~label.sk-toggleable__label {\n",
       "  background-color: var(--sklearn-color-fitted-level-2);\n",
       "}\n",
       "\n",
       "/* Estimator-specific style */\n",
       "\n",
       "/* Colorize estimator box */\n",
       "#sk-container-id-1 div.sk-estimator input.sk-toggleable__control:checked~label.sk-toggleable__label {\n",
       "  /* unfitted */\n",
       "  background-color: var(--sklearn-color-unfitted-level-2);\n",
       "}\n",
       "\n",
       "#sk-container-id-1 div.sk-estimator.fitted input.sk-toggleable__control:checked~label.sk-toggleable__label {\n",
       "  /* fitted */\n",
       "  background-color: var(--sklearn-color-fitted-level-2);\n",
       "}\n",
       "\n",
       "#sk-container-id-1 div.sk-label label.sk-toggleable__label,\n",
       "#sk-container-id-1 div.sk-label label {\n",
       "  /* The background is the default theme color */\n",
       "  color: var(--sklearn-color-text-on-default-background);\n",
       "}\n",
       "\n",
       "/* On hover, darken the color of the background */\n",
       "#sk-container-id-1 div.sk-label:hover label.sk-toggleable__label {\n",
       "  color: var(--sklearn-color-text);\n",
       "  background-color: var(--sklearn-color-unfitted-level-2);\n",
       "}\n",
       "\n",
       "/* Label box, darken color on hover, fitted */\n",
       "#sk-container-id-1 div.sk-label.fitted:hover label.sk-toggleable__label.fitted {\n",
       "  color: var(--sklearn-color-text);\n",
       "  background-color: var(--sklearn-color-fitted-level-2);\n",
       "}\n",
       "\n",
       "/* Estimator label */\n",
       "\n",
       "#sk-container-id-1 div.sk-label label {\n",
       "  font-family: monospace;\n",
       "  font-weight: bold;\n",
       "  display: inline-block;\n",
       "  line-height: 1.2em;\n",
       "}\n",
       "\n",
       "#sk-container-id-1 div.sk-label-container {\n",
       "  text-align: center;\n",
       "}\n",
       "\n",
       "/* Estimator-specific */\n",
       "#sk-container-id-1 div.sk-estimator {\n",
       "  font-family: monospace;\n",
       "  border: 1px dotted var(--sklearn-color-border-box);\n",
       "  border-radius: 0.25em;\n",
       "  box-sizing: border-box;\n",
       "  margin-bottom: 0.5em;\n",
       "  /* unfitted */\n",
       "  background-color: var(--sklearn-color-unfitted-level-0);\n",
       "}\n",
       "\n",
       "#sk-container-id-1 div.sk-estimator.fitted {\n",
       "  /* fitted */\n",
       "  background-color: var(--sklearn-color-fitted-level-0);\n",
       "}\n",
       "\n",
       "/* on hover */\n",
       "#sk-container-id-1 div.sk-estimator:hover {\n",
       "  /* unfitted */\n",
       "  background-color: var(--sklearn-color-unfitted-level-2);\n",
       "}\n",
       "\n",
       "#sk-container-id-1 div.sk-estimator.fitted:hover {\n",
       "  /* fitted */\n",
       "  background-color: var(--sklearn-color-fitted-level-2);\n",
       "}\n",
       "\n",
       "/* Specification for estimator info (e.g. \"i\" and \"?\") */\n",
       "\n",
       "/* Common style for \"i\" and \"?\" */\n",
       "\n",
       ".sk-estimator-doc-link,\n",
       "a:link.sk-estimator-doc-link,\n",
       "a:visited.sk-estimator-doc-link {\n",
       "  float: right;\n",
       "  font-size: smaller;\n",
       "  line-height: 1em;\n",
       "  font-family: monospace;\n",
       "  background-color: var(--sklearn-color-background);\n",
       "  border-radius: 1em;\n",
       "  height: 1em;\n",
       "  width: 1em;\n",
       "  text-decoration: none !important;\n",
       "  margin-left: 0.5em;\n",
       "  text-align: center;\n",
       "  /* unfitted */\n",
       "  border: var(--sklearn-color-unfitted-level-1) 1pt solid;\n",
       "  color: var(--sklearn-color-unfitted-level-1);\n",
       "}\n",
       "\n",
       ".sk-estimator-doc-link.fitted,\n",
       "a:link.sk-estimator-doc-link.fitted,\n",
       "a:visited.sk-estimator-doc-link.fitted {\n",
       "  /* fitted */\n",
       "  border: var(--sklearn-color-fitted-level-1) 1pt solid;\n",
       "  color: var(--sklearn-color-fitted-level-1);\n",
       "}\n",
       "\n",
       "/* On hover */\n",
       "div.sk-estimator:hover .sk-estimator-doc-link:hover,\n",
       ".sk-estimator-doc-link:hover,\n",
       "div.sk-label-container:hover .sk-estimator-doc-link:hover,\n",
       ".sk-estimator-doc-link:hover {\n",
       "  /* unfitted */\n",
       "  background-color: var(--sklearn-color-unfitted-level-3);\n",
       "  color: var(--sklearn-color-background);\n",
       "  text-decoration: none;\n",
       "}\n",
       "\n",
       "div.sk-estimator.fitted:hover .sk-estimator-doc-link.fitted:hover,\n",
       ".sk-estimator-doc-link.fitted:hover,\n",
       "div.sk-label-container:hover .sk-estimator-doc-link.fitted:hover,\n",
       ".sk-estimator-doc-link.fitted:hover {\n",
       "  /* fitted */\n",
       "  background-color: var(--sklearn-color-fitted-level-3);\n",
       "  color: var(--sklearn-color-background);\n",
       "  text-decoration: none;\n",
       "}\n",
       "\n",
       "/* Span, style for the box shown on hovering the info icon */\n",
       ".sk-estimator-doc-link span {\n",
       "  display: none;\n",
       "  z-index: 9999;\n",
       "  position: relative;\n",
       "  font-weight: normal;\n",
       "  right: .2ex;\n",
       "  padding: .5ex;\n",
       "  margin: .5ex;\n",
       "  width: min-content;\n",
       "  min-width: 20ex;\n",
       "  max-width: 50ex;\n",
       "  color: var(--sklearn-color-text);\n",
       "  box-shadow: 2pt 2pt 4pt #999;\n",
       "  /* unfitted */\n",
       "  background: var(--sklearn-color-unfitted-level-0);\n",
       "  border: .5pt solid var(--sklearn-color-unfitted-level-3);\n",
       "}\n",
       "\n",
       ".sk-estimator-doc-link.fitted span {\n",
       "  /* fitted */\n",
       "  background: var(--sklearn-color-fitted-level-0);\n",
       "  border: var(--sklearn-color-fitted-level-3);\n",
       "}\n",
       "\n",
       ".sk-estimator-doc-link:hover span {\n",
       "  display: block;\n",
       "}\n",
       "\n",
       "/* \"?\"-specific style due to the `<a>` HTML tag */\n",
       "\n",
       "#sk-container-id-1 a.estimator_doc_link {\n",
       "  float: right;\n",
       "  font-size: 1rem;\n",
       "  line-height: 1em;\n",
       "  font-family: monospace;\n",
       "  background-color: var(--sklearn-color-background);\n",
       "  border-radius: 1rem;\n",
       "  height: 1rem;\n",
       "  width: 1rem;\n",
       "  text-decoration: none;\n",
       "  /* unfitted */\n",
       "  color: var(--sklearn-color-unfitted-level-1);\n",
       "  border: var(--sklearn-color-unfitted-level-1) 1pt solid;\n",
       "}\n",
       "\n",
       "#sk-container-id-1 a.estimator_doc_link.fitted {\n",
       "  /* fitted */\n",
       "  border: var(--sklearn-color-fitted-level-1) 1pt solid;\n",
       "  color: var(--sklearn-color-fitted-level-1);\n",
       "}\n",
       "\n",
       "/* On hover */\n",
       "#sk-container-id-1 a.estimator_doc_link:hover {\n",
       "  /* unfitted */\n",
       "  background-color: var(--sklearn-color-unfitted-level-3);\n",
       "  color: var(--sklearn-color-background);\n",
       "  text-decoration: none;\n",
       "}\n",
       "\n",
       "#sk-container-id-1 a.estimator_doc_link.fitted:hover {\n",
       "  /* fitted */\n",
       "  background-color: var(--sklearn-color-fitted-level-3);\n",
       "}\n",
       "</style><div id=\"sk-container-id-1\" class=\"sk-top-container\"><div class=\"sk-text-repr-fallback\"><pre>TfidfVectorizer(stop_words=[&#x27;though&#x27;, &#x27;besides&#x27;, &#x27;within&#x27;, &#x27;well&#x27;, &#x27;or&#x27;, &#x27;whom&#x27;,\n",
       "                            &#x27;therefore&#x27;, &#x27;except&#x27;, &#x27;we&#x27;, &#x27;ten&#x27;, &#x27;thus&#x27;,\n",
       "                            &#x27;twelve&#x27;, &#x27;’s&#x27;, &#x27;everyone&#x27;, &#x27;other&#x27;, &#x27;always&#x27;,\n",
       "                            &#x27;much&#x27;, &#x27;show&#x27;, &#x27;nor&#x27;, &#x27;n’t&#x27;, &#x27;two&#x27;, &#x27;himself&#x27;,\n",
       "                            &#x27;yet&#x27;, &#x27;ourselves&#x27;, &#x27;then&#x27;, &#x27;nine&#x27;, &#x27;noone&#x27;, &#x27;with&#x27;,\n",
       "                            &#x27;yourselves&#x27;, &#x27;should&#x27;, ...])</pre><b>In a Jupyter environment, please rerun this cell to show the HTML representation or trust the notebook. <br />On GitHub, the HTML representation is unable to render, please try loading this page with nbviewer.org.</b></div><div class=\"sk-container\" hidden><div class=\"sk-item\"><div class=\"sk-estimator  sk-toggleable\"><input class=\"sk-toggleable__control sk-hidden--visually\" id=\"sk-estimator-id-1\" type=\"checkbox\" checked><label for=\"sk-estimator-id-1\" class=\"sk-toggleable__label  sk-toggleable__label-arrow\"><div><div>TfidfVectorizer</div></div><div><a class=\"sk-estimator-doc-link \" rel=\"noreferrer\" target=\"_blank\" href=\"https://scikit-learn.org/1.6/modules/generated/sklearn.feature_extraction.text.TfidfVectorizer.html\">?<span>Documentation for TfidfVectorizer</span></a><span class=\"sk-estimator-doc-link \">i<span>Not fitted</span></span></div></label><div class=\"sk-toggleable__content \"><pre>TfidfVectorizer(stop_words=[&#x27;though&#x27;, &#x27;besides&#x27;, &#x27;within&#x27;, &#x27;well&#x27;, &#x27;or&#x27;, &#x27;whom&#x27;,\n",
       "                            &#x27;therefore&#x27;, &#x27;except&#x27;, &#x27;we&#x27;, &#x27;ten&#x27;, &#x27;thus&#x27;,\n",
       "                            &#x27;twelve&#x27;, &#x27;’s&#x27;, &#x27;everyone&#x27;, &#x27;other&#x27;, &#x27;always&#x27;,\n",
       "                            &#x27;much&#x27;, &#x27;show&#x27;, &#x27;nor&#x27;, &#x27;n’t&#x27;, &#x27;two&#x27;, &#x27;himself&#x27;,\n",
       "                            &#x27;yet&#x27;, &#x27;ourselves&#x27;, &#x27;then&#x27;, &#x27;nine&#x27;, &#x27;noone&#x27;, &#x27;with&#x27;,\n",
       "                            &#x27;yourselves&#x27;, &#x27;should&#x27;, ...])</pre></div> </div></div></div></div>"
      ]
     },
     "metadata": {},
     "output_type": "display_data"
    }
   ],
   "source": [
    "#1. TfIdf de scikit\n",
    "from sklearn.feature_extraction.text import TfidfVectorizer\n",
    "tfidf = TfidfVectorizer(stop_words=list(stopwords))\n",
    "tfidf"
   ]
  },
  {
   "cell_type": "code",
   "execution_count": null,
   "id": "147dd0f1",
   "metadata": {},
   "outputs": [
    {
     "name": "stderr",
     "output_type": "stream",
     "text": [
      "/home/runner/work/python-datascientist/python-datascientist/.venv/lib/python3.12/site-packages/sklearn/feature_extraction/text.py:402: UserWarning:\n",
      "\n",
      "Your stop_words may be inconsistent with your preprocessing. Tokenizing the stop words generated tokens ['ll', 've'] not in stop_words.\n"
     ]
    }
   ],
   "source": [
    "tfs = tfidf.fit_transform(horror['Text'])"
   ]
  },
  {
   "cell_type": "code",
   "execution_count": null,
   "id": "3bbea34e",
   "metadata": {},
   "outputs": [
    {
     "data": {
      "text/html": [
       "\n",
       "<p>5 rows × 24783 columns</p>\n",
       "</div>"
      ]
     },
     "metadata": {},
     "output_type": "display_data"
    }
   ],
   "source": [
    "import pandas as pd\n",
    "\n",
    "feature_names = tfidf.get_feature_names_out()\n",
    "corpus_index = [n for n in list(tfidf.vocabulary_.keys())]\n",
    "horror_dense = pd.DataFrame(tfs.todense(), columns=feature_names)\n",
    "\n",
    "horror_dense.head()"
   ]
  },
  {
   "cell_type": "markdown",
   "id": "d74c9de0-6037-4713-85bb-134a97b4cbf5",
   "metadata": {},
   "source": [
    "Les lignes où le terme *“abandon”* apparait\n",
    "sont les suivantes (question 2) :"
   ]
  },
  {
   "cell_type": "code",
   "execution_count": null,
   "id": "a93418bc",
   "metadata": {},
   "outputs": [
    {
     "name": "stdout",
     "output_type": "stream",
     "text": [
      "Index([    4,   116,   215,   571,   839,  1042,  1052,  1069,  2247,  2317,\n",
      "        2505,  3023,  3058,  3245,  3380,  3764,  3886,  4425,  5289,  5576,\n",
      "        5694,  6812,  7500,  9013,  9021,  9077,  9560, 11229, 11395, 11451,\n",
      "       11588, 11827, 11989, 11998, 12122, 12158, 12189, 13666, 15259, 16516,\n",
      "       16524, 16759, 17547, 18019, 18072, 18126, 18204, 18251],\n",
      "      dtype='int64')"
     ]
    }
   ],
   "source": [
    "#2. Lignes où les termes de abandon sont non nuls.\n",
    "tempdf = horror_dense.loc[(horror_dense.filter(regex = \"abandon\")!=0).any(axis=1)]\n",
    "print(tempdf.index)"
   ]
  },
  {
   "cell_type": "markdown",
   "id": "07dbd234-c902-48e3-a082-4d1cf4f265fb",
   "metadata": {},
   "source": [
    "La matrice document-terme associée à celles-ci est la suivante :"
   ]
  },
  {
   "cell_type": "code",
   "execution_count": null,
   "id": "62699a85",
   "metadata": {},
   "outputs": [
    {
     "data": {
      "text/html": [
       "\n",
       "<p>5 rows × 24783 columns</p>\n",
       "</div>"
      ]
     },
     "metadata": {},
     "output_type": "display_data"
    }
   ],
   "source": [
    "tempdf.head(5)"
   ]
  },
  {
   "cell_type": "markdown",
   "id": "9c15c3e4-427b-4ba1-a3ff-198961a48eac",
   "metadata": {},
   "source": [
    "On remarque ici l’inconvénient de ne pas avoir fait de racinisation. Les variations\n",
    "de *“abandon”* sont éclatées sur de nombreuses colonnes. *“abandoned”* est aussi différent d’*“abandon”* que de *“fear”*. C’est l’un des problèmes de l’approche *bag of words*."
   ]
  },
  {
   "cell_type": "code",
   "execution_count": null,
   "id": "13af21d6",
   "metadata": {},
   "outputs": [
    {
     "data": {
      "text/plain": [
       "Text    50\n",
       "dtype: int64"
      ]
     },
     "metadata": {},
     "output_type": "display_data"
    }
   ],
   "source": [
    "# 3. 50 extraits avec le TF-IDF le plus élevé.\n",
    "list_fear = (\n",
    "  horror_dense[\"fear\"]\n",
    "  .sort_values(ascending =False)\n",
    "  .head(n=50)\n",
    "  .index.tolist()\n",
    ")\n",
    "(\n",
    "  horror.iloc[list_fear]\n",
    "  .agg({\"Text\": \"count\"})\n",
    "  .sort_values(ascending = False)\n",
    ")"
   ]
  },
  {
   "cell_type": "markdown",
   "id": "12d4cf70-23b3-4de9-9a87-c13ef9bfef23",
   "metadata": {},
   "source": [
    "Les 10 scores les plus élevés sont les suivants :"
   ]
  },
  {
   "cell_type": "code",
   "execution_count": null,
   "id": "54d78425",
   "metadata": {},
   "outputs": [
    {
     "data": {
      "text/plain": [
       "['We could not fear we did not.',\n",
       " '\"And now I do not fear death.',\n",
       " 'Be of heart and fear nothing.',\n",
       " 'Indeed I had no fear on her account.',\n",
       " 'I smiled, for what had I to fear?',\n",
       " 'I did not like everything about what I saw, and felt again the fear I had had.',\n",
       " 'At length, in an abrupt manner she asked, \"Where is he?\" \"O, fear not,\" she continued, \"fear not that I should entertain hope Yet tell me, have you found him?',\n",
       " 'I have not the slightest fear for the result.',\n",
       " '\"I fear you are right there,\" said the Prefect.']"
      ]
     },
     "metadata": {},
     "output_type": "display_data"
    }
   ],
   "source": [
    "# 4. Les 10 scores les plus élevés\n",
    "horror.iloc[list_fear[:9]]['Text'].tolist()"
   ]
  },
  {
   "cell_type": "markdown",
   "id": "c2ad06ea-d62d-4d81-9d00-ce1a3ca61bf1",
   "metadata": {},
   "source": [
    "On remarque que les scores les plus élevés sont soient des extraits courts où le mot apparait une seule fois, soit des extraits plus longs où le mot *“fear”* apparaît plusieurs fois.\n",
    "\n",
    "# 3. Un premier enrichissement de l’approche sac de mots : les *n-grams*\n",
    "\n",
    "Nous avons évoqué deux principales limites à l’approche sac de mot : l’absence de prise en compte du contexte et la représentation *sparse* du langage qui rend les rapprochements entre texte parfois moyennement pertinents. Dans le paradigme du sac de mots, il est néanmoins possible de prendre en compte la séquence d’enchainement de sèmes (*tokens*) par le biais des *ngrams*.\n",
    "\n",
    "Pour rappel, jusqu’à présent, dans l’approche *bag of words*, l’ordre des mots n’avait pas d’importance.\n",
    "On considère qu’un texte est une collection de\n",
    "mots tirés indépendamment, de manière plus ou moins fréquente en fonction de leur probabilité\n",
    "d’occurrence. Cependant, tirer un mot particulier n’affecte pas les chances de tirer certains mots\n",
    "ensuite, de manière conditionnelle.\n",
    "\n",
    "Une manière d’introduire des liens entre les séries de *tokens* sont les *n-grams*.\n",
    "On s’intéresse non seulement aux mots et à leur fréquence, mais aussi aux mots qui suivent. Cette approche est essentielle pour désambiguiser les homonymes. Le calcul de *n-grams* [1] constitue la méthode la plus simple pour tenir compte du contexte.\n",
    "\n",
    "Pour être en mesure de mener cette analyse, il est nécessaire de télécharger un corpus supplémentaire :\n",
    "\n",
    "[1] We use the term *bigrams* for two-word co-occurrences, *trigrams* for three-word ones, etc."
   ]
  },
  {
   "cell_type": "code",
   "execution_count": null,
   "id": "5eef5136",
   "metadata": {},
   "outputs": [
    {
     "name": "stderr",
     "output_type": "stream",
     "text": [
      "[nltk_data] Downloading package genesis to /home/runner/nltk_data...\n",
      "[nltk_data]   Package genesis is already up-to-date!"
     ]
    },
    {
     "data": {
      "text/plain": [
       "['In', 'the', 'beginning', 'God', 'created', 'the', ...]"
      ]
     },
     "metadata": {},
     "output_type": "display_data"
    }
   ],
   "source": [
    "import nltk\n",
    "nltk.download('genesis')\n",
    "nltk.corpus.genesis.words('english-web.txt')"
   ]
  },
  {
   "cell_type": "markdown",
   "id": "a624ca0c-41a6-42b5-82b7-9222adc8b84b",
   "metadata": {},
   "source": [
    "`NLTK` offre des méthodes pour tenir compte du contexte. Pour ce faire, nous calculons les n-grams, c’est-à-dire l’ensemble des co-occurrences successives de mots n-à-n. En général, on se contente de bi-grams, au mieux de tri-grams :\n",
    "\n",
    "-   les modèles de classification, analyse du sentiment, comparaison de documents, etc. qui comparent des n-grams avec n trop grands sont rapidement confrontés au problème de données sparse, cela réduit la capacité prédictive des modèles ;\n",
    "-   les performances décroissent très rapidement en fonction de n, et les coûts de stockage des données augmentent rapidement (environ n fois plus élevé que la base de données initiale).\n",
    "\n",
    "On va, rapidement, regarder dans quel contexte apparaît le mot `fear` dans\n",
    "l’oeuvre d’Edgar Allan Poe (EAP). Pour cela, on transforme d’abord\n",
    "le corpus EAP en tokens `NLTK` :"
   ]
  },
  {
   "cell_type": "code",
   "execution_count": null,
   "id": "15e96b61",
   "metadata": {},
   "outputs": [
    {
     "name": "stdout",
     "output_type": "stream",
     "text": [
      "['This', 'process,', 'however,', 'afforded', 'me', 'no', 'means', 'of', 'ascertaining', 'the']\n",
      "<Text: This process, however, afforded me no means of...>"
     ]
    }
   ],
   "source": [
    "eap_clean = horror.loc[horror[\"Author\"] == \"EAP\"]\n",
    "eap_clean = ' '.join(eap_clean['Text'])\n",
    "tokens = eap_clean.split()\n",
    "print(tokens[:10])\n",
    "text = nltk.Text(tokens)\n",
    "print(text)"
   ]
  },
  {
   "cell_type": "markdown",
   "id": "48e1329b-7714-4a27-a954-55f263a8c25d",
   "metadata": {},
   "source": [
    "Vous aurez besoin des fonctions `BigramCollocationFinder.from_words` et `BigramAssocMeasures.likelihood_ratio` :"
   ]
  },
  {
   "cell_type": "code",
   "execution_count": null,
   "id": "5eaf81ee",
   "metadata": {},
   "outputs": [],
   "source": [
    "from nltk.collocations import BigramCollocationFinder\n",
    "from nltk.metrics import BigramAssocMeasures"
   ]
  },
  {
   "cell_type": "markdown",
   "id": "b5f75bb7-1f90-4271-8696-461c8f94ce34",
   "metadata": {},
   "source": [
    "> **Exercice 2 : n-grams et contexte du mot fear**\n",
    ">\n",
    "> 1.  Utiliser la méthode `concordance` pour afficher le contexte dans lequel apparaît le terme `fear`.\n",
    "> 2.  Sélectionner et afficher les meilleures collocations, par exemple selon le critère du ratio de vraisemblance.\n",
    ">\n",
    "> Lorsque deux mots sont fortement associés, cela est parfois dû au fait qu’ils apparaissent rarement. Il est donc parfois nécessaire d’appliquer des filtres, par exemple ignorer les bigrammes qui apparaissent moins de 5 fois dans le corpus.\n",
    ">\n",
    "> 1.  Refaire la question précédente en utilisant toujours un modèle `BigramCollocationFinder` suivi de la méthode `apply_freq_filter` pour ne conserver que les bigrammes présents au moins 5 fois. Puis, au lieu d’utiliser la méthode de maximum de vraisemblance, testez la méthode `nltk.collocations.BigramAssocMeasures().jaccard`.\n",
    ">\n",
    "> 2.  Ne s’intéresser qu’aux *collocations* qui concernent le mot *fear*\n",
    "\n",
    "Avec la méthode `concordance` (question 1),\n",
    "la liste devrait ressembler à celle-ci :"
   ]
  },
  {
   "cell_type": "code",
   "execution_count": null,
   "id": "d28590f9",
   "metadata": {},
   "outputs": [
    {
     "name": "stdout",
     "output_type": "stream",
     "text": [
      "Exemples d'occurences du terme 'fear' :\n",
      "Displaying 13 of 13 matches:\n",
      "d quick unequal spoken apparently in fear as well as in anger. What he said wa\n",
      "hutters were close fastened, through fear of robbers, and so I knew that he co\n",
      "to details. I even went so far as to fear that, as I occasioned much trouble, \n",
      "years of age, was heard to express a fear \"that she should never see Marie aga\n",
      "ich must be entirely remodelled, for fear of serious accident I mean the steel\n",
      " my arm, and I attended her home. 'I fear that I shall never see Marie again.'\n",
      "clusion here is absurd. \"I very much fear it is so,\" replied Monsieur Maillard\n",
      "bt of ultimately seeing the Pole. \"I fear you are right there,\" said the Prefe\n",
      "er occurred before.' Indeed I had no fear on her account. For a moment there w\n",
      "erhaps so,\" said I; \"but, Legrand, I fear you are no artist. It is my firm int\n",
      " raps with a hammer. Be of heart and fear nothing. My daughter, Mademoiselle M\n",
      "e splendor. I have not the slightest fear for the result. The face was so far \n",
      "arriers of iron that hemmed me in. I fear you have mesmerized\" adding immediat\n",
      "\n"
     ]
    }
   ],
   "source": [
    "# 1. Methode concordance\n",
    "print(\"Exemples d'occurences du terme 'fear' :\")\n",
    "text.concordance(\"fear\")\n",
    "print('\\n')"
   ]
  },
  {
   "cell_type": "markdown",
   "id": "99cb9717-802c-4dcf-9e63-dc38a59ab6d8",
   "metadata": {},
   "source": [
    "Même si on peut facilement voir le mot avant et après, cette liste est assez difficile à interpréter car elle recoupe beaucoup d’informations.\n",
    "\n",
    "La `collocation` consiste à trouver les bi-grammes qui\n",
    "apparaissent le plus fréquemment ensemble. Parmi toutes les paires de deux mots observées,\n",
    "il s’agit de sélectionner, à partir d’un modèle statistique, les “meilleures”.\n",
    "On obtient donc avec cette méthode (question 2):"
   ]
  },
  {
   "cell_type": "code",
   "execution_count": null,
   "id": "2e02e5d9",
   "metadata": {},
   "outputs": [
    {
     "data": {
      "text/plain": [
       "[('of', 'the'),\n",
       " ('in', 'the'),\n",
       " ('had', 'been'),\n",
       " ('to', 'be'),\n",
       " ('have', 'been'),\n",
       " ('I', 'had'),\n",
       " ('It', 'was'),\n",
       " ('it', 'is'),\n",
       " ('could', 'not'),\n",
       " ('from', 'the'),\n",
       " ('upon', 'the'),\n",
       " ('more', 'than'),\n",
       " ('it', 'was'),\n",
       " ('would', 'have'),\n",
       " ('with', 'a'),\n",
       " ('did', 'not'),\n",
       " ('I', 'am'),\n",
       " ('the', 'a'),\n",
       " ('at', 'once'),\n",
       " ('might', 'have')]"
      ]
     },
     "metadata": {},
     "output_type": "display_data"
    }
   ],
   "source": [
    "# 2. Modélisation des meilleures collocations\n",
    "bcf = BigramCollocationFinder.from_words(text)\n",
    "bcf.nbest(BigramAssocMeasures.likelihood_ratio, 20)"
   ]
  },
  {
   "cell_type": "markdown",
   "id": "d1c55103-96ea-42d4-b947-49f34f7d071a",
   "metadata": {},
   "source": [
    "Si on modélise les meilleures collocations :"
   ]
  },
  {
   "cell_type": "code",
   "execution_count": null,
   "id": "4960650a",
   "metadata": {},
   "outputs": [
    {
     "name": "stdout",
     "output_type": "stream",
     "text": [
      "\"Gad Fly\"\n",
      "'Hum Drum,'\n",
      "'Rowdy Dow,'\n",
      "Brevet Brigadier\n",
      "BarriÃ¨re du\n",
      "ugh ugh\n",
      "Ourang Outang\n",
      "Chess Player\n",
      "John A.\n",
      "A. B.\n",
      "hu hu\n",
      "General John\n",
      "'Oppodeldoc,' whoever\n",
      "mille, mille,\n",
      "Brigadier General"
     ]
    }
   ],
   "source": [
    "# 3. Modélisation des meilleures collocations (qui apparaissent 5+)\n",
    "finder = nltk.BigramCollocationFinder.from_words(text)\n",
    "finder.apply_freq_filter(5)\n",
    "bigram_measures = nltk.collocations.BigramAssocMeasures()\n",
    "collocations = finder.nbest(bigram_measures.jaccard, 15)\n",
    "\n",
    "for collocation in collocations :\n",
    "    c = ' '.join(collocation)\n",
    "    print(c)"
   ]
  },
  {
   "cell_type": "markdown",
   "id": "566f1ed2-fe13-482b-ad13-a9fba8d8c77d",
   "metadata": {},
   "source": [
    "Cette liste a un peu plus de sens,\n",
    "on a des noms de personnages, de lieux mais aussi des termes fréquemment employés ensemble\n",
    "(*Chess Player* par exemple).\n",
    "\n",
    "En ce qui concerne les *collocations* du mot fear :"
   ]
  },
  {
   "cell_type": "code",
   "execution_count": null,
   "id": "4e022176",
   "metadata": {},
   "outputs": [
    {
     "name": "stdout",
     "output_type": "stream",
     "text": [
      "[('fear', 'of'), ('fear', 'God'), ('I', 'fear'), ('the', 'fear'), ('The', 'fear'), ('fear', 'him'), ('you', 'fear')]"
     ]
    }
   ],
   "source": [
    "# 4. collocations du mot fear\n",
    "bigram_measures = nltk.collocations.BigramAssocMeasures()\n",
    "\n",
    "def collocations_word(word = \"fear\"):\n",
    "    # Ngrams with a specific name\n",
    "    name_filter = lambda *w: word not in w\n",
    "    # Bigrams\n",
    "    finder = BigramCollocationFinder.from_words(\n",
    "                nltk.corpus.genesis.words('english-web.txt'))\n",
    "    # only bigrams that contain 'fear'\n",
    "    finder.apply_ngram_filter(name_filter)\n",
    "    # return the 100 n-grams with the highest PMI\n",
    "    print(finder.nbest(bigram_measures.likelihood_ratio,100))\n",
    "\n",
    "collocations_word(\"fear\")"
   ]
  },
  {
   "cell_type": "markdown",
   "id": "4dc232a1-2f5b-4fc1-bd76-80bf7bd3edd6",
   "metadata": {},
   "source": [
    "Si on mène la même analyse pour le terme *love*, on remarque que de manière logique, on retrouve bien des sujets généralement accolés au verbe :"
   ]
  },
  {
   "cell_type": "code",
   "execution_count": null,
   "id": "fd6cfc66",
   "metadata": {},
   "outputs": [
    {
     "name": "stdout",
     "output_type": "stream",
     "text": [
      "[('love', 'me'), ('love', 'he'), ('will', 'love'), ('I', 'love'), ('love', ','), ('you', 'love'), ('the', 'love')]"
     ]
    }
   ],
   "source": [
    "collocations_word(\"love\")"
   ]
  },
  {
   "cell_type": "markdown",
   "id": "4e2524d3-20f2-4f87-8f28-2aa4d5a6c2ad",
   "metadata": {},
   "source": [
    "# 4. Quelques applications\n",
    "\n",
    "Nous venons d’évoquer un premier cas d’application de l’approche *bag of words* qui est le rapprochement de textes par leurs termes communs. Ce n’est pas le seul cas d’application de l’approche précédente. Nous allons en évoquer deux qui nous amènent vers la modélisation du langage : la reconnaissance d’entités nommées et la classification.\n",
    "\n",
    "## 4.1 Reconnaissance des entités nommées\n",
    "\n",
    "La [reconnaissance d’entités nommées](https://fr.wikipedia.org/wiki/Reconnaissance_d%27entit%C3%A9s_nomm%C3%A9es), également connue sous l’acronyme NER pour *named entity recognition*, est une méthode d’extraction d’information permettant d’identifier, dans un texte, la nature de certains termes dans une certain classification : lieu, personne, quantité, etc.\n",
    "\n",
    "Pour illustrer cela,\n",
    "reprenons le *Comte de Monte Cristo* et regardons sur un petit morceau de cette oeuvre ce qu’implique la reconnaissance d’entités nommées :"
   ]
  },
  {
   "cell_type": "code",
   "execution_count": null,
   "id": "9a4bb0c2",
   "metadata": {},
   "outputs": [
    {
     "data": {
      "text/plain": [
       "\" mes yeux. --vous avez donc vu l'empereur aussi? --il est entré chez le maréchal pendant que j'y étais. --et vous lui avez parlé? --c'est-à-dire que c'est lui qui m'a parlé, monsieur, dit dantès en souriant. --et que vous a-t-il dit? --il m'a fait des questions sur le bâtiment, sur l'époque de son départ pour marseille, sur la route qu'il avait suivie et sur la cargaison qu'il portait. je crois que s'il eût été vide, et que j'en eusse été le maître, son intention eût été de l'acheter; mais je lu\""
      ]
     },
     "metadata": {},
     "output_type": "display_data"
    }
   ],
   "source": [
    "import requests\n",
    "import re\n",
    "\n",
    "url = \"https://www.gutenberg.org/files/17989/17989-0.txt\"\n",
    "response = requests.get(url)\n",
    "response.encoding = 'utf-8'  # Assure le bon décodage\n",
    "raw = response.text\n",
    "\n",
    "dumas = (\n",
    "  raw\n",
    "  .split(\"*** START OF THE PROJECT GUTENBERG EBOOK 17989 ***\")[1]\n",
    "  .split(\"*** END OF THE PROJECT GUTENBERG EBOOK 17989 ***\")[0]\n",
    ")\n",
    "\n",
    "\n",
    "def clean_text(text):\n",
    "    text = text.lower() # mettre les mots en minuscule\n",
    "    text = \" \".join(text.split())\n",
    "    return text\n",
    "\n",
    "dumas = clean_text(dumas)\n",
    "\n",
    "dumas[10000:10500]"
   ]
  },
  {
   "cell_type": "code",
   "execution_count": null,
   "id": "efd26223",
   "metadata": {},
   "outputs": [],
   "source": [
    "!python -m spacy download fr_core_news_sm"
   ]
  },
  {
   "cell_type": "code",
   "execution_count": null,
   "id": "f504cd10",
   "metadata": {},
   "outputs": [],
   "source": [
    "import spacy\n",
    "from spacy import displacy\n",
    "\n",
    "nlp = spacy.load(\"fr_core_news_sm\")\n",
    "doc = nlp(dumas[15000:17000])\n",
    "# displacy.render(doc, style=\"ent\", jupyter=True)"
   ]
  },
  {
   "cell_type": "markdown",
   "id": "06a83bb0-f674-4bed-a532-72400aec7ba0",
   "metadata": {},
   "source": [
    "La reconnaissance d’entités nommées disponible\n",
    "par défaut dans les librairies généralistes est souvent décevante ; il est\n",
    "souvent nécessaire d’enrichir les règles par défaut\n",
    "par des règles *ad hoc*, propres à chaque corpus.\n",
    "\n",
    "En pratique, récemment,\n",
    "l’approche de reconnaissance d’entités nommées a été utilisée\n",
    "par Etalab pour [pseudonymiser des documents administratifs](https://guides.etalab.gouv.fr/pseudonymisation/#sommaire). Il s’agit d’identifier certaines informations sensibles (état civil, adresse…) par reconnaissance d’entités pour les remplacer par des pseudonymes.\n",
    "\n",
    "## 4.2 Classification de données textuelles : l’algorithme `Fasttext`\n",
    "\n",
    "`Fasttext` est un réseau de neurone à une couche développé par Meta en 2016 pour faire de la classification de texte ou de la modélisation de langage. Comme nous allons pouvoir le voir, ce modèle va nous amener à faire la transition avec une modélisation plus raffinée du langage, bien que celle de `Fasttext` soit beaucoup plus frustre que celle des grands modèles de langage (LLM). L’un des principaux cas d’utilisation de `Fasttext` est la classification supervisée de données textuelles. Il s’agit, à partir d’un texte, de déterminer sa catégorie d’appartenance. Par exemple, à partir d’un texte de chanson, s’il s’agit de rap ou de rock. Ce modèle est supervisé puisqu’il apprend à reconnnaître les *features*, en l’occurrence des morceaux de texte, qui permettent d’avoir une bonne performance de prédiction sur le jeu d’entraînement puis de test.\n",
    "\n",
    "Le concept de *feature* peut sembler étonnant pour des données textuelles, qui sont, par essence, non structurées. Pour des données structurées, la démarche évoquée dans la partie [modélisation](../../content/course/modelisation/index.qmd) apparaîssait naturelle : nous avions des variables observées dans nos données pour les *features* et l’algorithme de classification consistait à trouver la combinaison entre elles permettant de prédire, au mieux, le *label*. Avec des données textuelles, ce concept de *feature* observé n’est plus naturel. Il est nécessaire de le construire à partir d’un texte. L’information destructurée devient de l’information structurée. C’est là qu’interviennent les concepts que nous avons vu jusqu’à présent.\n",
    "\n",
    "`FastText` est un *“sac de n-gram”*. Il considère donc que les *features* sont à construire à partir des mots de notre corpus mais aussi des *ngrams* à plusieurs niveaux. L’architecture générale de `FastText` ressemble à celle-ci :\n",
    "\n",
    "<figure>\n",
    "<img src=\"https://raw.githubusercontent.com/InseeFrLab/formation-mlops/main/slides/img/diag-fasttext.png\" alt=\"Illustration de l’architecture de FastText\" />\n",
    "<figcaption aria-hidden=\"true\">Illustration de l’architecture de <code>FastText</code></figcaption>\n",
    "</figure>\n",
    "\n",
    "Ce qui nous intéresse ici est la partie gauche de ce diagramme, la *“feature extraction”* car la partie *embedding* correspond à des concepts que nous verrons lors des prochains chapitres. Avec l’exemple de cette figure, on voit que le texte *“Business engineering and services”* est tokenisé comme nous avons pu le voir plus tôt en mots. Mais `Fasttext` créé également des ngrams à plusieurs niveaux. Par exemple, il va créer des bigrams de mots : *“Business engineering”*, *“engineering and”*, *“and services”*. mais aussi des quadrigrammes de caractères *“busi”*, *“usin”* et *“sine”*. Ensuite, `Fasttext` transformera tous ces termes en vecteurs numériques. Contrairement à ce que nous avons vu jusqu’à présent, ces vecteurs ne sont pas des fréquences d’apparition dans le corpus (principe de la matrice origine-document), ce sont des plongements de mots (*word embedding*). Nous découvrirons leurs principes dans les prochains chapitres.\n",
    "\n",
    "Ce modèle `Fasttext` est très utilisé dans la statistique publique car de nombreuses sources de données textuelles sont à hiérarchiser dans des nomenclatures agrégées."
   ]
  },
  {
   "cell_type": "code",
   "execution_count": null,
   "id": "9801e60a",
   "metadata": {},
   "outputs": [
    {
     "name": "stdout",
     "output_type": "stream",
     "text": [
      "Erreur lors de l'appel API : 503 Server Error: Service Temporarily Unavailable for url: https://codification-ape-test.lab.sspcloud.fr/predict?nb_echos_max=3&prob_min=0&text_feature=data%20scientist"
     ]
    }
   ],
   "source": [
    "import requests\n",
    "import pandas as pd\n",
    "\n",
    "activite = \"data scientist\"\n",
    "import requests\n",
    "import pandas as pd\n",
    "\n",
    "activite = \"data scientist\"\n",
    "urlApe = (\n",
    "    \"https://codification-ape-test.lab.sspcloud.fr/\"\n",
    "    f\"predict?nb_echos_max=3&prob_min=0&text_feature={activite}\"\n",
    ")\n",
    "\n",
    "try:\n",
    "    # requête\n",
    "    resp = requests.get(urlApe, timeout=10)\n",
    "    resp.raise_for_status()  # lève une erreur si code HTTP != 200\n",
    "    data = resp.json()\n",
    "\n",
    "    # récupération de IC\n",
    "    IC = data.pop(\"IC\", None)\n",
    "\n",
    "    # transformation en DataFrame\n",
    "    df = pd.DataFrame(data.values())\n",
    "    df[\"indice_confiance\"] = IC\n",
    "\n",
    "    print(df)\n",
    "\n",
    "except requests.exceptions.RequestException as e:\n",
    "    print(\"Erreur lors de l'appel API :\", e)\n",
    "    df = pd.DataFrame()  # DataFrame vide en cas d'échec\n",
    "\n",
    "except (ValueError, KeyError) as e:\n",
    "    print(\"Erreur lors du parsing des données :\", e)\n",
    "    df = pd.DataFrame()"
   ]
  },
  {
   "cell_type": "markdown",
   "id": "8ddc7120-3a22-43a5-9586-573f9ee4463a",
   "metadata": {},
   "source": [
    "Pour voir une démonstration interactive d’un tel modèle, se rendre sur la [page du site](../../content/NLP/02_exoclean.qmd) associée à ce notebook."
   ]
  }
 ],
 "metadata": {
  "kernelspec": {
   "display_name": "Python 3 (ipykernel)",
   "language": "python",
   "name": "python3",
   "path": "/home/runner/work/python-datascientist/python-datascientist/.venv/share/jupyter/kernels/python3"
  },
  "language_info": {
   "codemirror_mode": {
    "name": "ipython",
    "version": "3"
   },
   "file_extension": ".py",
   "mimetype": "text/x-python",
   "name": "python",
   "nbconvert_exporter": "python",
   "pygments_lexer": "ipython3",
   "version": "3.12.3"
  }
 },
 "nbformat": 4,
 "nbformat_minor": 5
}

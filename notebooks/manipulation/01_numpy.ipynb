{
 "cells": [
  {
   "cell_type": "markdown",
   "id": "3ff7922e-2586-4acd-908d-a963df389098",
   "metadata": {},
   "source": [
    "# Numpy, la brique de base de la data science\n",
    "\n",
    "Lino Galiana  \n",
    "2025-10-07\n",
    "\n",
    "<div class=\"badge-container\"><div class=\"badge-text\">Pour essayer les exemples présents dans ce tutoriel :</div><a href=\"https://github.com/linogaliana/python-datascientist-notebooks/blob/main/notebooks/manipulation/01_numpy.ipynb\" target=\"_blank\" rel=\"noopener\"><img src=\"https://img.shields.io/static/v1?logo=github&label=&message=View%20on%20GitHub&color=181717\" alt=\"View on GitHub\"></a>\n",
    "<a href=\"https://datalab.sspcloud.fr/launcher/ide/vscode-python?autoLaunch=true&name=«01_numpy»&init.personalInit=«https%3A%2F%2Fraw.githubusercontent.com%2Flinogaliana%2Fpython-datascientist%2Fmain%2Fsspcloud%2Finit-vscode.sh»&init.personalInitArgs=«manipulation%2001_numpy%20correction»\" target=\"_blank\" rel=\"noopener\"><img src=\"https://custom-icon-badges.demolab.com/badge/SSP%20Cloud-Lancer_avec_VSCode-blue?logo=vsc&logoColor=white\" alt=\"Onyxia\"></a>\n",
    "<a href=\"https://datalab.sspcloud.fr/launcher/ide/jupyter-python?autoLaunch=true&name=«01_numpy»&init.personalInit=«https%3A%2F%2Fraw.githubusercontent.com%2Flinogaliana%2Fpython-datascientist%2Fmain%2Fsspcloud%2Finit-jupyter.sh»&init.personalInitArgs=«manipulation%2001_numpy%20correction»\" target=\"_blank\" rel=\"noopener\"><img src=\"https://img.shields.io/badge/SSP%20Cloud-Lancer_avec_Jupyter-orange?logo=Jupyter&logoColor=orange\" alt=\"Onyxia\"></a>\n",
    "<a href=\"https://colab.research.google.com/github/linogaliana/python-datascientist-notebooks-colab//blob/main//notebooks/manipulation/01_numpy.ipynb\" target=\"_blank\" rel=\"noopener\"><img src=\"https://colab.research.google.com/assets/colab-badge.svg\" alt=\"Open In Colab\"></a><br></div>\n",
    "\n",
    "> **Note**\n",
    ">\n",
    "> Ceci est la version française 🇫🇷 de ce chapitre, pour voir la version anglaise allez <a href=\"/home/runner/work/python-datascientist/python-datascientist/en/content/manipulation/01_numpy.qmd\">ici</a>.\n",
    "\n",
    "# 1. Introduction\n",
    "\n",
    "Ce chapitre constitue une introduction à *Numpy* pour\n",
    "s’assurer que les bases du calcul vectoriel avec `Python`\n",
    "soient maîtrisées. La première partie du chapitre\n",
    "présente des petits exercices pour pratiquer quelques fonctions basiques de `Numpy`. La fin du chapitre présente\n",
    "des exercices pratiques d’utilisation de `Numpy` plus approfondis.\n",
    "\n",
    "Il est recommandé de régulièrement se référer à\n",
    "la [*cheatsheet numpy*](https://www.datacamp.com/community/blog/python-numpy-cheat-sheet) et à la\n",
    "[doc officielle](https://numpy.org/doc/stable/) en cas de doute\n",
    "sur une fonction.\n",
    "\n",
    "Dans ce chapitre, on ne dérogera pas à la convention qui s’est imposée\n",
    "d’importer `Numpy` de la\n",
    "manière suivante :"
   ]
  },
  {
   "cell_type": "code",
   "execution_count": null,
   "id": "import-np",
   "metadata": {},
   "outputs": [],
   "source": [
    "import numpy as np"
   ]
  },
  {
   "cell_type": "markdown",
   "id": "6f07d806-52b0-4889-ab06-81b88498cd4b",
   "metadata": {},
   "source": [
    "Nous allons également fixer la racine du générateur aléatoire de nombres\n",
    "afin d’avoir des résultats reproductibles :"
   ]
  },
  {
   "cell_type": "code",
   "execution_count": null,
   "id": "768014cb",
   "metadata": {},
   "outputs": [],
   "source": [
    "import numpy as np\n",
    "rng = np.random.default_rng(seed=12345)"
   ]
  },
  {
   "cell_type": "markdown",
   "id": "863abd61-9003-4671-90b1-104f12a81c75",
   "metadata": {},
   "source": [
    "> **Caution**\n",
    ">\n",
    "> Historiquement, la génération de nombres aléatoires se faisait pas le biais du package `numpy.random`. Néanmoins, les auteurs de `Numpy` [recommandent maintenant](https://numpy.org/doc/stable/reference/random/index.html) d’utiliser plutôt des générateurs pour cela. Les exemples de ce tutoriel adoptent donc cette pratique.\n",
    "\n",
    "# 2. Le concept d’*array*\n",
    "\n",
    "Dans le monde de la science des données, comme cela sera évoqué\n",
    "plus en profondeur dans les prochains chapitres,\n",
    "l’objet central est le tableau à deux dimensions de données.\n",
    "La première correspond aux lignes et la seconde aux colonnes.\n",
    "Si on ne se préoccupe que d’une dimension, on se rapporte\n",
    "à une variable (une colonne) de notre tableau de données.\n",
    "Il est donc naturel de faire le lien entre les\n",
    "tableaux de données et l’objet mathématique\n",
    "que sont les matrices et les vecteurs.\n",
    "\n",
    "`NumPy` (`Numerical Python`) est la brique de base\n",
    "pour traiter des listes numériques ou des chaines\n",
    "de textes comme des matrices.\n",
    "`NumPy` intervient pour proposer\n",
    "ce type d’objets, et\n",
    "les opérations standardisées associées qui n’existent\n",
    "pas dans le langage `Python` de base.\n",
    "\n",
    "L’objet central de `NumPy` est\n",
    "l’**`array`** qui est un tableau de données multidimensionnel.\n",
    "L’array `Numpy` peut être unidimensionnel et s’apparenter à un\n",
    "vecteur (`1d-array`),\n",
    "bidimensionnel et ainsi s’apparenter à une matrice (`2d-array`) ou,\n",
    "de manière plus générale,\n",
    "prendre la forme d’un objet\n",
    "multidimensionnel (`Nd-array`), sorte de tableau emboîté.\n",
    "\n",
    "Les tableaux simples (uni ou bi-dimensionnels) sont faciles à se représenter\n",
    "et représentent la majorité des besoins liés à `Numpy`.\n",
    "Nous découvrirons lors du chapitre suivant, sur `Pandas`, qu’en pratique\n",
    "on manipule rarement directement `Numpy` qui est une librairie\n",
    "bas niveau.\n",
    "Un *DataFrame* `Pandas` sera construit à partir d’une collection\n",
    "d’array uni-dimensionnels (les variables de la table), ce qui permettra d’effectuer des opérations cohérentes\n",
    "(et optimisées) avec le type de la variable.\n",
    "Avoir quelques notions `Numpy` est utile pour comprendre\n",
    "la logique de manipulation vectorielle\n",
    "rendant les traitements sur des données plus lisibles,\n",
    "plus efficaces et plus fiables.\n",
    "\n",
    "Par rapport à une liste,\n",
    "\n",
    "-   un *array* ne peut contenir qu’un type de données (`integer`, `string`, etc.),\n",
    "    contrairement à une liste.\n",
    "-   les opérations implémentées par `Numpy` seront plus efficaces et demanderont moins\n",
    "    de mémoire\n",
    "\n",
    "Les données géographiques constitueront une construction un peu plus complexe qu’un `DataFrame` traditionnel.\n",
    "La dimension géographique prend la forme d’un tableau plus profond, au moins bidimensionnel\n",
    "(coordonnées d’un point). Néanmoins, les librairies de manipulation\n",
    "de données géographiques permettront de ne pas se préoccuper de\n",
    "cette complexité accrue.\n",
    "\n",
    "## 2.1 Créer un array\n",
    "\n",
    "On peut créer un *array* de plusieurs manières. Pour créer un *array* à partir d’une liste,\n",
    "il suffit d’utiliser la méthode `array`:"
   ]
  },
  {
   "cell_type": "code",
   "execution_count": null,
   "id": "40681f38",
   "metadata": {},
   "outputs": [
    {
     "data": {
      "text/plain": [
       "array([1, 2, 5])"
      ]
     },
     "metadata": {},
     "output_type": "display_data"
    }
   ],
   "source": [
    "np.array([1,2,5])"
   ]
  },
  {
   "cell_type": "markdown",
   "id": "8f92f8d9-39a7-44e4-8343-51bff845e0c2",
   "metadata": {},
   "source": [
    "Il est possible d’ajouter un argument `dtype` pour contraindre le type du *array* :"
   ]
  },
  {
   "cell_type": "code",
   "execution_count": null,
   "id": "8b660bbd",
   "metadata": {},
   "outputs": [
    {
     "data": {
      "text/plain": [
       "array([list(['a', 'z', 'e']), list(['r', 't']), list(['y'])], dtype=object)"
      ]
     },
     "metadata": {},
     "output_type": "display_data"
    }
   ],
   "source": [
    "np.array([[\"a\",\"z\",\"e\"],[\"r\",\"t\"],[\"y\"]], dtype=\"object\")"
   ]
  },
  {
   "cell_type": "markdown",
   "id": "120ac156-0694-4b4d-ae71-04ed34706877",
   "metadata": {},
   "source": [
    "Il existe aussi des méthodes pratiques pour créer des array:\n",
    "\n",
    "-   séquences logiques : `np.arange` (suite) ou `np.linspace` (interpolation linéaire entre deux bornes) ;\n",
    "-   séquences ordonnées : *array* rempli de zéros, de 1 ou d’un nombre désiré : `np.zeros`, `np.ones` ou `np.full` ;\n",
    "-   séquences aléatoires : fonctions de génération de nombres aléatoires : `rng.uniform`, `rng.normal`, etc. où `rng` est un générateur de nombre aléatoires ;  \n",
    "-   tableau sous forme de matrice identité : `np.eye`.\n",
    "\n",
    "Ceci donne ainsi, pour les séquences logiques:"
   ]
  },
  {
   "cell_type": "code",
   "execution_count": null,
   "id": "fc85cf89",
   "metadata": {},
   "outputs": [
    {
     "data": {
      "text/plain": [
       "array([0, 1, 2, 3, 4, 5, 6, 7, 8, 9])"
      ]
     },
     "metadata": {},
     "output_type": "display_data"
    }
   ],
   "source": [
    "np.arange(0,10)"
   ]
  },
  {
   "cell_type": "code",
   "execution_count": null,
   "id": "c19ba0c2",
   "metadata": {},
   "outputs": [
    {
     "data": {
      "text/plain": [
       "array([0, 3, 6, 9])"
      ]
     },
     "metadata": {},
     "output_type": "display_data"
    }
   ],
   "source": [
    "np.arange(0,10,3)"
   ]
  },
  {
   "cell_type": "code",
   "execution_count": null,
   "id": "047e0d75",
   "metadata": {},
   "outputs": [
    {
     "data": {
      "text/plain": [
       "array([0.  , 0.25, 0.5 , 0.75, 1.  ])"
      ]
     },
     "metadata": {},
     "output_type": "display_data"
    }
   ],
   "source": [
    "np.linspace(0, 1, 5)"
   ]
  },
  {
   "cell_type": "markdown",
   "id": "6144d099-542d-4bb3-b8b0-1f3e87a0026b",
   "metadata": {},
   "source": [
    "Pour un *array* initialisé à 0:"
   ]
  },
  {
   "cell_type": "code",
   "execution_count": null,
   "id": "18a8f2aa",
   "metadata": {},
   "outputs": [
    {
     "data": {
      "text/plain": [
       "array([0, 0, 0, 0, 0, 0, 0, 0, 0, 0])"
      ]
     },
     "metadata": {},
     "output_type": "display_data"
    }
   ],
   "source": [
    "np.zeros(10, dtype=int)"
   ]
  },
  {
   "cell_type": "markdown",
   "id": "cb217de3-5717-4d2a-9085-708f8725d78a",
   "metadata": {},
   "source": [
    "ou initialisé à 1:"
   ]
  },
  {
   "cell_type": "code",
   "execution_count": null,
   "id": "52bbd760",
   "metadata": {},
   "outputs": [
    {
     "data": {
      "text/plain": [
       "array([[1., 1., 1., 1., 1.],\n",
       "       [1., 1., 1., 1., 1.],\n",
       "       [1., 1., 1., 1., 1.]])"
      ]
     },
     "metadata": {},
     "output_type": "display_data"
    }
   ],
   "source": [
    "np.ones((3, 5), dtype=float)"
   ]
  },
  {
   "cell_type": "markdown",
   "id": "01a4ece2-3a08-4039-968a-d0c510e16b8c",
   "metadata": {},
   "source": [
    "ou encore initialisé à 3.14:"
   ]
  },
  {
   "cell_type": "code",
   "execution_count": null,
   "id": "75b3a464",
   "metadata": {},
   "outputs": [
    {
     "data": {
      "text/plain": [
       "array([[3.14, 3.14, 3.14, 3.14, 3.14],\n",
       "       [3.14, 3.14, 3.14, 3.14, 3.14],\n",
       "       [3.14, 3.14, 3.14, 3.14, 3.14]])"
      ]
     },
     "metadata": {},
     "output_type": "display_data"
    }
   ],
   "source": [
    "np.full((3, 5), 3.14)"
   ]
  },
  {
   "cell_type": "markdown",
   "id": "d1fab9dc-5fec-4e14-8f97-f7de6afd28f5",
   "metadata": {},
   "source": [
    "Enfin, pour créer la matrice $I_3$:"
   ]
  },
  {
   "cell_type": "code",
   "execution_count": null,
   "id": "9d2329d0",
   "metadata": {},
   "outputs": [
    {
     "data": {
      "text/plain": [
       "array([[1., 0., 0.],\n",
       "       [0., 1., 0.],\n",
       "       [0., 0., 1.]])"
      ]
     },
     "metadata": {},
     "output_type": "display_data"
    }
   ],
   "source": [
    "np.eye(3)"
   ]
  },
  {
   "cell_type": "markdown",
   "id": "a8c98e81-9c91-412e-81e6-d82828d665d3",
   "metadata": {},
   "source": [
    "> **Exercice 1**\n",
    ">\n",
    "> Générer:\n",
    ">\n",
    "> -   $X$ une variable aléatoire, 1000 répétitions d’une loi $U(0,1)$\n",
    "> -   $Y$ une variable aléatoire, 1000 répétitions d’une loi normale de moyenne nulle et de variance égale à 2\n",
    "> -   Vérifier la variance de $Y$ avec `np.var`"
   ]
  },
  {
   "cell_type": "code",
   "execution_count": null,
   "id": "c2a2cc14",
   "metadata": {},
   "outputs": [],
   "source": [
    "# If rng has not been created beforehand:\n",
    "# rng = np.random.default_rng()\n",
    "\n",
    "X = rng.uniform(0,1,1000)\n",
    "Y = rng.normal(0,np.sqrt(2),1000)\n",
    "\n",
    "np.var(Y)"
   ]
  },
  {
   "cell_type": "markdown",
   "id": "0b2b57b0-adc2-4565-b676-c3b23b2f9e18",
   "metadata": {},
   "source": [
    "# 3. Indexation et *slicing*\n",
    "\n",
    "## 3.1 Logique dans le cas d’un array unidimensionnel\n",
    "\n",
    "La structure la plus simple est l’*array* unidimensionnel:"
   ]
  },
  {
   "cell_type": "code",
   "execution_count": null,
   "id": "f0e5af20",
   "metadata": {},
   "outputs": [
    {
     "name": "stdout",
     "output_type": "stream",
     "text": [
      "[0 1 2 3 4 5 6 7 8 9]"
     ]
    }
   ],
   "source": [
    "x = np.arange(10)\n",
    "print(x)"
   ]
  },
  {
   "cell_type": "markdown",
   "id": "8048fd6b-9eb2-45ff-af7b-866815e1d22e",
   "metadata": {},
   "source": [
    "L’indexation est dans ce cas similaire à celle d’une liste:\n",
    "\n",
    "-   le premier élément est 0\n",
    "-   le énième élément est accessible à la position $n-1$\n",
    "\n",
    "La logique d’accès aux éléments est ainsi la suivante :\n",
    "\n",
    "``` python\n",
    "x[start:stop:step]\n",
    "```\n",
    "\n",
    "Avec un *array* unidimensionnel, l’opération de *slicing* (garder une coupe du *array*) est très simple.\n",
    "Par exemple, pour garder les *K* premiers éléments d’un *array*, on fera:\n",
    "\n",
    "``` python\n",
    "x[:K]\n",
    "```\n",
    "\n",
    "En l’occurrence, on sélectionne le K$^{eme}$ élément en utilisant\n",
    "\n",
    "``` python\n",
    "x[K-1]\n",
    "```\n",
    "\n",
    "Pour sélectionner uniquement un élément, on fera ainsi:"
   ]
  },
  {
   "cell_type": "code",
   "execution_count": null,
   "id": "2068b052",
   "metadata": {},
   "outputs": [
    {
     "data": {
      "text/plain": [
       "np.int64(2)"
      ]
     },
     "metadata": {},
     "output_type": "display_data"
    }
   ],
   "source": [
    "x = np.arange(10)\n",
    "x[2]"
   ]
  },
  {
   "cell_type": "markdown",
   "id": "d0b31899-18d4-4063-8b93-19c89164119e",
   "metadata": {},
   "source": [
    "Les syntaxes qui permettent de sélectionner des indices particuliers d’une liste fonctionnent également\n",
    "avec les *arrays*.\n",
    "\n",
    "> **Exercice 2**\n",
    ">\n",
    "> Prenez `x = np.arange(10)` et…\n",
    ">\n",
    "> -   Sélectionner les éléments 0, 3, 5 de `x`\n",
    "> -   Sélectionner les éléments pairs\n",
    "> -   Sélectionner tous les éléments sauf le premier\n",
    "> -   Sélectionner les 5 premiers éléments"
   ]
  },
  {
   "cell_type": "code",
   "execution_count": null,
   "id": "45e00dd4",
   "metadata": {},
   "outputs": [
    {
     "data": {
      "text/plain": [
       "array([0, 1, 2, 3, 4, 5, 6, 7, 8, 9])"
      ]
     },
     "metadata": {},
     "output_type": "display_data"
    }
   ],
   "source": [
    "np.arange(10)"
   ]
  },
  {
   "cell_type": "code",
   "execution_count": null,
   "id": "e86a1823",
   "metadata": {},
   "outputs": [],
   "source": [
    "# Solution\n",
    "x[[0,3,5]]\n",
    "x[::2]\n",
    "x[1:]\n",
    "x[:5]\n",
    "# x2[0,:] # The first row"
   ]
  },
  {
   "cell_type": "markdown",
   "id": "73c6cbee-238e-4cb6-ad31-093174112cc5",
   "metadata": {},
   "source": [
    "La logique se généralise pour les *array* multidimensionnels. L’indexation se fait alors à plusieurs niveaux. Prenons par exemple un array à 2 dimensions (une matrice en quelques sortes):"
   ]
  },
  {
   "cell_type": "code",
   "execution_count": null,
   "id": "b705ebfb",
   "metadata": {},
   "outputs": [],
   "source": [
    "x = np.array([[1, 2, 3], [4, 5, 6]], np.int32)"
   ]
  },
  {
   "cell_type": "markdown",
   "id": "adcde953-b9fb-4b4f-9a56-b77fa7d8be67",
   "metadata": {},
   "source": [
    "Si on veut sélectionner la 2e ligne, 3e colonne (l’élément de valeur 6), on fait"
   ]
  },
  {
   "cell_type": "code",
   "execution_count": null,
   "id": "d702a6de",
   "metadata": {},
   "outputs": [
    {
     "data": {
      "text/plain": [
       "np.int32(6)"
      ]
     },
     "metadata": {},
     "output_type": "display_data"
    }
   ],
   "source": [
    "x[1, 2]"
   ]
  },
  {
   "cell_type": "markdown",
   "id": "af36bf92-9233-4ae1-8d22-6c616f5bbc3d",
   "metadata": {},
   "source": [
    "Maintenant, pour sélectionner une colonne complète (par exemple la 2e), on peut utiliser le 2e index pour spécifier celle-ci (index 1 en Python puisque l’indexation part de 0) puis `:` sur la première dimension (version raccourcie de `0:N`) pour ne pas discriminer selon cette dimension:"
   ]
  },
  {
   "cell_type": "code",
   "execution_count": null,
   "id": "77fbc4f8",
   "metadata": {},
   "outputs": [
    {
     "data": {
      "text/plain": [
       "array([2, 5], dtype=int32)"
      ]
     },
     "metadata": {},
     "output_type": "display_data"
    }
   ],
   "source": [
    "x[:,1]"
   ]
  },
  {
   "cell_type": "markdown",
   "id": "cf1cd923-2fa9-458c-8a9a-94bc1b604d10",
   "metadata": {},
   "source": [
    "Le principe se généralise, mais se complexifie, pour des *array* imbriqués. Heureusement, ce sont des objets qu’on manipule assez rarement directement, la plupart de nos données numériques étant des tableaux plats (une valeur - l’observation - est le croisement d’une ligne - l’individu - et d’une colonne - la variable).\n",
    "\n",
    "## 3.2 Sur la performance\n",
    "\n",
    "Un élément déterminant dans la performance de `Numpy` par rapport aux listes,\n",
    "lorsqu’il est question de\n",
    "*slicing* est qu’un array ne renvoie pas une\n",
    "copie de l’élément en question (copie qui coûte de la mémoire et du temps)\n",
    "mais simplement une vue de celui-ci.\n",
    "\n",
    "Lorsqu’il est nécessaire d’effectuer une copie,\n",
    "par exemple pour ne pas altérer l’*array* sous-jacent, on peut\n",
    "utiliser la méthode `copy`:\n",
    "\n",
    "``` python\n",
    "x_sub_copy = x[:2, :2].copy()\n",
    "```\n",
    "\n",
    "## 3.3 Filtres logiques\n",
    "\n",
    "Il est également possible, et plus pratique, de sélectionner des données à partir de conditions logiques\n",
    "(opération qu’on appelle un ***boolean mask***).\n",
    "Cette fonctionalité servira principalement à\n",
    "effectuer des opérations de filtre sur les données.\n",
    "\n",
    "Pour des opérations de comparaison simples, les comparateurs logiques peuvent être suffisants.\n",
    "Ces comparaisons fonctionnent aussi sur les tableaux multidimensionnels grâce au\n",
    "*broadcasting* sur lequel nous reviendrons :"
   ]
  },
  {
   "cell_type": "code",
   "execution_count": null,
   "id": "c2914aee",
   "metadata": {},
   "outputs": [
    {
     "name": "stdout",
     "output_type": "stream",
     "text": [
      "[0 1 2 3 4 5 6 7 8 9]\n",
      "[[-1  1 -2]\n",
      " [-3  2  0]]"
     ]
    }
   ],
   "source": [
    "x = np.arange(10)\n",
    "x2 = np.array([[-1,1,-2],[-3,2,0]])\n",
    "print(x)\n",
    "print(x2)"
   ]
  },
  {
   "cell_type": "code",
   "execution_count": null,
   "id": "e239a9d9",
   "metadata": {},
   "outputs": [
    {
     "data": {
      "text/plain": [
       "array([[ True, False,  True],\n",
       "       [ True, False, False]])"
      ]
     },
     "metadata": {},
     "output_type": "display_data"
    }
   ],
   "source": [
    "x==2\n",
    "x2<0"
   ]
  },
  {
   "cell_type": "markdown",
   "id": "81885853-002f-4609-b241-f0bd823959dd",
   "metadata": {},
   "source": [
    "Pour sélectionner les observations relatives à la condition logique,\n",
    "il suffit d’utiliser la logique de *slicing* de `numpy` qui fonctionne avec les conditions logiques\n",
    "\n",
    "> **Exercice 3**\n",
    ">\n",
    "> Soit\n",
    ">\n",
    "> ``` python\n",
    "> x = np.random.normal(size=10000)\n",
    "> ```\n",
    ">\n",
    "> 1.  Ne conserver que les valeurs dont la valeur absolue est supérieure à 1.96\n",
    "> 2.  Compter le nombre de valeurs supérieures à 1.96 en valeur absolue et leur proportion dans l’ensemble\n",
    "> 3.  Sommer les valeurs absolues de toutes les observations supérieures (en valeur absolue) à 1.96\n",
    ">     et rapportez les à la somme des valeurs de `x` (en valeur absolue)"
   ]
  },
  {
   "cell_type": "code",
   "execution_count": null,
   "id": "11bf4d2f",
   "metadata": {},
   "outputs": [],
   "source": [
    "# If rng has not been created beforehand:\n",
    "# rng = np.random.default_rng()\n",
    "\n",
    "x = rng.normal(size=10000)\n",
    "\n",
    "x2 = x[np.abs(x)>=1.96]\n",
    "\n",
    "print(x2.size)\n",
    "print(x2.size/x.size)\n",
    "np.sum(np.abs(x2))/np.sum(np.abs(x))"
   ]
  },
  {
   "cell_type": "markdown",
   "id": "c11a6f7c-467f-4c58-bbcc-d0bd8cee197c",
   "metadata": {},
   "source": [
    "Lorsque c’est possible, il est recommandé d’utiliser les fonctions logiques de `numpy` (optimisées et\n",
    "qui gèrent bien la dimension).\n",
    "Parmi elles, on peut retrouver:\n",
    "\n",
    "-   `count_nonzero` ;\n",
    "-   `isnan` ;\n",
    "-   `any` ou `all`, notamment avec l’argument `axis` ;\n",
    "-   `np.array_equal` pour vérifier, élément par élément, l’égalité.\n",
    "\n",
    "Soient `x` un *array* multidimensionnel et `y` un *array* unidimensionnel présentant une valeur manquante."
   ]
  },
  {
   "cell_type": "code",
   "execution_count": null,
   "id": "03edeb94",
   "metadata": {},
   "outputs": [],
   "source": [
    "# Assuming rng has been created beforehand\n",
    "x = rng.normal(0, size=(3, 4))\n",
    "y = np.array([np.nan, 0, 1])"
   ]
  },
  {
   "cell_type": "markdown",
   "id": "c8bb6488-7c95-4c0e-adf6-53c47f612057",
   "metadata": {},
   "source": [
    "> **Exercice 4**\n",
    ">\n",
    "> 1.  Utiliser `count_nonzero` sur `y`\n",
    "> 2.  Utiliser `isnan` sur `y` et compter le nombre de valeurs non NaN\n",
    "> 3.  Vérifier que `x` comporte au moins une valeur positive dans son ensemble, en parcourant les lignes puis les colonnes.\n",
    ">\n",
    "> <details>\n",
    ">\n",
    "> <summary>\n",
    ">\n",
    "> Aide\n",
    ">\n",
    "> </summary>\n",
    ">\n",
    "> Jetez un oeil au paramètre `axis` en vous documentant sur internet. Par exemple [ici](https://www.sharpsightlabs.com/blog/numpy-axes-explained/).\n",
    ">\n",
    "> </details>"
   ]
  },
  {
   "cell_type": "code",
   "execution_count": null,
   "id": "47427715",
   "metadata": {},
   "outputs": [],
   "source": [
    "# If rng has not been created beforehand:\n",
    "# rng = np.random.default_rng()\n",
    "\n",
    "x = rng.normal(0, size=(3, 4))\n",
    "y = np.array([np.nan, 0, 1])\n",
    "\n",
    "print(x)\n",
    "print(y)\n",
    "# Question 1\n",
    "print(np.count_nonzero(y))\n",
    "# Question 2\n",
    "print(np.isnan(y))\n",
    "print(np.sum(np.isnan(y)))\n",
    "# Question 3\n",
    "print(np.any(x>0))\n",
    "print(np.any(x>0, axis = 0))\n",
    "print(np.any(x>0, axis = 1))"
   ]
  },
  {
   "cell_type": "markdown",
   "id": "4398c1ea-dd24-4364-991e-9811a5e9547a",
   "metadata": {},
   "source": [
    "# 4. Manipuler un *array*\n",
    "\n",
    "## 4.1 Fonctions de manipulation\n",
    "\n",
    "`Numpy` propose des méthodes ou des fonctions standardisées pour\n",
    "modifier un array, voici un tableau en présentant quelques-unes:\n",
    "\n",
    "| Opération | Implémentation |\n",
    "|------------------------------|------------------------------------------|\n",
    "| Aplatir un array | `x.flatten()` (méthode) |\n",
    "| Transposer un array | `x.T` (méthode) ou `np.transpose(x)` (fonction) |\n",
    "| Ajouter des éléments à la fin | `np.append(x, [1,2])` |\n",
    "| Ajouter des éléments à un endroit donné (aux positions 1 et 2) | `np.insert(x, [1,2], 3)` |\n",
    "| Supprimer des éléments (aux positions 0 et 3) | `np.delete(x, [0,3])` |\n",
    "\n",
    "Pour combiner des array, on peut utiliser, selon les cas,\n",
    "les fonctions `np.concatenate`, `np.vstack` ou la méthode `.r_` (concaténation *rowwise*).\n",
    "`np.hstack` ou la méthode `.column_stack` ou `.c_` (concaténation *column-wise*)"
   ]
  },
  {
   "cell_type": "code",
   "execution_count": null,
   "id": "282a923b",
   "metadata": {},
   "outputs": [],
   "source": [
    "x = rng.normal(size = 10)"
   ]
  },
  {
   "cell_type": "markdown",
   "id": "1d4f3ed0-0278-48ec-851e-ece0dd2c5ee8",
   "metadata": {},
   "source": [
    "Pour ordonner un array, on utilise `np.sort`"
   ]
  },
  {
   "cell_type": "code",
   "execution_count": null,
   "id": "d83c41bf",
   "metadata": {},
   "outputs": [
    {
     "data": {
      "text/plain": [
       "array([1, 2, 3, 4, 5, 6, 7])"
      ]
     },
     "metadata": {},
     "output_type": "display_data"
    }
   ],
   "source": [
    "x = np.array([7, 2, 3, 1, 6, 5, 4])\n",
    "\n",
    "np.sort(x)"
   ]
  },
  {
   "cell_type": "markdown",
   "id": "4abedcd1-44ab-4350-ad69-186562eaa802",
   "metadata": {},
   "source": [
    "Si on désire faire un ré-ordonnement partiel pour trouver les *k* valeurs les plus petites d’un `array` sans les ordonner, on utilise `partition`:"
   ]
  },
  {
   "cell_type": "code",
   "execution_count": null,
   "id": "df6b9059",
   "metadata": {},
   "outputs": [
    {
     "data": {
      "text/plain": [
       "array([1, 2, 3, 4, 5, 6, 7])"
      ]
     },
     "metadata": {},
     "output_type": "display_data"
    }
   ],
   "source": [
    "np.partition(x, 3)"
   ]
  },
  {
   "cell_type": "markdown",
   "id": "abdccf4e-94f4-4427-a0c5-f392e68b1dcc",
   "metadata": {},
   "source": [
    "## 4.2 Statistiques sur un *array*\n",
    "\n",
    "Pour les statistiques descriptives classiques,\n",
    "`Numpy` propose un certain nombre de fonctions déjà implémentées,\n",
    "qui peuvent être combinées avec l’argument `axis`"
   ]
  },
  {
   "cell_type": "code",
   "execution_count": null,
   "id": "8c393ca7",
   "metadata": {},
   "outputs": [],
   "source": [
    "x = rng.normal(0, size=(3, 4))"
   ]
  },
  {
   "cell_type": "markdown",
   "id": "4278692d-9510-40e1-97a1-9acb3e0ea158",
   "metadata": {},
   "source": [
    "> **Exercice 5**\n",
    ">\n",
    "> 1.  Faire la somme de tous les éléments d’un `array`, des éléments en ligne et des éléments en colonne. Vérifier\n",
    ">     la cohérence.\n",
    "> 2.  Ecrire une fonction `statdesc` pour renvoyer les valeurs suivantes : moyenne, médiane, écart-type, minimum et maximum.\n",
    ">     L’appliquer sur `x` en jouant avec l’argument *axis*"
   ]
  },
  {
   "cell_type": "code",
   "execution_count": null,
   "id": "387f5bc3",
   "metadata": {},
   "outputs": [],
   "source": [
    "# Solution\n",
    "print(x)\n",
    "print(x.sum())\n",
    "print(x.sum(axis = 0))\n",
    "print(x.sum(axis = 1))\n",
    "# check coherence\n",
    "print(x.sum(axis = 0).sum())\n",
    "print(x.sum(axis = 1).sum())"
   ]
  },
  {
   "cell_type": "code",
   "execution_count": null,
   "id": "22b42017",
   "metadata": {},
   "outputs": [],
   "source": [
    "# Solution\n",
    "\n",
    "def statdesc(x, axis = None):\n",
    "    \"\"\"\n",
    "    Aggregate statistics on a numpy array\n",
    "\n",
    "    :param x: Numpy array\n",
    "    :param axis: Numpy dimension that should be used\n",
    "    :return: A numpy array with mean, median, sd, min and max\n",
    "    \"\"\"\n",
    "\n",
    "    return np.array([\n",
    "        np.mean(x, axis = axis),\n",
    "        np.median(x, axis = axis),\n",
    "        np.std(x, axis = axis),\n",
    "        np.min(x, axis = axis),\n",
    "        np.max(x, axis = axis)\n",
    "        ])\n",
    "\n",
    "statdesc(x)\n",
    "statdesc(x, axis = 0)\n",
    "statdesc(x, axis = 1)"
   ]
  },
  {
   "cell_type": "markdown",
   "id": "6fe6f573-f0ed-464c-ab75-f8e75fce184f",
   "metadata": {},
   "source": [
    "# 5. *Broadcasting*\n",
    "\n",
    "Le *broadcasting* désigne un ensemble de règles permettant\n",
    "d’appliquer des opérations sur des tableaux de dimensions différentes. En pratique,\n",
    "cela consiste généralement à appliquer une seule opération à l’ensemble des membres d’un tableau `numpy`.\n",
    "\n",
    "La différence peut être comprise à partir de l’exemple suivant. Le *broadcasting* permet\n",
    "de transformer le scalaire `5` en *array* de dimension 3:"
   ]
  },
  {
   "cell_type": "code",
   "execution_count": null,
   "id": "d373dd73",
   "metadata": {},
   "outputs": [
    {
     "data": {
      "text/plain": [
       "array([5, 6, 7])"
      ]
     },
     "metadata": {},
     "output_type": "display_data"
    }
   ],
   "source": [
    "a = np.array([0, 1, 2])\n",
    "b = np.array([5, 5, 5])\n",
    "\n",
    "a + b\n",
    "a + 5"
   ]
  },
  {
   "cell_type": "markdown",
   "id": "18ebf329-b345-45d0-aaaa-16f0ff37bfdb",
   "metadata": {},
   "source": [
    "Le *broadcasting* peut être très pratique pour effectuer de manière efficace des opérations sur des données à\n",
    "la structure complexe. Pour plus de détails, se rendre\n",
    "[ici](https://jakevdp.github.io/PythonDataScienceHandbook/02.05-computation-on-arrays-broadcasting.html) ou [ici](https://stackoverflow.com/questions/47435526/what-is-the-meaning-of-axis-1-in-keras-argmax).\n",
    "\n",
    "## 5.1 Une application: programmer ses propres k-nearest neighbors\n",
    "\n",
    "> **Exercice 6 (un peu plus corsé)**\n",
    ">\n",
    "> 1.  Créer `X` un tableau à deux dimensions (i.e. une matrice) comportant 10 lignes\n",
    ">     et 2 colonnes. Les nombres dans le tableau sont aléatoires.\n",
    "> 2.  Importer le module `matplotlib.pyplot` sous le nom `plt`. Utiliser\n",
    ">     `plt.scatter` pour représenter les données sous forme de nuage de points.\n",
    "> 3.  Constuire une matrice 10x10 stockant, à l’élément $(i,j)$, la distance euclidienne entre les points $X[i,]$ et $X[j,]$. Pour cela, il va falloir jouer avec les dimensions en créant des tableaux emboîtés à partir par des appels à `np.newaxis` :\n",
    ">     1.  En premier lieu, utiliser `X1 = X[:, np.newaxis, :]` pour transformer la matrice en tableau emboîté. Vérifier les dimensions\n",
    ">     2.  Créer `X2` de dimension `(1, 10, 2)` à partir de la même logique\n",
    ">     3.  En déduire, pour chaque point, la distance avec les autres points pour chaque coordonnées. Elever celle-ci au carré\n",
    ">     4.  A ce stade, vous devriez avoir un tableau de dimension `(10, 10, 2)`. La réduction à une matrice s’obtient en sommant sur le dernier axe. Regarder dans l’aide de `np.sum` comme effectuer une somme sur le dernier axe.\n",
    ">     5.  Enfin, appliquer la racine carrée pour obtenir une distance euclidienne en bonne et due forme.\n",
    "> 4.  Vérifier que les termes diagonaux sont bien nuls (distance d’un point à lui-même…)\n",
    "> 5.  Il s’agit maintenant de classer, pour chaque point, les points dont les valeurs sont les plus similaires. Utiliser `np.argsort` pour obtenir, pour chaque ligne, le classement des points les plus proches\n",
    "> 6.  On va s’intéresser aux k-plus proches voisins. Pour le moment, fixons k=2. Utiliser `argpartition` pour réordonner chaque ligne de manière à avoir les 2 plus proches voisins de chaque point d’abord et le reste de la ligne ensuite\n",
    "> 7.  Utiliser le morceau de code ci-dessous"
   ]
  },
  {
   "cell_type": "markdown",
   "id": "cb0efe2b-0652-4d7c-a54f-4d79924fea0b",
   "metadata": {},
   "source": [
    "<details><summary>Un indice pour représenter graphiquement les plus proches voisins</summary>\n",
    "\n",
    "``` python\n",
    "plt.scatter(X[:, 0], X[:, 1], s=100)\n",
    "\n",
    "# draw lines from each point to its two nearest neighbors\n",
    "K = 2\n",
    "\n",
    "for i in range(X.shape[0]):\n",
    "    for j in nearest_partition[i, :K+1]:\n",
    "        # plot a line from X[i] to X[j]\n",
    "        # use some zip magic to make it happen:\n",
    "        plt.plot(*zip(X[j], X[i]), color='black')\n",
    "```\n",
    "\n",
    "</details>"
   ]
  },
  {
   "cell_type": "code",
   "execution_count": null,
   "id": "f23c347c",
   "metadata": {},
   "outputs": [],
   "source": [
    "# If rng has not been created beforehand:\n",
    "# rng = np.random.default_rng()\n",
    "\n",
    "import matplotlib.pyplot as plt\n",
    "\n",
    "# Question 1\n",
    "X = rng.uniform(size = (10, 2))\n",
    "\n",
    "# Question 2 \n",
    "print(X[:,0])\n",
    "print(X[:,1])\n",
    "plt.scatter(X[:, 0], X[:, 1], s=100)"
   ]
  },
  {
   "cell_type": "markdown",
   "id": "dd4446bd-5438-4e0f-8b76-5a4474c521b0",
   "metadata": {},
   "source": [
    "Pour la question 2, vous devriez obtenir un graphique ayant cet aspect\n",
    "\n",
    "For question 2, you should get a graph that looks like this:"
   ]
  },
  {
   "cell_type": "code",
   "execution_count": null,
   "id": "0ffa9441",
   "metadata": {},
   "outputs": [
    {
     "data": {
      "image/png": "[encoded data removed]"
     },
     "metadata": {},
     "output_type": "display_data"
    }
   ],
   "source": [
    "fig = plt.figure()\n",
    "plt.scatter(X[:, 0], X[:, 1], s=100)\n",
    "fig\n",
    "plt.show()"
   ]
  },
  {
   "cell_type": "code",
   "execution_count": null,
   "id": "2041f59b",
   "metadata": {},
   "outputs": [],
   "source": [
    "# Question 3\n",
    "print(X.shape)\n",
    "X1 = X[:, np.newaxis, :]\n",
    "print(\"dimension X1 : \", X1.shape)\n",
    "X2 = X[np.newaxis, :,:]\n",
    "print(\"dimension X2 : \", X2.shape)\n",
    "dist1 = (X1 - X2) ** 2\n",
    "print(\"dimension dist1 : \", dist1.shape)\n",
    "dist = np.sqrt(np.sum((X1 - X2) ** 2, axis=-1))\n",
    "print(\"dimension dist : \", dist.shape)\n",
    "\n",
    "# Question 4\n",
    "print(dist)\n",
    "print(dist.diagonal())\n",
    "\n",
    "# Question 5 \n",
    "np.argsort(dist)\n",
    "\n",
    "# Question 6\n",
    "K = 2\n",
    "nearest_partition = np.argpartition(dist, K + 1, axis=1)\n",
    "print(nearest_partition) # NB: closest point is always itself !"
   ]
  },
  {
   "cell_type": "markdown",
   "id": "9b72f208-7fc8-4bd8-88e8-ee609f665de9",
   "metadata": {},
   "source": [
    "Le résultat de la question 7 est le suivant :"
   ]
  },
  {
   "cell_type": "code",
   "execution_count": null,
   "id": "aa46ca84",
   "metadata": {},
   "outputs": [
    {
     "data": {
      "image/png": "[encoded data removed]"
     },
     "metadata": {},
     "output_type": "display_data"
    }
   ],
   "source": [
    "# Question 7 \n",
    "# Each point in the plot has lines drawn to its two nearest neighbors.\n",
    "fig = plt.figure()\n",
    "for i in range(X.shape[0]):\n",
    "    for j in nearest_partition[i, :K+1]:\n",
    "        # plot a line from X[i] to X[j]\n",
    "        # use some zip magic to make it happen:\n",
    "        plt.plot(*zip(X[j], X[i]), color='black')\n",
    "fig\n",
    "plt.savefig(\"knn.png\", bbox_inches='tight')"
   ]
  },
  {
   "cell_type": "markdown",
   "id": "b5d41c5e-729d-400d-ac62-7bb81ac2164b",
   "metadata": {},
   "source": [
    "Ai-je inventé cet exercice corsé ? Pas du tout, il vient de l’ouvrage [*Python Data Science Handbook*](https://jakevdp.github.io/PythonDataScienceHandbook/02.08-sorting.html#Example:-k-Nearest-Neighbors). Mais, si je vous l’avais indiqué immédiatement, auriez-vous cherché à répondre aux questions ?\n",
    "\n",
    "Par ailleurs, il ne serait pas une bonne idée de généraliser cet algorithme à de grosses données. La complexité de notre approche est $O(N^2)$. L’algorithme implémenté par `Scikit-Learn` est\n",
    "en $O[NlogN]$.\n",
    "\n",
    "De plus, le calcul de distances matricielles en utilisant la puissance des cartes graphiques serait plus rapide. A cet égard, la librairie [faiss](https://github.com/facebookresearch/faiss) ou les *frameworks* spécialisés dans le calcul de distance entre des vecteurs à haute dimension comme [ChromaDB](https://www.trychroma.com/)\n",
    "offrent des performances beaucoup plus satisfaisantes que celles que permettraient `Numpy` sur ce problème précis.\n",
    "\n",
    "# 6. Exercices supplémentaires\n",
    "\n",
    "> **Comprendre le principe de l’algorithme <code>PageRank</code>**\n",
    ">\n",
    "> `Google` est devenu célèbre grâce à son algorithme `PageRank`. Celui-ci permet, à partir\n",
    "> de liens entre sites *web*, de donner un score d’importance à un site *web* qui va\n",
    "> être utilisé pour évaluer sa centralité dans un réseau. L’objectif de cet exercice est d’utiliser `Numpy` pour mettre en oeuvre un tel algorithme à partir d’une matrice d’adjacence qui relie les sites entre eux.\n",
    ">\n",
    "> 1.  Créer la matrice suivante avec `Numpy`. L’appeler `M`:\n",
    ">\n",
    "> $$\n",
    "> \\begin{bmatrix}\n",
    "> 0 & 0 & 0 & 0 & 1 \\\\\n",
    "> 0.5 & 0 & 0 & 0 & 0 \\\\\n",
    "> 0.5 & 0 & 0 & 0 & 0 \\\\\n",
    "> 0 & 1 & 0.5 & 0 & 0 \\\\\n",
    "> 0 & 0 & 0.5 & 1 & 0\n",
    "> \\end{bmatrix}\n",
    "> $$\n",
    ">\n",
    "> 1.  Pour représenter visuellement ce *web* minimaliste,\n",
    ">     convertir en objet `networkx` (une librairie spécialisée\n",
    ">     dans l’analyse de réseau) et utiliser la fonction `draw`\n",
    ">     de ce package.\n",
    ">\n",
    "> Il s’agit de la transposée de la matrice d’adjacence\n",
    "> qui permet de relier les sites entre eux. Par exemple,\n",
    "> le site 1 (première colonne) est référencé par\n",
    "> les sites 2 et 3. Celui-ci ne référence que le site 5.\n",
    ">\n",
    "> 1.  A partir de la page wikipedia anglaise de `PageRank`, tester\n",
    ">     sur votre matrice."
   ]
  },
  {
   "cell_type": "code",
   "execution_count": null,
   "id": "eb5a32e5",
   "metadata": {},
   "outputs": [],
   "source": [
    "# Question 1\n",
    "M = np.array([[0, 0, 0, 0, 1],\n",
    "              [0.5, 0, 0, 0, 0],\n",
    "              [0.5, 0, 0, 0, 0],\n",
    "              [0, 1, 0.5, 0, 0],\n",
    "              [0, 0, 0.5, 1, 0]])"
   ]
  },
  {
   "cell_type": "code",
   "execution_count": null,
   "id": "c51de2b5",
   "metadata": {},
   "outputs": [
    {
     "data": {
      "image/png": "[encoded data removed]"
     },
     "metadata": {},
     "output_type": "display_data"
    }
   ],
   "source": [
    "import networkx as nx\n",
    "\n",
    "G = nx.from_numpy_array(M)\n",
    "fig = plt.figure()\n",
    "nx.draw(G)\n",
    "plt.savefig(\"scatter_numpy.png\", bbox_inches = \"tight\")"
   ]
  },
  {
   "cell_type": "code",
   "execution_count": null,
   "id": "33d2167f",
   "metadata": {},
   "outputs": [],
   "source": [
    "\"\"\"PageRank algorithm with explicit number of iterations.\n",
    "\n",
    "Returns\n",
    "-------\n",
    "ranking of nodes (pages) in the adjacency matrix\n",
    "\n",
    "\"\"\"\n",
    "\n",
    "import numpy as np\n",
    "rng = np.random.default_rng()\n",
    "\n",
    "\n",
    "def pagerank(M, num_iterations: int = 100, d: float = 0.85):\n",
    "    \"\"\"PageRank: The trillion dollar algorithm.\n",
    "\n",
    "    Parameters\n",
    "    ----------\n",
    "    M : numpy array\n",
    "        adjacency matrix where M_i,j represents the link from 'j' to 'i', such that for all 'j'\n",
    "        sum(i, M_i,j) = 1\n",
    "    num_iterations : int, optional\n",
    "        number of iterations, by default 100\n",
    "    d : float, optional\n",
    "        damping factor, by default 0.85\n",
    "\n",
    "    Returns\n",
    "    -------\n",
    "    numpy array\n",
    "        a vector of ranks such that v_i is the i-th rank from [0, 1],\n",
    "        v sums to 1\n",
    "\n",
    "    \"\"\"\n",
    "    N = M.shape[1]\n",
    "    v = rng.uniform(size = (N, 1))\n",
    "    v = v / np.linalg.norm(v, 1)\n",
    "    M_hat = (d * M + (1 - d) / N)\n",
    "    for i in range(num_iterations):\n",
    "        v = M_hat @ v\n",
    "    return v\n",
    "\n",
    "v = pagerank(M, 100, 0.85)"
   ]
  },
  {
   "cell_type": "markdown",
   "id": "40335751-49af-4ac7-a997-e7fc24838cea",
   "metadata": {},
   "source": [
    "Le site 1 est assez central car il est référencé 2 fois. Le site\n",
    "5 est lui également central puisqu’il est référencé par le site 1."
   ]
  },
  {
   "cell_type": "code",
   "execution_count": null,
   "id": "693fbccb",
   "metadata": {},
   "outputs": [
    {
     "data": {
      "text/plain": [
       "array([[0.25419178],\n",
       "       [0.13803151],\n",
       "       [0.13803151],\n",
       "       [0.20599017],\n",
       "       [0.26375504]])"
      ]
     },
     "metadata": {},
     "output_type": "display_data"
    }
   ],
   "source": [
    "v"
   ]
  }
 ],
 "metadata": {
  "kernelspec": {
   "display_name": "Python 3 (ipykernel)",
   "language": "python",
   "name": "python3",
   "path": "/home/runner/work/python-datascientist/python-datascientist/.venv/share/jupyter/kernels/python3"
  },
  "language_info": {
   "codemirror_mode": {
    "name": "ipython",
    "version": "3"
   },
   "file_extension": ".py",
   "mimetype": "text/x-python",
   "name": "python",
   "nbconvert_exporter": "python",
   "pygments_lexer": "ipython3",
   "version": "3.12.3"
  }
 },
 "nbformat": 4,
 "nbformat_minor": 5
}

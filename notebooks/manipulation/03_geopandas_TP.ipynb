{
 "cells": [
  {
   "cell_type": "markdown",
   "id": "2a1a7aaf-e8db-4ff1-9e4a-7d80a4dcf2be",
   "metadata": {},
   "source": [
    "# Pratique de geopandas avec les données vélib\n",
    "\n",
    "Lino Galiana  \n",
    "2025-10-07\n",
    "\n",
    "La partie `GeoPandas` a évolué récemment. Vous pouvez retrouver les contenus liés à `GeoPandas` dans le chapitre suivant (éléments magistraux et exercices):\n",
    "\n",
    "-   [Introduction aux données spatiales avec `Geopandas`](../../content/manipulation/03_geopandas_intro.qmd)"
   ]
  }
 ],
 "metadata": {
  "kernelspec": {
   "display_name": "Python 3",
   "language": "python",
   "name": "python3"
  }
 },
 "nbformat": 4,
 "nbformat_minor": 5
}

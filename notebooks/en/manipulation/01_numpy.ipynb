{
 "cells": [
  {
   "cell_type": "markdown",
   "id": "b591adff-76c4-4666-9a63-da012c819a2a",
   "metadata": {},
   "source": [
    "# Numpy, the foundation of data science\n",
    "\n",
    "Lino Galiana  \n",
    "2025-10-07\n",
    "\n",
    "<div class=\"badge-container\"><div class=\"badge-text\">If you want to try the examples in this tutorial:</div><a href=\"https://github.com/linogaliana/python-datascientist-notebooks/blob/main/notebooks/en/manipulation/01_numpy.ipynb\" target=\"_blank\" rel=\"noopener\"><img src=\"https://img.shields.io/static/v1?logo=github&label=&message=View%20on%20GitHub&color=181717\" alt=\"View on GitHub\"></a>\n",
    "<a href=\"https://datalab.sspcloud.fr/launcher/ide/vscode-python?autoLaunch=true&name=«01_numpy»&init.personalInit=«https%3A%2F%2Fraw.githubusercontent.com%2Flinogaliana%2Fpython-datascientist%2Fmain%2Fsspcloud%2Finit-vscode.sh»&init.personalInitArgs=«en/manipulation%2001_numpy%20correction»\" target=\"_blank\" rel=\"noopener\"><img src=\"https://custom-icon-badges.demolab.com/badge/SSP%20Cloud-Lancer_avec_VSCode-blue?logo=vsc&logoColor=white\" alt=\"Onyxia\"></a>\n",
    "<a href=\"https://datalab.sspcloud.fr/launcher/ide/jupyter-python?autoLaunch=true&name=«01_numpy»&init.personalInit=«https%3A%2F%2Fraw.githubusercontent.com%2Flinogaliana%2Fpython-datascientist%2Fmain%2Fsspcloud%2Finit-jupyter.sh»&init.personalInitArgs=«en/manipulation%2001_numpy%20correction»\" target=\"_blank\" rel=\"noopener\"><img src=\"https://img.shields.io/badge/SSP%20Cloud-Lancer_avec_Jupyter-orange?logo=Jupyter&logoColor=orange\" alt=\"Onyxia\"></a>\n",
    "<a href=\"https://colab.research.google.com/github/linogaliana/python-datascientist-notebooks-colab//en/blob/main//notebooks/en/manipulation/01_numpy.ipynb\" target=\"_blank\" rel=\"noopener\"><img src=\"https://colab.research.google.com/assets/colab-badge.svg\" alt=\"Open In Colab\"></a><br></div>\n",
    "\n",
    "> **Note**\n",
    ">\n",
    "> Ceci est la version française 🇫🇷 de ce chapitre, pour voir la version anglaise allez <a href=\"/home/runner/work/python-datascientist/python-datascientist/en/content/manipulation/01_numpy.qmd\">ici</a>.\n",
    "\n",
    "# 1. Introduction\n",
    "\n",
    "This chapter serves as an introduction to *Numpy* to ensure that the basics of vector calculations with `Python` are mastered. The first part of the chapter presents small exercises to practice some basic functions of `Numpy`. The end of the chapter presents more in-depth practical exercises using `Numpy`.\n",
    "\n",
    "It is recommended to regularly refer to the [*numpy cheatsheet*](https://www.datacamp.com/community/blog/python-numpy-cheat-sheet) and the [official documentation](https://numpy.org/doc/stable/) if you have any doubts about a function.\n",
    "\n",
    "In this chapter, we will adhere to the convention of importing `Numpy` as follows:"
   ]
  },
  {
   "cell_type": "code",
   "execution_count": null,
   "id": "import-np",
   "metadata": {},
   "outputs": [],
   "source": [
    "import numpy as np"
   ]
  },
  {
   "cell_type": "markdown",
   "id": "8669950f-fb59-4ff2-9770-d7f73f6c99b3",
   "metadata": {},
   "source": [
    "We will also set the seed of the random number generator to obtain reproducible results:"
   ]
  },
  {
   "cell_type": "code",
   "execution_count": null,
   "id": "f9caee49",
   "metadata": {},
   "outputs": [],
   "source": [
    "import numpy as np\n",
    "rng = np.random.default_rng(seed=12345)"
   ]
  },
  {
   "cell_type": "markdown",
   "id": "f96fede8-bac5-4fb4-8190-9915fdffd9ba",
   "metadata": {},
   "source": [
    "> **Caution**\n",
    ">\n",
    "> Historically, random numbers were generated using the `numpy.random` package. However, the authors of `Numpy` [now recommend](https://numpy.org/doc/stable/reference/random/index.html) using generators instead. The examples in this tutorial adopt this practice.\n",
    "\n",
    "# 2. Concept of *array*\n",
    "\n",
    "In the world of data science, as will be discussed in more depth in the upcoming chapters, the central object is the two-dimensional data table. The first dimension corresponds to rows and the second to columns. If we only consider one dimension, we refer to a variable (a column) of our data table. It is therefore natural to link data tables to the mathematical objects of matrices and vectors.\n",
    "\n",
    "`NumPy` (`Numerical Python`) is the foundational brick for processing numerical lists or strings of text as matrices. `NumPy` comes into play to offer this type of object and the associated standardized operations that do not exist in the basic `Python` language.\n",
    "\n",
    "The central object of `NumPy` is the **`array`**, which is a multidimensional data table. A `Numpy` array can be one-dimensional and considered as a vector (`1d-array`), two-dimensional and considered as a matrix (`2d-array`), or, more generally, take the form of a multidimensional object (`Nd-array`), a sort of nested table.\n",
    "\n",
    "Simple arrays (one or two-dimensional) are easy to represent and cover most of the use-case related to `Numpy`. We will discover in the next chapter on `Pandas` that, in practice, we usually don’t directly use `Numpy` since it is a low-level library. A `Pandas` *DataFrame* is constructed from a collection of one-dimensional arrays (the variables of the table), which allows performing coherent (and optimized) operations with the variable type. Having some `Numpy` knowledge is useful for understanding the logic of vector manipulation, making data processing more readable, efficient, and reliable.\n",
    "\n",
    "Compared to a list,\n",
    "\n",
    "-   an *array* can only contain one type of data (`integer`, `string`, etc.), unlike a list.\n",
    "-   operations implemented by `Numpy` will be more efficient and require less memory.\n",
    "\n",
    "Geographical data will constitute a slightly more complex construction than a traditional `DataFrame`. The geographical dimension takes the form of a deeper table, at least two-dimensional (coordinates of a point). However, geographical data manipulation libraries will handle this increased complexity.\n",
    "\n",
    "## 2.1 Creating an array\n",
    "\n",
    "We can create an array in several ways. To create an array from a list, simply use the `array` method:"
   ]
  },
  {
   "cell_type": "code",
   "execution_count": null,
   "id": "1807fdfb",
   "metadata": {},
   "outputs": [
    {
     "data": {
      "text/plain": [
       "array([1, 2, 5])"
      ]
     },
     "metadata": {},
     "output_type": "display_data"
    }
   ],
   "source": [
    "np.array([1,2,5])"
   ]
  },
  {
   "cell_type": "markdown",
   "id": "4c359d42-5a41-456b-b858-5bbbef53408f",
   "metadata": {},
   "source": [
    "It is possible to add a `dtype` argument to constrain the array type:"
   ]
  },
  {
   "cell_type": "code",
   "execution_count": null,
   "id": "6dac3b2c",
   "metadata": {},
   "outputs": [
    {
     "data": {
      "text/plain": [
       "array([list(['a', 'z', 'e']), list(['r', 't']), list(['y'])], dtype=object)"
      ]
     },
     "metadata": {},
     "output_type": "display_data"
    }
   ],
   "source": [
    "np.array([[\"a\",\"z\",\"e\"],[\"r\",\"t\"],[\"y\"]], dtype=\"object\")"
   ]
  },
  {
   "cell_type": "markdown",
   "id": "32cd9aee-3c5b-4b47-81e0-6a69f66eae7b",
   "metadata": {},
   "source": [
    "There are also practical methods for creating arrays:\n",
    "\n",
    "-   Logical sequences: `np.arange` (sequence) or `np.linspace` (linear interpolation between two bounds);\n",
    "-   Ordered sequences: array filled with zeros, ones, or a desired number: `np.zeros`, `np.ones`, or `np.full`;\n",
    "-   Random sequences: random number generation functions: `rng.uniform`, `rng.normal`, etc. where `rng` is a random number generator;\n",
    "-   Matrix in the form of an identity matrix: `np.eye`.\n",
    "\n",
    "This gives, for logical sequences:"
   ]
  },
  {
   "cell_type": "code",
   "execution_count": null,
   "id": "464ea56a",
   "metadata": {},
   "outputs": [
    {
     "data": {
      "text/plain": [
       "array([0, 1, 2, 3, 4, 5, 6, 7, 8, 9])"
      ]
     },
     "metadata": {},
     "output_type": "display_data"
    }
   ],
   "source": [
    "np.arange(0,10)"
   ]
  },
  {
   "cell_type": "code",
   "execution_count": null,
   "id": "f3e330ca",
   "metadata": {},
   "outputs": [
    {
     "data": {
      "text/plain": [
       "array([0, 3, 6, 9])"
      ]
     },
     "metadata": {},
     "output_type": "display_data"
    }
   ],
   "source": [
    "np.arange(0,10,3)"
   ]
  },
  {
   "cell_type": "code",
   "execution_count": null,
   "id": "7b53d9cb",
   "metadata": {},
   "outputs": [
    {
     "data": {
      "text/plain": [
       "array([0.  , 0.25, 0.5 , 0.75, 1.  ])"
      ]
     },
     "metadata": {},
     "output_type": "display_data"
    }
   ],
   "source": [
    "np.linspace(0, 1, 5)"
   ]
  },
  {
   "cell_type": "markdown",
   "id": "80a3292a-f915-4494-95e4-7cf2db004486",
   "metadata": {},
   "source": [
    "For an array initialized to 0:"
   ]
  },
  {
   "cell_type": "code",
   "execution_count": null,
   "id": "25279a9a",
   "metadata": {},
   "outputs": [
    {
     "data": {
      "text/plain": [
       "array([0, 0, 0, 0, 0, 0, 0, 0, 0, 0])"
      ]
     },
     "metadata": {},
     "output_type": "display_data"
    }
   ],
   "source": [
    "np.zeros(10, dtype=int)"
   ]
  },
  {
   "cell_type": "markdown",
   "id": "6c448762-fcd5-40b4-afa5-76e7a044a479",
   "metadata": {},
   "source": [
    "or initialized to 1:"
   ]
  },
  {
   "cell_type": "code",
   "execution_count": null,
   "id": "f2bd1e60",
   "metadata": {},
   "outputs": [
    {
     "data": {
      "text/plain": [
       "array([[1., 1., 1., 1., 1.],\n",
       "       [1., 1., 1., 1., 1.],\n",
       "       [1., 1., 1., 1., 1.]])"
      ]
     },
     "metadata": {},
     "output_type": "display_data"
    }
   ],
   "source": [
    "np.ones((3, 5), dtype=float)"
   ]
  },
  {
   "cell_type": "markdown",
   "id": "c8418197-131a-4389-9863-e6b484108069",
   "metadata": {},
   "source": [
    "or even initialized to 3.14:"
   ]
  },
  {
   "cell_type": "code",
   "execution_count": null,
   "id": "78be2956",
   "metadata": {},
   "outputs": [
    {
     "data": {
      "text/plain": [
       "array([[3.14, 3.14, 3.14, 3.14, 3.14],\n",
       "       [3.14, 3.14, 3.14, 3.14, 3.14],\n",
       "       [3.14, 3.14, 3.14, 3.14, 3.14]])"
      ]
     },
     "metadata": {},
     "output_type": "display_data"
    }
   ],
   "source": [
    "np.full((3, 5), 3.14)"
   ]
  },
  {
   "cell_type": "markdown",
   "id": "c59d4a8d-0873-445f-8a7c-3c3929a8081b",
   "metadata": {},
   "source": [
    "Finally, to create the matrix $I_3$:"
   ]
  },
  {
   "cell_type": "code",
   "execution_count": null,
   "id": "99ee2d3d",
   "metadata": {},
   "outputs": [
    {
     "data": {
      "text/plain": [
       "array([[1., 0., 0.],\n",
       "       [0., 1., 0.],\n",
       "       [0., 0., 1.]])"
      ]
     },
     "metadata": {},
     "output_type": "display_data"
    }
   ],
   "source": [
    "np.eye(3)"
   ]
  },
  {
   "cell_type": "markdown",
   "id": "ce63c879-d450-4162-976e-35cc3f767118",
   "metadata": {},
   "source": [
    "> **Exercise 1**\n",
    ">\n",
    "> Generate:\n",
    ">\n",
    "> -   $X$ a random variable, 1000 repetitions of a $U(0,1)$ distribution\n",
    "> -   $Y$ a random variable, 1000 repetitions of a normal distribution with zero mean and variance equal to 2\n",
    "> -   Verify the variance of $Y$ with `np.var`"
   ]
  },
  {
   "cell_type": "code",
   "execution_count": null,
   "id": "84d66750",
   "metadata": {},
   "outputs": [],
   "source": [
    "# If rng has not been created beforehand:\n",
    "# rng = np.random.default_rng()\n",
    "\n",
    "X = rng.uniform(0,1,1000)\n",
    "Y = rng.normal(0,np.sqrt(2),1000)\n",
    "\n",
    "np.var(Y)"
   ]
  },
  {
   "cell_type": "markdown",
   "id": "3fbc68d0-6b92-4f94-bca2-0d2aab293759",
   "metadata": {},
   "source": [
    "# 3. Indexing and slicing\n",
    "\n",
    "## 3.1 Logic illustrated with a one-dimensional array\n",
    "\n",
    "The simplest structure is the one-dimensional array:"
   ]
  },
  {
   "cell_type": "code",
   "execution_count": null,
   "id": "991ca92b",
   "metadata": {},
   "outputs": [
    {
     "name": "stdout",
     "output_type": "stream",
     "text": [
      "[0 1 2 3 4 5 6 7 8 9]"
     ]
    }
   ],
   "source": [
    "x = np.arange(10)\n",
    "print(x)"
   ]
  },
  {
   "cell_type": "markdown",
   "id": "d733a3a7-31da-41e3-93a5-782dbc7274d1",
   "metadata": {},
   "source": [
    "Indexing in this case is similar to that of a list:\n",
    "\n",
    "-   The first element is 0\n",
    "-   The nth element is accessible at position $n-1$\n",
    "\n",
    "The logic for accessing elements is as follows:\n",
    "\n",
    "``` python\n",
    "x[start:stop:step]\n",
    "```\n",
    "\n",
    "With a one-dimensional array, the slicing operation (keeping a slice of the array) is very simple. For example, to keep the first *K* elements of an array, you would do:\n",
    "\n",
    "``` python\n",
    "x[:K]\n",
    "```\n",
    "\n",
    "In this case, you select the K$^{th}$ element using:\n",
    "\n",
    "``` python\n",
    "x[K-1]\n",
    "```\n",
    "\n",
    "To select only one element, you would do:"
   ]
  },
  {
   "cell_type": "code",
   "execution_count": null,
   "id": "4e4f0a3a",
   "metadata": {},
   "outputs": [
    {
     "data": {
      "text/plain": [
       "np.int64(2)"
      ]
     },
     "metadata": {},
     "output_type": "display_data"
    }
   ],
   "source": [
    "x = np.arange(10)\n",
    "x[2]"
   ]
  },
  {
   "cell_type": "markdown",
   "id": "b435ea76-5403-4679-9130-66f4407b6cb0",
   "metadata": {},
   "source": [
    "The syntax for selecting particular indices from a list also works with arrays.\n",
    "\n",
    "> **Exercise 2**\n",
    ">\n",
    "> Take `x = np.arange(10)` and…\n",
    ">\n",
    "> -   Select elements 0, 3, 5 from `x`\n",
    "> -   Select even elements\n",
    "> -   Select all elements except the first\n",
    "> -   Select the first 5 elements"
   ]
  },
  {
   "cell_type": "code",
   "execution_count": null,
   "id": "8e8283c9",
   "metadata": {},
   "outputs": [
    {
     "data": {
      "text/plain": [
       "array([0, 1, 2, 3, 4, 5, 6, 7, 8, 9])"
      ]
     },
     "metadata": {},
     "output_type": "display_data"
    }
   ],
   "source": [
    "np.arange(10)"
   ]
  },
  {
   "cell_type": "code",
   "execution_count": null,
   "id": "e1fba79c",
   "metadata": {},
   "outputs": [],
   "source": [
    "# Solution\n",
    "x[[0,3,5]]\n",
    "x[::2]\n",
    "x[1:]\n",
    "x[:5]\n",
    "# x2[0,:] # The first row"
   ]
  },
  {
   "cell_type": "markdown",
   "id": "a10ad7fd-d7d2-484d-843b-72162a75a6f4",
   "metadata": {},
   "source": [
    "The same logic applies to multidimensional *arrays*. Indexing then takes place at several levels. Take, for example, a 2-dimensional array (a matrix of sorts):"
   ]
  },
  {
   "cell_type": "code",
   "execution_count": null,
   "id": "46dd9001",
   "metadata": {},
   "outputs": [],
   "source": [
    "x = np.array([[1, 2, 3], [4, 5, 6]], np.int32)"
   ]
  },
  {
   "cell_type": "markdown",
   "id": "1d4addde-32a1-4696-86f1-00fe92db75d5",
   "metadata": {},
   "source": [
    "If we want to select the 2nd row, 3rd column (the element with value 6), we do"
   ]
  },
  {
   "cell_type": "code",
   "execution_count": null,
   "id": "39aaa463",
   "metadata": {},
   "outputs": [
    {
     "data": {
      "text/plain": [
       "np.int32(6)"
      ]
     },
     "metadata": {},
     "output_type": "display_data"
    }
   ],
   "source": [
    "x[1, 2]"
   ]
  },
  {
   "cell_type": "markdown",
   "id": "b90d78b1-c095-4e8e-a45a-ebcc8be1a2ce",
   "metadata": {},
   "source": [
    "Now, to select a complete column (e.g. the 2nd), we can use the 2nd index to specify it (index 1 in Python since indexing starts from 0) and then `:` on the first dimension (shortened version of `0:N`) to avoid discriminating according to this dimension:"
   ]
  },
  {
   "cell_type": "code",
   "execution_count": null,
   "id": "296ae3a4",
   "metadata": {},
   "outputs": [
    {
     "data": {
      "text/plain": [
       "array([2, 5], dtype=int32)"
      ]
     },
     "metadata": {},
     "output_type": "display_data"
    }
   ],
   "source": [
    "x[:,1]"
   ]
  },
  {
   "cell_type": "markdown",
   "id": "3c130e6d-ddc8-4b58-8a30-ec60a31b7584",
   "metadata": {},
   "source": [
    "The principle is generalized, but becomes more complex, for nested *arrays*. Fortunately, these are objects we rarely manipulate directly, as most of our numerical data are flat arrays (a value - the observation - is the intersection of a row - the individual - and a column - the variable).\n",
    "\n",
    "## 3.2 Regarding performance\n",
    "\n",
    "A key element in the performance of `Numpy` compared to lists, when it comes to slicing, is that an array does not return a copy of the element in question (a copy that costs memory and time) but simply a view of it.\n",
    "\n",
    "When it is necessary to make a copy, for example to avoid altering the underlying array, you can use the `copy` method:\n",
    "\n",
    "``` python\n",
    "x_sub_copy = x[:2, :2].copy()\n",
    "```\n",
    "\n",
    "It is also possible, and more practical, to select data based on logical conditions (an operation called a ***boolean mask***). This functionality will mainly be used to perform data filtering operations.\n",
    "\n",
    "For simple comparison operations, logical comparators may be sufficient. These comparisons also work on multidimensional arrays thanks to broadcasting, which we will discuss later:"
   ]
  },
  {
   "cell_type": "code",
   "execution_count": null,
   "id": "8e2db779",
   "metadata": {},
   "outputs": [
    {
     "name": "stdout",
     "output_type": "stream",
     "text": [
      "[0 1 2 3 4 5 6 7 8 9]\n",
      "[[-1  1 -2]\n",
      " [-3  2  0]]"
     ]
    }
   ],
   "source": [
    "x = np.arange(10)\n",
    "x2 = np.array([[-1,1,-2],[-3,2,0]])\n",
    "print(x)\n",
    "print(x2)"
   ]
  },
  {
   "cell_type": "code",
   "execution_count": null,
   "id": "b131bd82",
   "metadata": {},
   "outputs": [
    {
     "data": {
      "text/plain": [
       "array([[ True, False,  True],\n",
       "       [ True, False, False]])"
      ]
     },
     "metadata": {},
     "output_type": "display_data"
    }
   ],
   "source": [
    "x==2\n",
    "x2<0"
   ]
  },
  {
   "cell_type": "markdown",
   "id": "79b0f390-1667-4bd8-999d-323011290aec",
   "metadata": {},
   "source": [
    "To select the observations related to the logical condition, just use the `numpy` slicing logic that works with logical conditions.\n",
    "\n",
    "> **Exercise 3**\n",
    ">\n",
    "> Given\n",
    ">\n",
    "> ``` python\n",
    "> x = np.random.normal(size=10000)\n",
    "> ```\n",
    ">\n",
    "> 1.  Keep only the values whose absolute value is greater than 1.96\n",
    "> 2.  Count the number of values greater than 1.96 in absolute value and their proportion in the whole set\n",
    "> 3.  Sum the absolute values of all observations greater (in absolute value) than 1.96 and relate them to the sum of the values of `x` (in absolute value)"
   ]
  },
  {
   "cell_type": "code",
   "execution_count": null,
   "id": "47d2e675",
   "metadata": {},
   "outputs": [],
   "source": [
    "# If rng has not been created beforehand:\n",
    "# rng = np.random.default_rng()\n",
    "\n",
    "x = rng.normal(size=10000)\n",
    "\n",
    "x2 = x[np.abs(x)>=1.96]\n",
    "\n",
    "print(x2.size)\n",
    "print(x2.size/x.size)\n",
    "np.sum(np.abs(x2))/np.sum(np.abs(x))"
   ]
  },
  {
   "cell_type": "markdown",
   "id": "6a5d3da2-6bf5-4a53-8073-a52f0aa28c07",
   "metadata": {},
   "source": [
    "Whenever possible, it is recommended to use `numpy`’s logical functions (optimized and well-handling dimensions). Among them are:\n",
    "\n",
    "-   `count_nonzero` ;\n",
    "-   `isnan` ;\n",
    "-   `any` or `all` especially with the `axis` argument ;\n",
    "-   `np.array_equal` to check element-by-element equality.\n",
    "\n",
    "Let’s create `x` a multidimensional array and `y` a one-dimensional array with a missing value."
   ]
  },
  {
   "cell_type": "code",
   "execution_count": null,
   "id": "3ce8bfe8",
   "metadata": {},
   "outputs": [],
   "source": [
    "# Assuming rng has been created beforehand\n",
    "x = rng.normal(0, size=(3, 4))\n",
    "y = np.array([np.nan, 0, 1])"
   ]
  },
  {
   "cell_type": "markdown",
   "id": "0e8e01a8-74f9-4dfc-b6c6-5eb671a9e404",
   "metadata": {},
   "source": [
    "> **Exercise 4**\n",
    ">\n",
    "> 1.  Use `count_nonzero` on `y`\n",
    "> 2.  Use `isnan` on `y` and count the number of non-NaN values\n",
    "> 3.  Check if `x` has at least one positive value in its entirety, by rows and then by columns.\n",
    ">\n",
    "> <details>\n",
    ">\n",
    "> <summary>\n",
    ">\n",
    "> Hint\n",
    ">\n",
    "> </summary>\n",
    ">\n",
    "> Take a look at the `axis` parameter by researching online. For example, [here](https://www.sharpsightlabs.com/blog/numpy-axes-explained/).\n",
    ">\n",
    "> </details>"
   ]
  },
  {
   "cell_type": "code",
   "execution_count": null,
   "id": "c30c1439",
   "metadata": {},
   "outputs": [],
   "source": [
    "# If rng has not been created beforehand:\n",
    "# rng = np.random.default_rng()\n",
    "\n",
    "x = rng.normal(0, size=(3, 4))\n",
    "y = np.array([np.nan, 0, 1])\n",
    "\n",
    "print(x)\n",
    "print(y)\n",
    "# Question 1\n",
    "print(np.count_nonzero(y))\n",
    "# Question 2\n",
    "print(np.isnan(y))\n",
    "print(np.sum(np.isnan(y)))\n",
    "# Question 3\n",
    "print(np.any(x>0))\n",
    "print(np.any(x>0, axis = 0))\n",
    "print(np.any(x>0, axis = 1))"
   ]
  },
  {
   "cell_type": "markdown",
   "id": "b5f1b65e-c8f1-4cce-a8ca-d6ab54a855a9",
   "metadata": {},
   "source": [
    "# 4. Manipulating an array\n",
    "\n",
    "## 4.1 Manipulation functions\n",
    "\n",
    "`Numpy` provides standardized methods or functions for modifying\n",
    "here’s a table showing some of them:\n",
    "\n",
    "Here are some functions to modify an array:\n",
    "\n",
    "| Operation | Implementation |\n",
    "|------------------------------|------------------------------------------|\n",
    "| Flatten an array | `x.flatten()` (method) |\n",
    "| Transpose an array | `x.T` (method) or `np.transpose(x)` (function) |\n",
    "| Append elements to the end | `np.append(x, [1,2])` |\n",
    "| Insert elements at a given position (at positions 1 and 2) | `np.insert(x, [1,2], 3)` |\n",
    "| Delete elements (at positions 0 and 3) | `np.delete(x, [0,3])` |\n",
    "\n",
    "To combine arrays, you can use, depending on the case, the functions `np.concatenate`, `np.vstack` or the method `.r_` (row-wise concatenation). `np.hstack` or the method `.column_stack` or `.c_` (column-wise concatenation)."
   ]
  },
  {
   "cell_type": "code",
   "execution_count": null,
   "id": "db28b708",
   "metadata": {},
   "outputs": [],
   "source": [
    "x = rng.normal(size = 10)"
   ]
  },
  {
   "cell_type": "markdown",
   "id": "0bcfe645-2593-41a0-b9e7-add2dbba1d7f",
   "metadata": {},
   "source": [
    "To sort an array, use `np.sort`"
   ]
  },
  {
   "cell_type": "code",
   "execution_count": null,
   "id": "3a871b00",
   "metadata": {},
   "outputs": [
    {
     "data": {
      "text/plain": [
       "array([1, 2, 3, 4, 5, 6, 7])"
      ]
     },
     "metadata": {},
     "output_type": "display_data"
    }
   ],
   "source": [
    "x = np.array([7, 2, 3, 1, 6, 5, 4])\n",
    "\n",
    "np.sort(x)"
   ]
  },
  {
   "cell_type": "markdown",
   "id": "a8326223-a5f3-458b-a11f-3150c6d2f10b",
   "metadata": {},
   "source": [
    "If you want to perform a partial reordering to find the *k* smallest values in an `array` without sorting them, use `partition`:"
   ]
  },
  {
   "cell_type": "code",
   "execution_count": null,
   "id": "76719b8d",
   "metadata": {},
   "outputs": [
    {
     "data": {
      "text/plain": [
       "array([1, 2, 3, 4, 5, 6, 7])"
      ]
     },
     "metadata": {},
     "output_type": "display_data"
    }
   ],
   "source": [
    "np.partition(x, 3)"
   ]
  },
  {
   "cell_type": "markdown",
   "id": "295dc2a5-902d-4991-9a47-4d8bb3ce9e23",
   "metadata": {},
   "source": [
    "For classical descriptive statistics, `Numpy` offers a number of already implemented functions, which can be combined with the `axis` argument."
   ]
  },
  {
   "cell_type": "code",
   "execution_count": null,
   "id": "9d3d9ca4",
   "metadata": {},
   "outputs": [],
   "source": [
    "x = rng.normal(0, size=(3, 4))"
   ]
  },
  {
   "cell_type": "markdown",
   "id": "a8325e37-e6d7-4768-859f-83226a8e9a18",
   "metadata": {},
   "source": [
    "> **Exercise 5**\n",
    ">\n",
    "> 1.  Sum all the elements of an `array`, the elements by row, and the elements by column. Verify the consistency.\n",
    "> 2.  Write a function `statdesc` to return the following values: mean, median, standard deviation, minimum, and maximum. Apply it to `x` using the *axis* argument."
   ]
  },
  {
   "cell_type": "code",
   "execution_count": null,
   "id": "5f8b1b37",
   "metadata": {},
   "outputs": [],
   "source": [
    "# Solution\n",
    "print(x)\n",
    "print(x.sum())\n",
    "print(x.sum(axis = 0))\n",
    "print(x.sum(axis = 1))\n",
    "# check coherence\n",
    "print(x.sum(axis = 0).sum())\n",
    "print(x.sum(axis = 1).sum())"
   ]
  },
  {
   "cell_type": "code",
   "execution_count": null,
   "id": "0ba1785c",
   "metadata": {},
   "outputs": [],
   "source": [
    "# Solution\n",
    "\n",
    "def statdesc(x, axis = None):\n",
    "    \"\"\"\n",
    "    Aggregate statistics on a numpy array\n",
    "\n",
    "    :param x: Numpy array\n",
    "    :param axis: Numpy dimension that should be used\n",
    "    :return: A numpy array with mean, median, sd, min and max\n",
    "    \"\"\"\n",
    "\n",
    "    return np.array([\n",
    "        np.mean(x, axis = axis),\n",
    "        np.median(x, axis = axis),\n",
    "        np.std(x, axis = axis),\n",
    "        np.min(x, axis = axis),\n",
    "        np.max(x, axis = axis)\n",
    "        ])\n",
    "\n",
    "statdesc(x)\n",
    "statdesc(x, axis = 0)\n",
    "statdesc(x, axis = 1)"
   ]
  },
  {
   "cell_type": "markdown",
   "id": "6e69e47f-b440-47ba-8b46-461d4247981b",
   "metadata": {},
   "source": [
    "# 5. Broadcasting\n",
    "\n",
    "Broadcasting refers to a set of rules for applying operations to arrays of different dimensions. In practice, it generally consists of applying a single operation to all members of a `numpy` array.\n",
    "\n",
    "The difference can be understood from the following example. Broadcasting allows the scalar `5` to be transformed into a 3-dimensional array:"
   ]
  },
  {
   "cell_type": "code",
   "execution_count": null,
   "id": "4f07f316",
   "metadata": {},
   "outputs": [
    {
     "data": {
      "text/plain": [
       "array([5, 6, 7])"
      ]
     },
     "metadata": {},
     "output_type": "display_data"
    }
   ],
   "source": [
    "a = np.array([0, 1, 2])\n",
    "b = np.array([5, 5, 5])\n",
    "\n",
    "a + b\n",
    "a + 5"
   ]
  },
  {
   "cell_type": "markdown",
   "id": "e0c1cd36-b9e8-49d1-928d-3c49604c823e",
   "metadata": {},
   "source": [
    "Broadcasting can be very practical for efficiently performing operations on data with a complex structure. For more details, visit [here](https://jakevdp.github.io/PythonDataScienceHandbook/02.05-computation-on-arrays-broadcasting.html) or [here](https://stackoverflow.com/questions/47435526/what-is-the-meaning-of-axis-1-in-keras-argmax).\n",
    "\n",
    "## 5.1 Application: programming your own k-nearest neighbors"
   ]
  },
  {
   "cell_type": "code",
   "execution_count": null,
   "id": "fffbc161",
   "metadata": {},
   "outputs": [],
   "source": [
    "lang = \"en\""
   ]
  },
  {
   "cell_type": "markdown",
   "id": "6bfbb218-f8e6-4818-a1e8-c75927e6ebff",
   "metadata": {},
   "source": [
    "> **Exercise 6 (a bit more challenging)**\n",
    ">\n",
    "> 1.  Create `X`, a two-dimensional array (i.e., a matrix) with 10 rows and 2 columns. The numbers in the array are random.\n",
    "> 2.  Import the `matplotlib.pyplot` module as `plt`. Use `plt.scatter` to plot the data as a scatter plot.\n",
    "> 3.  Construct a 10x10 matrix storing, at element $(i,j)$, the Euclidean distance between points $X[i,]$ and $X[j,]$. To do this, you will need to work with dimensions by creating nested arrays using `np.newaxis`:\n",
    ">     1.  First, use `X1 = X[:, np.newaxis, :]` to transform the matrix into a nested array. Check the dimensions.\n",
    ">     2.  Create `X2` of dimension `(1, 10, 2)` using the same logic.\n",
    ">     3.  Deduce, for each point, the distance with other points for each coordinate. Square this distance.\n",
    ">     4.  At this stage, you should have an array of dimension `(10, 10, 2)`. The reduction to a matrix is obtained by summing over the last axis. Check the help of `np.sum` on how to sum over the last axis.\n",
    ">     5.  Finally, apply the square root to obtain a proper Euclidean distance.\n",
    "> 4.  Verify that the diagonal elements are zero (distance of a point to itself…).\n",
    "> 5.  Now, sort for each point the points with the most similar values. Use `np.argsort` to get the ranking of the closest points for each row.\n",
    "> 6.  We are interested in the k-nearest neighbors. For now, set k=2. Use `argpartition` to reorder each row so that the 2 closest neighbors of each point come first, followed by the rest of the row.\n",
    "> 7.  Use the code snippet below to graphically represent the nearest neighbors."
   ]
  },
  {
   "cell_type": "markdown",
   "id": "5ae8b422-ba22-4685-bff7-34035f4f9d1c",
   "metadata": {},
   "source": [
    "<details><summary>A hint for graphically representing the nearest neighbors</summary>\n",
    "\n",
    "``` python\n",
    "plt.scatter(X[:, 0], X[:, 1], s=100)\n",
    "\n",
    "# draw lines from each point to its two nearest neighbors\n",
    "K = 2\n",
    "\n",
    "for i in range(X.shape[0]):\n",
    "    for j in nearest_partition[i, :K+1]:\n",
    "        # plot a line from X[i] to X[j]\n",
    "        # use some zip magic to make it happen:\n",
    "        plt.plot(*zip(X[j], X[i]), color='black')\n",
    "```\n",
    "\n",
    "</details>"
   ]
  },
  {
   "cell_type": "code",
   "execution_count": null,
   "id": "5cfaa04f",
   "metadata": {},
   "outputs": [],
   "source": [
    "# If rng has not been created beforehand:\n",
    "# rng = np.random.default_rng()\n",
    "\n",
    "import matplotlib.pyplot as plt\n",
    "\n",
    "# Question 1\n",
    "X = rng.uniform(size = (10, 2))\n",
    "\n",
    "# Question 2 \n",
    "print(X[:,0])\n",
    "print(X[:,1])\n",
    "plt.scatter(X[:, 0], X[:, 1], s=100)"
   ]
  },
  {
   "cell_type": "code",
   "execution_count": null,
   "id": "c60d7c1d",
   "metadata": {},
   "outputs": [
    {
     "data": {
      "image/png": "[encoded data removed]"
     },
     "metadata": {},
     "output_type": "display_data"
    }
   ],
   "source": [
    "fig = plt.figure()\n",
    "plt.scatter(X[:, 0], X[:, 1], s=100)\n",
    "fig\n",
    "plt.show()"
   ]
  },
  {
   "cell_type": "code",
   "execution_count": null,
   "id": "c002a374",
   "metadata": {},
   "outputs": [],
   "source": [
    "# Question 3\n",
    "print(X.shape)\n",
    "X1 = X[:, np.newaxis, :]\n",
    "print(\"dimension X1 : \", X1.shape)\n",
    "X2 = X[np.newaxis, :,:]\n",
    "print(\"dimension X2 : \", X2.shape)\n",
    "dist1 = (X1 - X2) ** 2\n",
    "print(\"dimension dist1 : \", dist1.shape)\n",
    "dist = np.sqrt(np.sum((X1 - X2) ** 2, axis=-1))\n",
    "print(\"dimension dist : \", dist.shape)\n",
    "\n",
    "# Question 4\n",
    "print(dist)\n",
    "print(dist.diagonal())\n",
    "\n",
    "# Question 5 \n",
    "np.argsort(dist)\n",
    "\n",
    "# Question 6\n",
    "K = 2\n",
    "nearest_partition = np.argpartition(dist, K + 1, axis=1)\n",
    "print(nearest_partition) # NB: closest point is always itself !"
   ]
  },
  {
   "cell_type": "markdown",
   "id": "81c29c04-789c-446f-a50d-bc251f17bc26",
   "metadata": {},
   "source": [
    "Question 7 result is :"
   ]
  },
  {
   "cell_type": "code",
   "execution_count": null,
   "id": "01c530d9",
   "metadata": {},
   "outputs": [
    {
     "data": {
      "image/png": "[encoded data removed]"
     },
     "metadata": {},
     "output_type": "display_data"
    }
   ],
   "source": [
    "# Question 7 \n",
    "# Each point in the plot has lines drawn to its two nearest neighbors.\n",
    "fig = plt.figure()\n",
    "for i in range(X.shape[0]):\n",
    "    for j in nearest_partition[i, :K+1]:\n",
    "        # plot a line from X[i] to X[j]\n",
    "        # use some zip magic to make it happen:\n",
    "        plt.plot(*zip(X[j], X[i]), color='black')\n",
    "fig\n",
    "plt.savefig(\"knn.png\", bbox_inches='tight')"
   ]
  },
  {
   "cell_type": "markdown",
   "id": "8fc92c9c-1b3d-4fbf-b4d2-616637eeafb2",
   "metadata": {},
   "source": [
    "Did I invent this challenging exercise? Not at all, it comes from the book [*Python Data Science Handbook*](https://jakevdp.github.io/PythonDataScienceHandbook/02.08-sorting.html#Example:-k-Nearest-Neighbors). But if I had told you this immediately, would you have tried to answer the questions?\n",
    "\n",
    "Moreover, it would not be a good idea to generalize this algorithm to large datasets. The complexity of our approach is $O(N^2)$. The algorithm implemented by `Scikit-Learn` is $O[NlogN]$.\n",
    "\n",
    "Additionally, computing matrix distances using the power of GPU (graphics cards) would be faster. In this regard, the library [faiss](https://github.com/facebookresearch/faiss), or the dedicated frameworks for computing distance between high-dimensional vectors like [ChromaDB](https://www.trychroma.com/) offer much more satisfactory performance than `Numpy` for this specific problem.\n",
    "\n",
    "# 6. Additional Exercises\n",
    "\n",
    "`Google` became famous thanks to its `PageRank` algorithm. This algorithm allows, from links between websites, to give an importance score to a website which will be used to evaluate its centrality in a network. The objective of this exercise is to use `Numpy` to implement such an algorithm from an adjacency matrix that links the sites together.\n",
    "\n",
    "> **Comprendre le principe de l’algorithme <code>PageRank</code>**\n",
    ">\n",
    "> `Google` est devenu célèbre grâce à son algorithme `PageRank`. Celui-ci permet, à partir\n",
    "> de liens entre sites *web*, de donner un score d’importance à un site *web* qui va\n",
    "> être utilisé pour évaluer sa centralité dans un réseau. L’objectif de cet exercice est d’utiliser `Numpy` pour mettre en oeuvre un tel algorithme à partir d’une matrice d’adjacence qui relie les sites entre eux.\n",
    ">\n",
    "> 1.  Créer la matrice suivante avec `Numpy`. L’appeler `M`:\n",
    ">\n",
    "> $$\n",
    "> \\begin{bmatrix}\n",
    "> 0 & 0 & 0 & 0 & 1 \\\\\n",
    "> 0.5 & 0 & 0 & 0 & 0 \\\\\n",
    "> 0.5 & 0 & 0 & 0 & 0 \\\\\n",
    "> 0 & 1 & 0.5 & 0 & 0 \\\\\n",
    "> 0 & 0 & 0.5 & 1 & 0\n",
    "> \\end{bmatrix}\n",
    "> $$\n",
    ">\n",
    "> 1.  Pour représenter visuellement ce *web* minimaliste,\n",
    ">     convertir en objet `networkx` (une librairie spécialisée\n",
    ">     dans l’analyse de réseau) et utiliser la fonction `draw`\n",
    ">     de ce package.\n",
    ">\n",
    "> Il s’agit de la transposée de la matrice d’adjacence\n",
    "> qui permet de relier les sites entre eux. Par exemple,\n",
    "> le site 1 (première colonne) est référencé par\n",
    "> les sites 2 et 3. Celui-ci ne référence que le site 5.\n",
    ">\n",
    "> 1.  A partir de la page wikipedia anglaise de `PageRank`, tester\n",
    ">     sur votre matrice."
   ]
  },
  {
   "cell_type": "code",
   "execution_count": null,
   "id": "b6677b71",
   "metadata": {},
   "outputs": [],
   "source": [
    "# Question 1\n",
    "M = np.array([[0, 0, 0, 0, 1],\n",
    "              [0.5, 0, 0, 0, 0],\n",
    "              [0.5, 0, 0, 0, 0],\n",
    "              [0, 1, 0.5, 0, 0],\n",
    "              [0, 0, 0.5, 1, 0]])"
   ]
  },
  {
   "cell_type": "code",
   "execution_count": null,
   "id": "95246662",
   "metadata": {},
   "outputs": [
    {
     "data": {
      "image/png": "[encoded data removed]"
     },
     "metadata": {},
     "output_type": "display_data"
    }
   ],
   "source": [
    "import networkx as nx\n",
    "\n",
    "G = nx.from_numpy_array(M)\n",
    "fig = plt.figure()\n",
    "nx.draw(G)\n",
    "plt.savefig(\"scatter_numpy.png\", bbox_inches = \"tight\")"
   ]
  },
  {
   "cell_type": "code",
   "execution_count": null,
   "id": "4f18202f",
   "metadata": {},
   "outputs": [],
   "source": [
    "\"\"\"PageRank algorithm with explicit number of iterations.\n",
    "\n",
    "Returns\n",
    "-------\n",
    "ranking of nodes (pages) in the adjacency matrix\n",
    "\n",
    "\"\"\"\n",
    "\n",
    "import numpy as np\n",
    "rng = np.random.default_rng()\n",
    "\n",
    "\n",
    "def pagerank(M, num_iterations: int = 100, d: float = 0.85):\n",
    "    \"\"\"PageRank: The trillion dollar algorithm.\n",
    "\n",
    "    Parameters\n",
    "    ----------\n",
    "    M : numpy array\n",
    "        adjacency matrix where M_i,j represents the link from 'j' to 'i', such that for all 'j'\n",
    "        sum(i, M_i,j) = 1\n",
    "    num_iterations : int, optional\n",
    "        number of iterations, by default 100\n",
    "    d : float, optional\n",
    "        damping factor, by default 0.85\n",
    "\n",
    "    Returns\n",
    "    -------\n",
    "    numpy array\n",
    "        a vector of ranks such that v_i is the i-th rank from [0, 1],\n",
    "        v sums to 1\n",
    "\n",
    "    \"\"\"\n",
    "    N = M.shape[1]\n",
    "    v = rng.uniform(size = (N, 1))\n",
    "    v = v / np.linalg.norm(v, 1)\n",
    "    M_hat = (d * M + (1 - d) / N)\n",
    "    for i in range(num_iterations):\n",
    "        v = M_hat @ v\n",
    "    return v\n",
    "\n",
    "v = pagerank(M, 100, 0.85)"
   ]
  },
  {
   "cell_type": "markdown",
   "id": "5ba124f7-f7b3-4df7-8867-ea0e88b5bccd",
   "metadata": {},
   "source": [
    "Site 1 is quite central because it is referenced twice. Site 5 is also central since it is referenced by site 1."
   ]
  },
  {
   "cell_type": "code",
   "execution_count": null,
   "id": "7262e66d",
   "metadata": {},
   "outputs": [
    {
     "data": {
      "text/plain": [
       "array([[0.25419178],\n",
       "       [0.13803151],\n",
       "       [0.13803151],\n",
       "       [0.20599017],\n",
       "       [0.26375504]])"
      ]
     },
     "metadata": {},
     "output_type": "display_data"
    }
   ],
   "source": [
    "v"
   ]
  }
 ],
 "metadata": {
  "kernelspec": {
   "display_name": "Python 3 (ipykernel)",
   "language": "python",
   "name": "python3",
   "path": "/home/runner/work/python-datascientist/python-datascientist/.venv/share/jupyter/kernels/python3"
  },
  "language_info": {
   "codemirror_mode": {
    "name": "ipython",
    "version": "3"
   },
   "file_extension": ".py",
   "mimetype": "text/x-python",
   "name": "python",
   "nbconvert_exporter": "python",
   "pygments_lexer": "ipython3",
   "version": "3.12.3"
  }
 },
 "nbformat": 4,
 "nbformat_minor": 5
}

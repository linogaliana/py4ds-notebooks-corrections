{
 "cells": [
  {
   "cell_type": "markdown",
   "id": "79196bd6-ca04-455f-9c23-3b25a1797144",
   "metadata": {},
   "source": [
    "# A propos de ce site\n",
    "\n",
    "Lino Galiana  \n",
    "2025-10-07\n",
    "\n",
    "Course website [*Python for Data Science*](https://www.ensae.fr/courses/1425-python-pour-le-data-scientist)\n",
    "<a href=\"https://github.com/linogaliana/python-datascientist\" class=\"github\"><i class=\"fab fa-python\"></i></a>, an introduction to `Python` for the second year of the engineering curriculum at [`ENSAE`](https://www.ensae.fr/) (Master 1).\n",
    "\n",
    "<br>\n",
    "\n",
    "All content of this group is freely available here or on [`Github`](https://github.com/linogaliana/python-datascientist)\n",
    "<a href=\"https://github.com/linogaliana/python-datascientist\" class=\"github\"><i class=\"fab fa-github\"></i></a> and can be tested in the form of `Jupyter` notebooks.\n",
    "\n",
    "<br>"
   ]
  },
  {
   "cell_type": "raw",
   "id": "62097f06-6422-4593-88bd-2ce4063f490b",
   "metadata": {},
   "source": [
    "<details>"
   ]
  },
  {
   "cell_type": "raw",
   "id": "865b2f80-0cf7-40fb-864b-553ba1f2ca92",
   "metadata": {},
   "source": [
    "<summary>"
   ]
  },
  {
   "cell_type": "markdown",
   "id": "6dd5ad57-a72b-43d7-8ed4-c2eac58fb280",
   "metadata": {},
   "source": [
    "Example with the introduction to `Pandas`"
   ]
  },
  {
   "cell_type": "raw",
   "id": "04e721c1-178b-4b92-8279-49882e4d2636",
   "metadata": {},
   "source": [
    "</summary>"
   ]
  },
  {
   "cell_type": "raw",
   "id": "87ba8e9e-20f0-431b-b326-e48a5aa024d7",
   "metadata": {},
   "source": [
    "</details>"
   ]
  },
  {
   "cell_type": "raw",
   "id": "8c4ba7f6-3c7d-4d30-b1cd-c5673d16f45c",
   "metadata": {},
   "source": [
    "<details>"
   ]
  },
  {
   "cell_type": "raw",
   "id": "9c1faea7-6099-411a-a511-8dafd827163a",
   "metadata": {},
   "source": [
    "<summary>"
   ]
  },
  {
   "cell_type": "markdown",
   "id": "402a8f89-ac2f-4e3a-80eb-4b531c121b0e",
   "metadata": {},
   "source": [
    "On the agenda:"
   ]
  },
  {
   "cell_type": "raw",
   "id": "358bab50-c006-48c3-b65f-7baeed303059",
   "metadata": {},
   "source": [
    "</summary>"
   ]
  },
  {
   "cell_type": "markdown",
   "id": "cd889335-5c06-4aa7-b7aa-4ed6d9a4f6ca",
   "metadata": {},
   "source": [
    "Overall, this course offers a comprehensive content that can satisfy both beginners in data science and those looking for more advanced material:\n",
    "<br>\n",
    "\n",
    "1.  **Data Manipulation**: standard data manipulation (`Pandas`), geographic data (`Geopandas`), data retrieval (web scraping, APIs)…\n",
    "2.  **Data Visualization**: classic visualizations (`Matplotlib`, `Seaborn`), cartography, reactive visualizations (`Plotly`, `Folium`)\n",
    "3.  **Modeling**: machine learning (`Scikit`), econometrics\n",
    "4.  **Text Data Processing** (NLP): introduction to tokenization with `NLTK` and `SpaCy`, modeling…\n",
    "5.  **Introduction to Modern Data Science**: cloud computing, `ElasticSearch`, continuous integration…\n",
    "\n",
    "All content on this site relies on open data, whether it is French data (mainly from the central platform [`data.gouv`](https://www.data.gouv.fr) or the Insee website) or American data. The program is presented linearly at the top of this page (👆️) or in a disordered manner below (👇️).\n",
    "\n",
    "A good complement to the website content is the course given with Romain Avouac in the final year at ENSAE, which focuses more on the production of data science projects: [https://ensae-reproductibilite.github.io/](https://ensae-reproductibilite.github.io/website/)"
   ]
  },
  {
   "cell_type": "raw",
   "id": "7d967dd8-e1b5-4f0f-bd5b-0e3c8b6359d5",
   "metadata": {},
   "source": [
    "</details>"
   ]
  },
  {
   "cell_type": "markdown",
   "id": "3956617c-5d1b-46d3-ba1c-48ccc8e1e369",
   "metadata": {},
   "source": [
    ":::::\n",
    "\n",
    "![](https://minio.lab.sspcloud.fr/lgaliana/generative-art/pythonds/kiddos.png)\n",
    "\n",
    "::::\n",
    "\n",
    ":::"
   ]
  }
 ],
 "metadata": {
  "kernelspec": {
   "display_name": "Python 3",
   "language": "python",
   "name": "python3"
  }
 },
 "nbformat": 4,
 "nbformat_minor": 5
}

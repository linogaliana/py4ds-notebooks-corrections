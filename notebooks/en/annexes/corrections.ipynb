{
 "cells": [
  {
   "cell_type": "markdown",
   "id": "9026463a-2476-48f7-b574-1339846ff5e1",
   "metadata": {},
   "source": [
    "# Corrections\n",
    "\n",
    "Lino Galiana  \n",
    "2025-10-07"
   ]
  }
 ],
 "metadata": {
  "kernelspec": {
   "display_name": "Python 3",
   "language": "python",
   "name": "python3"
  }
 },
 "nbformat": 4,
 "nbformat_minor": 5
}

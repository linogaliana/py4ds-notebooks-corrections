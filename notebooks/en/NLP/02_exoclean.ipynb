{
 "cells": [
  {
   "cell_type": "markdown",
   "id": "6b814be3-d4b8-46bb-8324-50108aa2d00a",
   "metadata": {},
   "source": [
    "# Frequentist analysis using the bag-of-words approach: forces and\n",
    "\n",
    "limitations\n",
    "\n",
    "Lino Galiana  \n",
    "2025-10-07\n",
    "\n",
    "<div class=\"badge-container\"><div class=\"badge-text\">If you want to try the examples in this tutorial:</div><a href=\"https://github.com/linogaliana/python-datascientist-notebooks/blob/main/notebooks/en/NLP/02_exoclean.ipynb\" target=\"_blank\" rel=\"noopener\"><img src=\"https://img.shields.io/static/v1?logo=github&label=&message=View%20on%20GitHub&color=181717\" alt=\"View on GitHub\"></a>\n",
    "<a href=\"https://datalab.sspcloud.fr/launcher/ide/vscode-python?autoLaunch=true&name=«02_exoclean»&init.personalInit=«https%3A%2F%2Fraw.githubusercontent.com%2Flinogaliana%2Fpython-datascientist%2Fmain%2Fsspcloud%2Finit-vscode.sh»&init.personalInitArgs=«en/NLP%2002_exoclean%20correction»\" target=\"_blank\" rel=\"noopener\"><img src=\"https://custom-icon-badges.demolab.com/badge/SSP%20Cloud-Lancer_avec_VSCode-blue?logo=vsc&logoColor=white\" alt=\"Onyxia\"></a>\n",
    "<a href=\"https://datalab.sspcloud.fr/launcher/ide/jupyter-python?autoLaunch=true&name=«02_exoclean»&init.personalInit=«https%3A%2F%2Fraw.githubusercontent.com%2Flinogaliana%2Fpython-datascientist%2Fmain%2Fsspcloud%2Finit-jupyter.sh»&init.personalInitArgs=«en/NLP%2002_exoclean%20correction»\" target=\"_blank\" rel=\"noopener\"><img src=\"https://img.shields.io/badge/SSP%20Cloud-Lancer_avec_Jupyter-orange?logo=Jupyter&logoColor=orange\" alt=\"Onyxia\"></a>\n",
    "<a href=\"https://colab.research.google.com/github/linogaliana/python-datascientist-notebooks-colab//en/blob/main//notebooks/en/NLP/02_exoclean.ipynb\" target=\"_blank\" rel=\"noopener\"><img src=\"https://colab.research.google.com/assets/colab-badge.svg\" alt=\"Open In Colab\"></a><br></div>\n",
    "\n",
    "To move forward in this chapter, we need to perform some preliminary installations:"
   ]
  },
  {
   "cell_type": "code",
   "execution_count": null,
   "id": "0e74a343",
   "metadata": {},
   "outputs": [],
   "source": [
    "!pip install spacy\n",
    "!python -m spacy download en_core_web_sm\n",
    "!python -m spacy download fr_core_news_sm"
   ]
  },
  {
   "cell_type": "markdown",
   "id": "8194ec59-3a38-4a06-bcc5-9205994453ea",
   "metadata": {},
   "source": [
    "It is also useful to define the following function, taken from our previous chapter:"
   ]
  },
  {
   "cell_type": "code",
   "execution_count": null,
   "id": "369e2de1",
   "metadata": {},
   "outputs": [],
   "source": [
    "def clean_text(doc):\n",
    "    # Tokenize, remove stop words and punctuation, and lemmatize\n",
    "    cleaned_tokens = [token.lemma_ for token in doc if not token.is_stop and not token.is_punct]\n",
    "    # Join tokens back into a single string\n",
    "    cleaned_text = ' '.join(cleaned_tokens)\n",
    "    return cleaned_text"
   ]
  },
  {
   "cell_type": "markdown",
   "id": "3818637f-db2b-46af-af58-191299836f8e",
   "metadata": {},
   "source": [
    "# 1. Introduction\n",
    "\n",
    "Previously, we saw the importance of cleaning data to filter down the volume of information present in unstructured data. The goal of this chapter is to deepen our understanding of the frequency-based approach applied to text data. We will explore how this frequentist analysis helps summarize the information contained within a text corpus. We’ll also look at how to refine the *bag of words* approach by taking into account the order or proximity of terms within a sentence.\n",
    "\n",
    "## 1.1 Data\n",
    "\n",
    "We will reuse the Anglo-Saxon dataset from the previous chapter, which includes\n",
    "texts from gothic authors [Edgar Allan Poe](https://en.wikipedia.org/wiki/Edgar_Allan_Poe) (*EAP*), [HP Lovecraft](https://en.wikipedia.org/wiki/H._P._Lovecraft) (*HPL*), and [Mary Wollstonecraft Shelley](https://en.wikipedia.org/wiki/Mary_Shelley) (*MWS*)."
   ]
  },
  {
   "cell_type": "code",
   "execution_count": null,
   "id": "06ea65d6",
   "metadata": {},
   "outputs": [],
   "source": [
    "import pandas as pd\n",
    "\n",
    "url='https://github.com/GU4243-ADS/spring2018-project1-ginnyqg/raw/master/data/spooky.csv'\n",
    "#1. Import des données\n",
    "horror = pd.read_csv(url,encoding='latin-1')\n",
    "#2. Majuscules aux noms des colonnes\n",
    "horror.columns = horror.columns.str.capitalize()\n",
    "#3. Retirer le prefixe id\n",
    "horror['ID'] = horror['Id'].str.replace(\"id\",\"\")\n",
    "horror = horror.set_index('Id')"
   ]
  },
  {
   "cell_type": "markdown",
   "id": "9537469f-6b03-455c-abab-a2c656280c66",
   "metadata": {},
   "source": [
    "``` python\n",
    "```"
   ]
  },
  {
   "cell_type": "code",
   "execution_count": null,
   "id": "ad138fae",
   "metadata": {},
   "outputs": [],
   "source": [
    "# Function to clean the text\n",
    "def clean_text(doc):\n",
    "    # Tokenize, remove stop words and punctuation, and lemmatize\n",
    "    cleaned_tokens = [token.lemma_ for token in doc if not token.is_stop and not token.is_punct]\n",
    "    # Join tokens back into a single string\n",
    "    cleaned_text = ' '.join(cleaned_tokens)\n",
    "    return cleaned_text"
   ]
  },
  {
   "cell_type": "code",
   "execution_count": null,
   "id": "a35a0acf",
   "metadata": {},
   "outputs": [],
   "source": [
    "import spacy\n",
    "nlp_english = spacy.load('en_core_web_sm')\n",
    "stopwords = nlp_english.Defaults.stop_words"
   ]
  },
  {
   "cell_type": "code",
   "execution_count": null,
   "id": "clean-stopwords-horror",
   "metadata": {},
   "outputs": [],
   "source": [
    "docs = nlp_english.pipe(horror[\"Text\"])\n",
    "cleaned_texts = [clean_text(doc) for doc in docs]\n",
    "horror['preprocessed_text'] = cleaned_texts"
   ]
  },
  {
   "cell_type": "markdown",
   "id": "da182532-257b-48b5-a278-686e2757f9d1",
   "metadata": {},
   "source": [
    "# 2. The TF-IDF Measure (*term frequency - inverse document frequency*)\n",
    "\n",
    "## 2.1 The Document-Term Matrix\n",
    "\n",
    "As mentioned earlier, we construct a synthetic representation of our corpus as a bag of words, where words are sampled more or less frequently depending on their appearance frequency. This is, of course, a simplified representation of reality: word sequences are not just random independent words.\n",
    "\n",
    "However, before addressing those limitations, we should complete the bag-of-words approach. The most characteristic representation of this paradigm is the document-term matrix, mainly used to compare corpora. It involves creating a matrix where each document is represented by the presence or absence of terms in our corpus. The idea is to count how often words (terms, in columns) appear in each sentence or phrase (documents, in rows). This matrix then becomes a numerical representation of the text data.\n",
    "\n",
    "Consider a corpus made up of the following three sentences:\n",
    "\n",
    "-   The practice of knitting and crocheting\n",
    "-   Passing on the passion for stamps\n",
    "-   Living off one’s passion”\n",
    "\n",
    "The corresponding document-term matrix is:\n",
    "\n",
    "| Sentence | and | crocheting | for | knitting | living | of | one’s | on | passion | passing | practice | stamps | the |\n",
    "|------------------|:--:|:----:|:--:|:----:|:---:|:-:|:--:|:-:|:---:|:----:|:----:|:---:|:--:|\n",
    "| The practice of knitting and crocheting | 1 | 1 | 0 | 1 | 0 | 1 | 0 | 0 | 0 | 0 | 1 | 0 | 1 |\n",
    "| Passing on the passion for stamps | 0 | 0 | 1 | 0 | 0 | 0 | 0 | 1 | 1 | 1 | 0 | 1 | 1 |\n",
    "| Living off one’s passion | 0 | 0 | 0 | 0 | 1 | 0 | 1 | 0 | 1 | 0 | 0 | 0 | 0 |\n",
    "\n",
    "Each sentence in the corpus is associated with a numeric vector. For instance,\n",
    "the sentence *“La pratique du tricot et du crochet”*, which is meaningless to a machine on its own, becomes a numeric vector it can interpret: `[1, 0, 2, 1, 1, 0, 1, 0, 0, 0, 1, 0]`. This numeric vector is a *sparse* representation of language, since each document (row) will only contain a small portion of the total vocabulary (all columns). Words that do not appear in a document are represented as zeros, hence a *sparse* vector. As we’ll see later, this numeric representation is very different from modern *embedding* approaches, which are based on dense representations.\n",
    "\n",
    "## 2.2 Use for Information Retrieval\n",
    "\n",
    "Different documents can then be compared based on these measures. This is one of the methods used by search engines, although the most advanced ones rely on far more sophisticated approaches. The [tf-idf](https://en.wikipedia.org/wiki/Tf%E2%80%93idf) metric (*term frequency–inverse document frequency*)\n",
    "allows for calculating a relevance score between a search term and a document using two components:\n",
    "\n",
    "$$\n",
    "\\text{tf-idf}(t, d, D) = \\text{tf}(t, d) \\times \\text{idf}(t, D)\n",
    "$$\n",
    "\n",
    "Let $t$ be a specific term (e.g., a word), $d$ a specific document, and $D$ the entire set of documents in the corpus.\n",
    "\n",
    "-   The `tf` component computes a function that increases with the frequency of the search term in the document under consideration;\n",
    "\n",
    "-   The `idf` component computes a function that decreases with the frequency of the term across the entire document set (or corpus).\n",
    "\n",
    "-   The first part (*term frequency*, TF) is the frequency of occurrence of term $t$ in document $d$. There are normalization strategies available to avoid biasing the score in favor of longer documents.\n",
    "\n",
    "$$\n",
    "\\text{tf}(t, d) = \\frac{f_{t,d}}{\\sum_{t' \\in d} f_{t',d}}\n",
    "$$\n",
    "\n",
    "where $f_{t,d}$ is the raw count of how many times term $t$ appears in document $d$, and the denominator is the total number of terms in document $d$.\n",
    "\n",
    "-   The second part (*inverse document frequency*, IDF) measures the rarity—or conversely, the commonness—of a term across the corpus. If $N$ is the total number of documents in the corpus $D$, this part of the metric is given by\n",
    "\n",
    "$$\n",
    "\\text{idf}(t, D) = \\log \\left( \\frac{N}{|\\{d \\in D : t \\in d\\}|} \\right)\n",
    "$$\n",
    "\n",
    "The denominator $( |\\{d \\in D : t \\in d\\}| )$ corresponds to the number of documents in which the term $t$ appears. The rarer the word, the more its presence in a document is given additional weight.\n",
    "\n",
    "Many search engines use this logic to find the most relevant documents in response to a search query. One notable example is [`ElasticSearch`](https://www.elastic.co/elasticsearch), the software used to implement powerful search engines. To rank the most relevant documents for a given search term, it uses the [BM25](https://en.wikipedia.org/wiki/Okapi_BM25) distance metric, which is a more advanced version of the TF-IDF measure.\n",
    "\n",
    "## 2.3 Example\n",
    "\n",
    "Let’s illustrate this with a small corpus. The following code implements a TF-IDF metric. It slightly deviates from the standard definition to avoid division by zero."
   ]
  },
  {
   "cell_type": "code",
   "execution_count": null,
   "id": "84b2852c",
   "metadata": {},
   "outputs": [],
   "source": [
    "import numpy as np\n",
    "\n",
    "# Documents d'exemple\n",
    "documents = [\n",
    "    \"Le corbeau et le renard\",\n",
    "    \"Rusé comme un renard\",\n",
    "    \"Le chat est orange comme un renard\"\n",
    "]\n",
    "\n",
    "# Tokenisation\n",
    "def preprocess(doc):\n",
    "    return doc.lower().split()\n",
    "\n",
    "tokenized_docs = [preprocess(doc) for doc in documents]\n",
    "\n",
    "# Term frequency (TF)\n",
    "def term_frequency(term, tokenized_doc):\n",
    "    term_count = tokenized_doc.count(term)\n",
    "    return term_count / len(tokenized_doc)\n",
    "\n",
    "# Inverse document frequency (DF)\n",
    "def document_frequency(term, tokenized_docs):\n",
    "    return sum(1 for doc in tokenized_docs if term in doc)\n",
    "\n",
    "# Calculate inverse document frequency (IDF)\n",
    "def inverse_document_frequency(word, corpus):\n",
    "    # Normalisation avec + 1 pour éviter la division par zéro\n",
    "    count_of_documents = len(corpus) + 1\n",
    "    count_of_documents_with_word = sum([1 for doc in corpus if word in doc]) + 1\n",
    "    idf = np.log10(count_of_documents/count_of_documents_with_word) + 1\n",
    "    return idf\n",
    "\n",
    "# Calculate TF-IDF scores in each document\n",
    "def tf_idf_term(term):\n",
    "  tf_idf_scores = pd.DataFrame(\n",
    "    [\n",
    "      [\n",
    "      term_frequency(term, doc),\n",
    "      inverse_document_frequency(term, tokenized_docs)\n",
    "      ] for doc in tokenized_docs\n",
    "    ],\n",
    "    columns = [\"TF\", \"IDF\"]\n",
    "  )\n",
    "  tf_idf_scores[\"TF-IDF\"] = tf_idf_scores[\"TF\"] * tf_idf_scores[\"IDF\"]\n",
    "  return tf_idf_scores"
   ]
  },
  {
   "cell_type": "markdown",
   "id": "990156f9-af49-4340-9ab5-5b3488a0f6ac",
   "metadata": {},
   "source": [
    "Let’s begin by computing the TF-IDF score of the word “cat” for each document. Naturally,\n",
    "it is the third document—the only one where the word appears—that has the highest score:"
   ]
  },
  {
   "cell_type": "code",
   "execution_count": null,
   "id": "c67ece81",
   "metadata": {},
   "outputs": [
    {
     "data": {
      "text/html": [
       "\n",
       "</div>"
      ]
     },
     "metadata": {},
     "output_type": "display_data"
    }
   ],
   "source": [
    "tf_idf_term(\"chat\")"
   ]
  },
  {
   "cell_type": "markdown",
   "id": "fde115e7-9582-4263-b15b-ca712e4a19a9",
   "metadata": {},
   "source": [
    "What about the term “renard” (fox in French) which appears in all the documents (making the $\\text{idf}$ component equal to 1)? In this case, the document where the word appears most frequently—in this example, the second document—has the highest score."
   ]
  },
  {
   "cell_type": "code",
   "execution_count": null,
   "id": "1faa72c4",
   "metadata": {},
   "outputs": [
    {
     "data": {
      "text/html": [
       "\n",
       "</div>"
      ]
     },
     "metadata": {},
     "output_type": "display_data"
    }
   ],
   "source": [
    "tf_idf_term(\"renard\")"
   ]
  },
  {
   "cell_type": "markdown",
   "id": "6683583b-e359-442d-b9ec-276fd3d76c0f",
   "metadata": {},
   "source": [
    "## 2.4 Application\n",
    "\n",
    "The previous example didn’t scale very well. Fortunately, `Scikit` provides an implementation of TF-IDF vector search, which we can explore in a new exercise.\n",
    "\n",
    "> **Exercise 1: TF-IDF Frequency Calculation**\n",
    ">\n",
    "> 1.  Use the TF-IDF vectorizer from `scikit-learn` to transform your corpus into a `document x terms` matrix. Use the `stop_words` option to avoid inflating the matrix size. Name the model `tfidf` and the resulting dataset `tfs`.\n",
    "> 2.  After constructing the document x terms matrix with the code below, find the rows where terms matching `abandon` are non-zero.\n",
    "> 3.  Identify the 50 excerpts where the TF-IDF score for the word *“fear”* is highest and their associated authors. Determine the distribution of authors among these 50 documents.\n",
    "> 4.  Inspect the top 10 scores where TF-IDF for *“fear”* is highest.\n",
    ">\n",
    "> <details>\n",
    ">\n",
    "> <summary>\n",
    ">\n",
    "> Hint for question 2\n",
    ">\n",
    "> </summary>\n",
    ">\n",
    "> ``` python\n",
    "> feature_names = tfidf.get_feature_names_out()\n",
    "> corpus_index = [n for n in list(tfidf.vocabulary_.keys())]\n",
    "> horror_dense = pd.DataFrame(tfs.todense(), columns=feature_names)\n",
    "> ```\n",
    ">\n",
    "> </details>\n",
    "\n",
    "The vectorizer obtained at the end of question 1 is\n",
    "as follows:"
   ]
  },
  {
   "cell_type": "code",
   "execution_count": null,
   "id": "84f9276b",
   "metadata": {},
   "outputs": [
    {
     "data": {
      "text/html": [
       "<style>#sk-container-id-1 {\n",
       "  /* Definition of color scheme common for light and dark mode */\n",
       "  --sklearn-color-text: #000;\n",
       "  --sklearn-color-text-muted: #666;\n",
       "  --sklearn-color-line: gray;\n",
       "  /* Definition of color scheme for unfitted estimators */\n",
       "  --sklearn-color-unfitted-level-0: #fff5e6;\n",
       "  --sklearn-color-unfitted-level-1: #f6e4d2;\n",
       "  --sklearn-color-unfitted-level-2: #ffe0b3;\n",
       "  --sklearn-color-unfitted-level-3: chocolate;\n",
       "  /* Definition of color scheme for fitted estimators */\n",
       "  --sklearn-color-fitted-level-0: #f0f8ff;\n",
       "  --sklearn-color-fitted-level-1: #d4ebff;\n",
       "  --sklearn-color-fitted-level-2: #b3dbfd;\n",
       "  --sklearn-color-fitted-level-3: cornflowerblue;\n",
       "\n",
       "  /* Specific color for light theme */\n",
       "  --sklearn-color-text-on-default-background: var(--sg-text-color, var(--theme-code-foreground, var(--jp-content-font-color1, black)));\n",
       "  --sklearn-color-background: var(--sg-background-color, var(--theme-background, var(--jp-layout-color0, white)));\n",
       "  --sklearn-color-border-box: var(--sg-text-color, var(--theme-code-foreground, var(--jp-content-font-color1, black)));\n",
       "  --sklearn-color-icon: #696969;\n",
       "\n",
       "  @media (prefers-color-scheme: dark) {\n",
       "    /* Redefinition of color scheme for dark theme */\n",
       "    --sklearn-color-text-on-default-background: var(--sg-text-color, var(--theme-code-foreground, var(--jp-content-font-color1, white)));\n",
       "    --sklearn-color-background: var(--sg-background-color, var(--theme-background, var(--jp-layout-color0, #111)));\n",
       "    --sklearn-color-border-box: var(--sg-text-color, var(--theme-code-foreground, var(--jp-content-font-color1, white)));\n",
       "    --sklearn-color-icon: #878787;\n",
       "  }\n",
       "}\n",
       "\n",
       "#sk-container-id-1 {\n",
       "  color: var(--sklearn-color-text);\n",
       "}\n",
       "\n",
       "#sk-container-id-1 pre {\n",
       "  padding: 0;\n",
       "}\n",
       "\n",
       "#sk-container-id-1 input.sk-hidden--visually {\n",
       "  border: 0;\n",
       "  clip: rect(1px 1px 1px 1px);\n",
       "  clip: rect(1px, 1px, 1px, 1px);\n",
       "  height: 1px;\n",
       "  margin: -1px;\n",
       "  overflow: hidden;\n",
       "  padding: 0;\n",
       "  position: absolute;\n",
       "  width: 1px;\n",
       "}\n",
       "\n",
       "#sk-container-id-1 div.sk-dashed-wrapped {\n",
       "  border: 1px dashed var(--sklearn-color-line);\n",
       "  margin: 0 0.4em 0.5em 0.4em;\n",
       "  box-sizing: border-box;\n",
       "  padding-bottom: 0.4em;\n",
       "  background-color: var(--sklearn-color-background);\n",
       "}\n",
       "\n",
       "#sk-container-id-1 div.sk-container {\n",
       "  /* jupyter's `normalize.less` sets `[hidden] { display: none; }`\n",
       "     but bootstrap.min.css set `[hidden] { display: none !important; }`\n",
       "     so we also need the `!important` here to be able to override the\n",
       "     default hidden behavior on the sphinx rendered scikit-learn.org.\n",
       "     See: https://github.com/scikit-learn/scikit-learn/issues/21755 */\n",
       "  display: inline-block !important;\n",
       "  position: relative;\n",
       "}\n",
       "\n",
       "#sk-container-id-1 div.sk-text-repr-fallback {\n",
       "  display: none;\n",
       "}\n",
       "\n",
       "div.sk-parallel-item,\n",
       "div.sk-serial,\n",
       "div.sk-item {\n",
       "  /* draw centered vertical line to link estimators */\n",
       "  background-image: linear-gradient(var(--sklearn-color-text-on-default-background), var(--sklearn-color-text-on-default-background));\n",
       "  background-size: 2px 100%;\n",
       "  background-repeat: no-repeat;\n",
       "  background-position: center center;\n",
       "}\n",
       "\n",
       "/* Parallel-specific style estimator block */\n",
       "\n",
       "#sk-container-id-1 div.sk-parallel-item::after {\n",
       "  content: \"\";\n",
       "  width: 100%;\n",
       "  border-bottom: 2px solid var(--sklearn-color-text-on-default-background);\n",
       "  flex-grow: 1;\n",
       "}\n",
       "\n",
       "#sk-container-id-1 div.sk-parallel {\n",
       "  display: flex;\n",
       "  align-items: stretch;\n",
       "  justify-content: center;\n",
       "  background-color: var(--sklearn-color-background);\n",
       "  position: relative;\n",
       "}\n",
       "\n",
       "#sk-container-id-1 div.sk-parallel-item {\n",
       "  display: flex;\n",
       "  flex-direction: column;\n",
       "}\n",
       "\n",
       "#sk-container-id-1 div.sk-parallel-item:first-child::after {\n",
       "  align-self: flex-end;\n",
       "  width: 50%;\n",
       "}\n",
       "\n",
       "#sk-container-id-1 div.sk-parallel-item:last-child::after {\n",
       "  align-self: flex-start;\n",
       "  width: 50%;\n",
       "}\n",
       "\n",
       "#sk-container-id-1 div.sk-parallel-item:only-child::after {\n",
       "  width: 0;\n",
       "}\n",
       "\n",
       "/* Serial-specific style estimator block */\n",
       "\n",
       "#sk-container-id-1 div.sk-serial {\n",
       "  display: flex;\n",
       "  flex-direction: column;\n",
       "  align-items: center;\n",
       "  background-color: var(--sklearn-color-background);\n",
       "  padding-right: 1em;\n",
       "  padding-left: 1em;\n",
       "}\n",
       "\n",
       "\n",
       "/* Toggleable style: style used for estimator/Pipeline/ColumnTransformer box that is\n",
       "clickable and can be expanded/collapsed.\n",
       "- Pipeline and ColumnTransformer use this feature and define the default style\n",
       "- Estimators will overwrite some part of the style using the `sk-estimator` class\n",
       "*/\n",
       "\n",
       "/* Pipeline and ColumnTransformer style (default) */\n",
       "\n",
       "#sk-container-id-1 div.sk-toggleable {\n",
       "  /* Default theme specific background. It is overwritten whether we have a\n",
       "  specific estimator or a Pipeline/ColumnTransformer */\n",
       "  background-color: var(--sklearn-color-background);\n",
       "}\n",
       "\n",
       "/* Toggleable label */\n",
       "#sk-container-id-1 label.sk-toggleable__label {\n",
       "  cursor: pointer;\n",
       "  display: flex;\n",
       "  width: 100%;\n",
       "  margin-bottom: 0;\n",
       "  padding: 0.5em;\n",
       "  box-sizing: border-box;\n",
       "  text-align: center;\n",
       "  align-items: start;\n",
       "  justify-content: space-between;\n",
       "  gap: 0.5em;\n",
       "}\n",
       "\n",
       "#sk-container-id-1 label.sk-toggleable__label .caption {\n",
       "  font-size: 0.6rem;\n",
       "  font-weight: lighter;\n",
       "  color: var(--sklearn-color-text-muted);\n",
       "}\n",
       "\n",
       "#sk-container-id-1 label.sk-toggleable__label-arrow:before {\n",
       "  /* Arrow on the left of the label */\n",
       "  content: \"▸\";\n",
       "  float: left;\n",
       "  margin-right: 0.25em;\n",
       "  color: var(--sklearn-color-icon);\n",
       "}\n",
       "\n",
       "#sk-container-id-1 label.sk-toggleable__label-arrow:hover:before {\n",
       "  color: var(--sklearn-color-text);\n",
       "}\n",
       "\n",
       "/* Toggleable content - dropdown */\n",
       "\n",
       "#sk-container-id-1 div.sk-toggleable__content {\n",
       "  max-height: 0;\n",
       "  max-width: 0;\n",
       "  overflow: hidden;\n",
       "  text-align: left;\n",
       "  /* unfitted */\n",
       "  background-color: var(--sklearn-color-unfitted-level-0);\n",
       "}\n",
       "\n",
       "#sk-container-id-1 div.sk-toggleable__content.fitted {\n",
       "  /* fitted */\n",
       "  background-color: var(--sklearn-color-fitted-level-0);\n",
       "}\n",
       "\n",
       "#sk-container-id-1 div.sk-toggleable__content pre {\n",
       "  margin: 0.2em;\n",
       "  border-radius: 0.25em;\n",
       "  color: var(--sklearn-color-text);\n",
       "  /* unfitted */\n",
       "  background-color: var(--sklearn-color-unfitted-level-0);\n",
       "}\n",
       "\n",
       "#sk-container-id-1 div.sk-toggleable__content.fitted pre {\n",
       "  /* unfitted */\n",
       "  background-color: var(--sklearn-color-fitted-level-0);\n",
       "}\n",
       "\n",
       "#sk-container-id-1 input.sk-toggleable__control:checked~div.sk-toggleable__content {\n",
       "  /* Expand drop-down */\n",
       "  max-height: 200px;\n",
       "  max-width: 100%;\n",
       "  overflow: auto;\n",
       "}\n",
       "\n",
       "#sk-container-id-1 input.sk-toggleable__control:checked~label.sk-toggleable__label-arrow:before {\n",
       "  content: \"▾\";\n",
       "}\n",
       "\n",
       "/* Pipeline/ColumnTransformer-specific style */\n",
       "\n",
       "#sk-container-id-1 div.sk-label input.sk-toggleable__control:checked~label.sk-toggleable__label {\n",
       "  color: var(--sklearn-color-text);\n",
       "  background-color: var(--sklearn-color-unfitted-level-2);\n",
       "}\n",
       "\n",
       "#sk-container-id-1 div.sk-label.fitted input.sk-toggleable__control:checked~label.sk-toggleable__label {\n",
       "  background-color: var(--sklearn-color-fitted-level-2);\n",
       "}\n",
       "\n",
       "/* Estimator-specific style */\n",
       "\n",
       "/* Colorize estimator box */\n",
       "#sk-container-id-1 div.sk-estimator input.sk-toggleable__control:checked~label.sk-toggleable__label {\n",
       "  /* unfitted */\n",
       "  background-color: var(--sklearn-color-unfitted-level-2);\n",
       "}\n",
       "\n",
       "#sk-container-id-1 div.sk-estimator.fitted input.sk-toggleable__control:checked~label.sk-toggleable__label {\n",
       "  /* fitted */\n",
       "  background-color: var(--sklearn-color-fitted-level-2);\n",
       "}\n",
       "\n",
       "#sk-container-id-1 div.sk-label label.sk-toggleable__label,\n",
       "#sk-container-id-1 div.sk-label label {\n",
       "  /* The background is the default theme color */\n",
       "  color: var(--sklearn-color-text-on-default-background);\n",
       "}\n",
       "\n",
       "/* On hover, darken the color of the background */\n",
       "#sk-container-id-1 div.sk-label:hover label.sk-toggleable__label {\n",
       "  color: var(--sklearn-color-text);\n",
       "  background-color: var(--sklearn-color-unfitted-level-2);\n",
       "}\n",
       "\n",
       "/* Label box, darken color on hover, fitted */\n",
       "#sk-container-id-1 div.sk-label.fitted:hover label.sk-toggleable__label.fitted {\n",
       "  color: var(--sklearn-color-text);\n",
       "  background-color: var(--sklearn-color-fitted-level-2);\n",
       "}\n",
       "\n",
       "/* Estimator label */\n",
       "\n",
       "#sk-container-id-1 div.sk-label label {\n",
       "  font-family: monospace;\n",
       "  font-weight: bold;\n",
       "  display: inline-block;\n",
       "  line-height: 1.2em;\n",
       "}\n",
       "\n",
       "#sk-container-id-1 div.sk-label-container {\n",
       "  text-align: center;\n",
       "}\n",
       "\n",
       "/* Estimator-specific */\n",
       "#sk-container-id-1 div.sk-estimator {\n",
       "  font-family: monospace;\n",
       "  border: 1px dotted var(--sklearn-color-border-box);\n",
       "  border-radius: 0.25em;\n",
       "  box-sizing: border-box;\n",
       "  margin-bottom: 0.5em;\n",
       "  /* unfitted */\n",
       "  background-color: var(--sklearn-color-unfitted-level-0);\n",
       "}\n",
       "\n",
       "#sk-container-id-1 div.sk-estimator.fitted {\n",
       "  /* fitted */\n",
       "  background-color: var(--sklearn-color-fitted-level-0);\n",
       "}\n",
       "\n",
       "/* on hover */\n",
       "#sk-container-id-1 div.sk-estimator:hover {\n",
       "  /* unfitted */\n",
       "  background-color: var(--sklearn-color-unfitted-level-2);\n",
       "}\n",
       "\n",
       "#sk-container-id-1 div.sk-estimator.fitted:hover {\n",
       "  /* fitted */\n",
       "  background-color: var(--sklearn-color-fitted-level-2);\n",
       "}\n",
       "\n",
       "/* Specification for estimator info (e.g. \"i\" and \"?\") */\n",
       "\n",
       "/* Common style for \"i\" and \"?\" */\n",
       "\n",
       ".sk-estimator-doc-link,\n",
       "a:link.sk-estimator-doc-link,\n",
       "a:visited.sk-estimator-doc-link {\n",
       "  float: right;\n",
       "  font-size: smaller;\n",
       "  line-height: 1em;\n",
       "  font-family: monospace;\n",
       "  background-color: var(--sklearn-color-background);\n",
       "  border-radius: 1em;\n",
       "  height: 1em;\n",
       "  width: 1em;\n",
       "  text-decoration: none !important;\n",
       "  margin-left: 0.5em;\n",
       "  text-align: center;\n",
       "  /* unfitted */\n",
       "  border: var(--sklearn-color-unfitted-level-1) 1pt solid;\n",
       "  color: var(--sklearn-color-unfitted-level-1);\n",
       "}\n",
       "\n",
       ".sk-estimator-doc-link.fitted,\n",
       "a:link.sk-estimator-doc-link.fitted,\n",
       "a:visited.sk-estimator-doc-link.fitted {\n",
       "  /* fitted */\n",
       "  border: var(--sklearn-color-fitted-level-1) 1pt solid;\n",
       "  color: var(--sklearn-color-fitted-level-1);\n",
       "}\n",
       "\n",
       "/* On hover */\n",
       "div.sk-estimator:hover .sk-estimator-doc-link:hover,\n",
       ".sk-estimator-doc-link:hover,\n",
       "div.sk-label-container:hover .sk-estimator-doc-link:hover,\n",
       ".sk-estimator-doc-link:hover {\n",
       "  /* unfitted */\n",
       "  background-color: var(--sklearn-color-unfitted-level-3);\n",
       "  color: var(--sklearn-color-background);\n",
       "  text-decoration: none;\n",
       "}\n",
       "\n",
       "div.sk-estimator.fitted:hover .sk-estimator-doc-link.fitted:hover,\n",
       ".sk-estimator-doc-link.fitted:hover,\n",
       "div.sk-label-container:hover .sk-estimator-doc-link.fitted:hover,\n",
       ".sk-estimator-doc-link.fitted:hover {\n",
       "  /* fitted */\n",
       "  background-color: var(--sklearn-color-fitted-level-3);\n",
       "  color: var(--sklearn-color-background);\n",
       "  text-decoration: none;\n",
       "}\n",
       "\n",
       "/* Span, style for the box shown on hovering the info icon */\n",
       ".sk-estimator-doc-link span {\n",
       "  display: none;\n",
       "  z-index: 9999;\n",
       "  position: relative;\n",
       "  font-weight: normal;\n",
       "  right: .2ex;\n",
       "  padding: .5ex;\n",
       "  margin: .5ex;\n",
       "  width: min-content;\n",
       "  min-width: 20ex;\n",
       "  max-width: 50ex;\n",
       "  color: var(--sklearn-color-text);\n",
       "  box-shadow: 2pt 2pt 4pt #999;\n",
       "  /* unfitted */\n",
       "  background: var(--sklearn-color-unfitted-level-0);\n",
       "  border: .5pt solid var(--sklearn-color-unfitted-level-3);\n",
       "}\n",
       "\n",
       ".sk-estimator-doc-link.fitted span {\n",
       "  /* fitted */\n",
       "  background: var(--sklearn-color-fitted-level-0);\n",
       "  border: var(--sklearn-color-fitted-level-3);\n",
       "}\n",
       "\n",
       ".sk-estimator-doc-link:hover span {\n",
       "  display: block;\n",
       "}\n",
       "\n",
       "/* \"?\"-specific style due to the `<a>` HTML tag */\n",
       "\n",
       "#sk-container-id-1 a.estimator_doc_link {\n",
       "  float: right;\n",
       "  font-size: 1rem;\n",
       "  line-height: 1em;\n",
       "  font-family: monospace;\n",
       "  background-color: var(--sklearn-color-background);\n",
       "  border-radius: 1rem;\n",
       "  height: 1rem;\n",
       "  width: 1rem;\n",
       "  text-decoration: none;\n",
       "  /* unfitted */\n",
       "  color: var(--sklearn-color-unfitted-level-1);\n",
       "  border: var(--sklearn-color-unfitted-level-1) 1pt solid;\n",
       "}\n",
       "\n",
       "#sk-container-id-1 a.estimator_doc_link.fitted {\n",
       "  /* fitted */\n",
       "  border: var(--sklearn-color-fitted-level-1) 1pt solid;\n",
       "  color: var(--sklearn-color-fitted-level-1);\n",
       "}\n",
       "\n",
       "/* On hover */\n",
       "#sk-container-id-1 a.estimator_doc_link:hover {\n",
       "  /* unfitted */\n",
       "  background-color: var(--sklearn-color-unfitted-level-3);\n",
       "  color: var(--sklearn-color-background);\n",
       "  text-decoration: none;\n",
       "}\n",
       "\n",
       "#sk-container-id-1 a.estimator_doc_link.fitted:hover {\n",
       "  /* fitted */\n",
       "  background-color: var(--sklearn-color-fitted-level-3);\n",
       "}\n",
       "</style><div id=\"sk-container-id-1\" class=\"sk-top-container\"><div class=\"sk-text-repr-fallback\"><pre>TfidfVectorizer(stop_words=[&#x27;say&#x27;, &#x27;any&#x27;, &#x27;where&#x27;, &#x27;either&#x27;, &#x27;whom&#x27;, &#x27;a&#x27;,\n",
       "                            &#x27;than&#x27;, &#x27;must&#x27;, &#x27;’m&#x27;, &#x27;via&#x27;, &#x27;’d&#x27;, &quot;&#x27;ll&quot;, &#x27;from&#x27;,\n",
       "                            &#x27;beside&#x27;, &#x27;show&#x27;, &#x27;seeming&#x27;, &#x27;yours&#x27;, &#x27;one&#x27;, &#x27;were&#x27;,\n",
       "                            &#x27;sixty&#x27;, &#x27;such&#x27;, &#x27;whereupon&#x27;, &#x27;wherein&#x27;, &#x27;some&#x27;,\n",
       "                            &#x27;whence&#x27;, &#x27;and&#x27;, &#x27;him&#x27;, &#x27;whenever&#x27;, &#x27;thru&#x27;,\n",
       "                            &#x27;twelve&#x27;, ...])</pre><b>In a Jupyter environment, please rerun this cell to show the HTML representation or trust the notebook. <br />On GitHub, the HTML representation is unable to render, please try loading this page with nbviewer.org.</b></div><div class=\"sk-container\" hidden><div class=\"sk-item\"><div class=\"sk-estimator  sk-toggleable\"><input class=\"sk-toggleable__control sk-hidden--visually\" id=\"sk-estimator-id-1\" type=\"checkbox\" checked><label for=\"sk-estimator-id-1\" class=\"sk-toggleable__label  sk-toggleable__label-arrow\"><div><div>TfidfVectorizer</div></div><div><a class=\"sk-estimator-doc-link \" rel=\"noreferrer\" target=\"_blank\" href=\"https://scikit-learn.org/1.6/modules/generated/sklearn.feature_extraction.text.TfidfVectorizer.html\">?<span>Documentation for TfidfVectorizer</span></a><span class=\"sk-estimator-doc-link \">i<span>Not fitted</span></span></div></label><div class=\"sk-toggleable__content \"><pre>TfidfVectorizer(stop_words=[&#x27;say&#x27;, &#x27;any&#x27;, &#x27;where&#x27;, &#x27;either&#x27;, &#x27;whom&#x27;, &#x27;a&#x27;,\n",
       "                            &#x27;than&#x27;, &#x27;must&#x27;, &#x27;’m&#x27;, &#x27;via&#x27;, &#x27;’d&#x27;, &quot;&#x27;ll&quot;, &#x27;from&#x27;,\n",
       "                            &#x27;beside&#x27;, &#x27;show&#x27;, &#x27;seeming&#x27;, &#x27;yours&#x27;, &#x27;one&#x27;, &#x27;were&#x27;,\n",
       "                            &#x27;sixty&#x27;, &#x27;such&#x27;, &#x27;whereupon&#x27;, &#x27;wherein&#x27;, &#x27;some&#x27;,\n",
       "                            &#x27;whence&#x27;, &#x27;and&#x27;, &#x27;him&#x27;, &#x27;whenever&#x27;, &#x27;thru&#x27;,\n",
       "                            &#x27;twelve&#x27;, ...])</pre></div> </div></div></div></div>"
      ]
     },
     "metadata": {},
     "output_type": "display_data"
    }
   ],
   "source": [
    "#1. TfIdf de scikit\n",
    "from sklearn.feature_extraction.text import TfidfVectorizer\n",
    "tfidf = TfidfVectorizer(stop_words=list(stopwords))\n",
    "tfidf"
   ]
  },
  {
   "cell_type": "code",
   "execution_count": null,
   "id": "68eb3adf",
   "metadata": {},
   "outputs": [
    {
     "name": "stderr",
     "output_type": "stream",
     "text": [
      "/home/runner/work/python-datascientist/python-datascientist/.venv/lib/python3.12/site-packages/sklearn/feature_extraction/text.py:402: UserWarning:\n",
      "\n",
      "Your stop_words may be inconsistent with your preprocessing. Tokenizing the stop words generated tokens ['ll', 've'] not in stop_words.\n"
     ]
    }
   ],
   "source": [
    "tfs = tfidf.fit_transform(horror['Text'])"
   ]
  },
  {
   "cell_type": "code",
   "execution_count": null,
   "id": "e17996fa",
   "metadata": {},
   "outputs": [
    {
     "data": {
      "text/html": [
       "\n",
       "<p>5 rows × 24783 columns</p>\n",
       "</div>"
      ]
     },
     "metadata": {},
     "output_type": "display_data"
    }
   ],
   "source": [
    "import pandas as pd\n",
    "\n",
    "feature_names = tfidf.get_feature_names_out()\n",
    "corpus_index = [n for n in list(tfidf.vocabulary_.keys())]\n",
    "horror_dense = pd.DataFrame(tfs.todense(), columns=feature_names)\n",
    "\n",
    "horror_dense.head()"
   ]
  },
  {
   "cell_type": "markdown",
   "id": "beb57161-aa13-4077-a8ec-ef78be084782",
   "metadata": {},
   "source": [
    "The lines where the term *“abandon”* appears\n",
    "are as follows (question 2):"
   ]
  },
  {
   "cell_type": "code",
   "execution_count": null,
   "id": "1b8f8075",
   "metadata": {},
   "outputs": [
    {
     "name": "stdout",
     "output_type": "stream",
     "text": [
      "Index([    4,   116,   215,   571,   839,  1042,  1052,  1069,  2247,  2317,\n",
      "        2505,  3023,  3058,  3245,  3380,  3764,  3886,  4425,  5289,  5576,\n",
      "        5694,  6812,  7500,  9013,  9021,  9077,  9560, 11229, 11395, 11451,\n",
      "       11588, 11827, 11989, 11998, 12122, 12158, 12189, 13666, 15259, 16516,\n",
      "       16524, 16759, 17547, 18019, 18072, 18126, 18204, 18251],\n",
      "      dtype='int64')"
     ]
    }
   ],
   "source": [
    "#2. Lignes où les termes de abandon sont non nuls.\n",
    "tempdf = horror_dense.loc[(horror_dense.filter(regex = \"abandon\")!=0).any(axis=1)]\n",
    "print(tempdf.index)"
   ]
  },
  {
   "cell_type": "markdown",
   "id": "c21c00dd-4e56-48bc-9cf1-9db790ef2d48",
   "metadata": {},
   "source": [
    "The document-term matrix associated with these is as follows:"
   ]
  },
  {
   "cell_type": "code",
   "execution_count": null,
   "id": "41cea227",
   "metadata": {},
   "outputs": [
    {
     "data": {
      "text/html": [
       "\n",
       "<p>5 rows × 24783 columns</p>\n",
       "</div>"
      ]
     },
     "metadata": {},
     "output_type": "display_data"
    }
   ],
   "source": [
    "tempdf.head(5)"
   ]
  },
  {
   "cell_type": "markdown",
   "id": "e3af9e48-b45c-45a4-bc7b-de448ec7e506",
   "metadata": {},
   "source": [
    "Here we notice the drawback of not applying stemming. Variations of *“abandon”* are spread across many columns. *“abandoned”* is treated as different from *“abandon”* just as it is from *“fear”*. This is one of the limitations of the *bag of words* approach."
   ]
  },
  {
   "cell_type": "code",
   "execution_count": null,
   "id": "3d0d24fb",
   "metadata": {},
   "outputs": [
    {
     "data": {
      "text/plain": [
       "Text    50\n",
       "dtype: int64"
      ]
     },
     "metadata": {},
     "output_type": "display_data"
    }
   ],
   "source": [
    "# 3. 50 extraits avec le TF-IDF le plus élevé.\n",
    "list_fear = (\n",
    "  horror_dense[\"fear\"]\n",
    "  .sort_values(ascending =False)\n",
    "  .head(n=50)\n",
    "  .index.tolist()\n",
    ")\n",
    "(\n",
    "  horror.iloc[list_fear]\n",
    "  .agg({\"Text\": \"count\"})\n",
    "  .sort_values(ascending = False)\n",
    ")"
   ]
  },
  {
   "cell_type": "markdown",
   "id": "b6e764f4-61ea-444a-837c-183780906c96",
   "metadata": {},
   "source": [
    "The 10 highest scores are as follows:"
   ]
  },
  {
   "cell_type": "code",
   "execution_count": null,
   "id": "7c2398e5",
   "metadata": {},
   "outputs": [
    {
     "data": {
      "text/plain": [
       "['We could not fear we did not.',\n",
       " '\"And now I do not fear death.',\n",
       " 'Be of heart and fear nothing.',\n",
       " 'Indeed I had no fear on her account.',\n",
       " 'I smiled, for what had I to fear?',\n",
       " 'I did not like everything about what I saw, and felt again the fear I had had.',\n",
       " 'At length, in an abrupt manner she asked, \"Where is he?\" \"O, fear not,\" she continued, \"fear not that I should entertain hope Yet tell me, have you found him?',\n",
       " 'I have not the slightest fear for the result.',\n",
       " '\"I fear you are right there,\" said the Prefect.']"
      ]
     },
     "metadata": {},
     "output_type": "display_data"
    }
   ],
   "source": [
    "# 4. Les 10 scores les plus élevés\n",
    "horror.iloc[list_fear[:9]]['Text'].tolist()"
   ]
  },
  {
   "cell_type": "markdown",
   "id": "24a99c4e-bc72-4641-a9ff-b4bc274de2ad",
   "metadata": {},
   "source": [
    "We observe that the highest scores correspond either to short excerpts where the word appears once, or to longer excerpts where the word *“fear”* appears multiple times.\n",
    "\n",
    "# 3. An Initial Enhancement of the Bag-of-Words Approach: *n-grams*\n",
    "\n",
    "We previously identified two main limitations of the bag-of-words approach: its disregard for context and its sparse representation of language, which sometimes leads to weak similarity matches between texts. However, within the bag-of-words paradigm, it is possible to account for the sequence of tokens using *n-grams*.\n",
    "\n",
    "To recap, in the traditional *bag of words* approach, word order doesn’t matter.\n",
    "A text is treated as a collection of words drawn independently, with varying frequencies based on their occurrence probabilities. Drawing a specific word doesn’t affect the likelihood of subsequent words.\n",
    "\n",
    "A way to introduce relationships between sequences of *tokens* is through *n-grams*.\n",
    "This method considers not only word frequencies but also which words follow others. It’s particularly useful for disambiguating homonyms. The computation of *n-grams* [1] is the simplest method for incorporating context.\n",
    "\n",
    "To carry out this type of analysis, we need to download an additional corpus:\n",
    "\n",
    "[1] We use the term *bigrams* for two-word co-occurrences, *trigrams* for three-word ones, etc."
   ]
  },
  {
   "cell_type": "code",
   "execution_count": null,
   "id": "979863ec",
   "metadata": {},
   "outputs": [
    {
     "name": "stderr",
     "output_type": "stream",
     "text": [
      "[nltk_data] Downloading package genesis to /home/runner/nltk_data...\n",
      "[nltk_data]   Package genesis is already up-to-date!"
     ]
    },
    {
     "data": {
      "text/plain": [
       "['In', 'the', 'beginning', 'God', 'created', 'the', ...]"
      ]
     },
     "metadata": {},
     "output_type": "display_data"
    }
   ],
   "source": [
    "import nltk\n",
    "nltk.download('genesis')\n",
    "nltk.corpus.genesis.words('english-web.txt')"
   ]
  },
  {
   "cell_type": "markdown",
   "id": "b4469aa4-b7cc-43f5-b36c-b5d6e17010a3",
   "metadata": {},
   "source": [
    "`NLTK` provides methods for incorporating context. To do this, we compute n-grams—that is, sequences of n consecutive word co-occurrences. Generally, we limit ourselves to bigrams or at most trigrams:\n",
    "\n",
    "-   Classification models, sentiment analysis, document comparison, etc., that rely on n-grams with large n quickly face sparse data issues, reducing their predictive power;\n",
    "-   Performance drops quickly as n increases, and data storage costs increase substantially (roughly n times larger than the original dataset).\n",
    "\n",
    "Let’s quickly examine the context in which the word `fear` appears\n",
    "in the works of Edgar Allan Poe (EAP). To do this, we first transform the EAP corpus into `NLTK` tokens:"
   ]
  },
  {
   "cell_type": "code",
   "execution_count": null,
   "id": "e21cf2af",
   "metadata": {},
   "outputs": [
    {
     "name": "stdout",
     "output_type": "stream",
     "text": [
      "['This', 'process,', 'however,', 'afforded', 'me', 'no', 'means', 'of', 'ascertaining', 'the']\n",
      "<Text: This process, however, afforded me no means of...>"
     ]
    }
   ],
   "source": [
    "eap_clean = horror.loc[horror[\"Author\"] == \"EAP\"]\n",
    "eap_clean = ' '.join(eap_clean['Text'])\n",
    "tokens = eap_clean.split()\n",
    "print(tokens[:10])\n",
    "text = nltk.Text(tokens)\n",
    "print(text)"
   ]
  },
  {
   "cell_type": "markdown",
   "id": "4767acb1-9563-42a5-94ac-8da0cfe9c345",
   "metadata": {},
   "source": [
    "You will need the functions `BigramCollocationFinder.from_words` and `BigramAssocMeasures.likelihood_ratio`:"
   ]
  },
  {
   "cell_type": "code",
   "execution_count": null,
   "id": "aab9108d",
   "metadata": {},
   "outputs": [],
   "source": [
    "from nltk.collocations import BigramCollocationFinder\n",
    "from nltk.metrics import BigramAssocMeasures"
   ]
  },
  {
   "cell_type": "markdown",
   "id": "7f329424-73d9-4582-8618-d82f164f1b8b",
   "metadata": {},
   "source": [
    "> **Exercise 2: n-grams and the Context of the Word “fear”**\n",
    ">\n",
    "> 1.  Use the `concordance` method to display the context in which the word `fear` appears.\n",
    "> 2.  Select and display the top collocations, for instance using the likelihood ratio criterion.\n",
    ">\n",
    "> When two words are strongly associated, it may be due to their rarity. Therefore, it’s often necessary to apply filters—for example, ignore bigrams that occur fewer than 5 times in the corpus.\n",
    ">\n",
    "> 1.  Repeat the previous task using the `BigramCollocationFinder` model, followed by the `apply_freq_filter` method to retain only bigrams appearing at least 5 times. Then, instead of the likelihood ratio, test the method `nltk.collocations.BigramAssocMeasures().jaccard`.\n",
    ">\n",
    "> 2.  Focus only on *collocations* involving the word *fear*.\n",
    "\n",
    "Using the `concordance` method (question 1),\n",
    "the list should look like this:"
   ]
  },
  {
   "cell_type": "code",
   "execution_count": null,
   "id": "bbfc2ea5",
   "metadata": {},
   "outputs": [
    {
     "name": "stdout",
     "output_type": "stream",
     "text": [
      "Exemples d'occurences du terme 'fear' :\n",
      "Displaying 13 of 13 matches:\n",
      "d quick unequal spoken apparently in fear as well as in anger. What he said wa\n",
      "hutters were close fastened, through fear of robbers, and so I knew that he co\n",
      "to details. I even went so far as to fear that, as I occasioned much trouble, \n",
      "years of age, was heard to express a fear \"that she should never see Marie aga\n",
      "ich must be entirely remodelled, for fear of serious accident I mean the steel\n",
      " my arm, and I attended her home. 'I fear that I shall never see Marie again.'\n",
      "clusion here is absurd. \"I very much fear it is so,\" replied Monsieur Maillard\n",
      "bt of ultimately seeing the Pole. \"I fear you are right there,\" said the Prefe\n",
      "er occurred before.' Indeed I had no fear on her account. For a moment there w\n",
      "erhaps so,\" said I; \"but, Legrand, I fear you are no artist. It is my firm int\n",
      " raps with a hammer. Be of heart and fear nothing. My daughter, Mademoiselle M\n",
      "e splendor. I have not the slightest fear for the result. The face was so far \n",
      "arriers of iron that hemmed me in. I fear you have mesmerized\" adding immediat\n",
      "\n"
     ]
    }
   ],
   "source": [
    "# 1. Methode concordance\n",
    "print(\"Exemples d'occurences du terme 'fear' :\")\n",
    "text.concordance(\"fear\")\n",
    "print('\\n')"
   ]
  },
  {
   "cell_type": "markdown",
   "id": "8bb403f0-d350-4657-ae82-fcebcf5ec38a",
   "metadata": {},
   "source": [
    "Although it is easy to see the words that appear before and after, this list is rather hard to interpret because it combines a lot of information.\n",
    "\n",
    "`Collocation` involves identifying bigrams that\n",
    "frequently occur together. Among all observed word pairs,\n",
    "the idea is to select the “best” ones based on a statistical model.\n",
    "Using this method (question 2), we get:"
   ]
  },
  {
   "cell_type": "code",
   "execution_count": null,
   "id": "3c0dc501",
   "metadata": {},
   "outputs": [
    {
     "data": {
      "text/plain": [
       "[('of', 'the'),\n",
       " ('in', 'the'),\n",
       " ('had', 'been'),\n",
       " ('to', 'be'),\n",
       " ('have', 'been'),\n",
       " ('I', 'had'),\n",
       " ('It', 'was'),\n",
       " ('it', 'is'),\n",
       " ('could', 'not'),\n",
       " ('from', 'the'),\n",
       " ('upon', 'the'),\n",
       " ('more', 'than'),\n",
       " ('it', 'was'),\n",
       " ('would', 'have'),\n",
       " ('with', 'a'),\n",
       " ('did', 'not'),\n",
       " ('I', 'am'),\n",
       " ('the', 'a'),\n",
       " ('at', 'once'),\n",
       " ('might', 'have')]"
      ]
     },
     "metadata": {},
     "output_type": "display_data"
    }
   ],
   "source": [
    "# 2. Modélisation des meilleures collocations\n",
    "bcf = BigramCollocationFinder.from_words(text)\n",
    "bcf.nbest(BigramAssocMeasures.likelihood_ratio, 20)"
   ]
  },
  {
   "cell_type": "markdown",
   "id": "228848f6-16ed-46ca-8d98-43f32ec48bdd",
   "metadata": {},
   "source": [
    "If we model the best collocations:"
   ]
  },
  {
   "cell_type": "code",
   "execution_count": null,
   "id": "5944439d",
   "metadata": {},
   "outputs": [
    {
     "name": "stdout",
     "output_type": "stream",
     "text": [
      "\"Gad Fly\"\n",
      "'Hum Drum,'\n",
      "'Rowdy Dow,'\n",
      "Brevet Brigadier\n",
      "BarriÃ¨re du\n",
      "ugh ugh\n",
      "Ourang Outang\n",
      "Chess Player\n",
      "John A.\n",
      "A. B.\n",
      "hu hu\n",
      "General John\n",
      "'Oppodeldoc,' whoever\n",
      "mille, mille,\n",
      "Brigadier General"
     ]
    }
   ],
   "source": [
    "# 3. Modélisation des meilleures collocations (qui apparaissent 5+)\n",
    "finder = nltk.BigramCollocationFinder.from_words(text)\n",
    "finder.apply_freq_filter(5)\n",
    "bigram_measures = nltk.collocations.BigramAssocMeasures()\n",
    "collocations = finder.nbest(bigram_measures.jaccard, 15)\n",
    "\n",
    "for collocation in collocations :\n",
    "    c = ' '.join(collocation)\n",
    "    print(c)"
   ]
  },
  {
   "cell_type": "markdown",
   "id": "1583df0d-5b4c-4075-90cd-50db05637cc7",
   "metadata": {},
   "source": [
    "This list is a bit more meaningful,\n",
    "including character names, places, and frequently used expressions\n",
    "(like *Chess Player* for example).\n",
    "\n",
    "As for the *collocations* of the word *fear*:"
   ]
  },
  {
   "cell_type": "code",
   "execution_count": null,
   "id": "28b968a0",
   "metadata": {},
   "outputs": [
    {
     "name": "stdout",
     "output_type": "stream",
     "text": [
      "[('fear', 'of'), ('fear', 'God'), ('I', 'fear'), ('the', 'fear'), ('The', 'fear'), ('fear', 'him'), ('you', 'fear')]"
     ]
    }
   ],
   "source": [
    "# 4. collocations du mot fear\n",
    "bigram_measures = nltk.collocations.BigramAssocMeasures()\n",
    "\n",
    "def collocations_word(word = \"fear\"):\n",
    "    # Ngrams with a specific name\n",
    "    name_filter = lambda *w: word not in w\n",
    "    # Bigrams\n",
    "    finder = BigramCollocationFinder.from_words(\n",
    "                nltk.corpus.genesis.words('english-web.txt'))\n",
    "    # only bigrams that contain 'fear'\n",
    "    finder.apply_ngram_filter(name_filter)\n",
    "    # return the 100 n-grams with the highest PMI\n",
    "    print(finder.nbest(bigram_measures.likelihood_ratio,100))\n",
    "\n",
    "collocations_word(\"fear\")"
   ]
  },
  {
   "cell_type": "markdown",
   "id": "b2447719-6620-48b5-b2bc-2b0786f93081",
   "metadata": {},
   "source": [
    "If we perform the same analysis for the term *love*, we logically find subjects that are commonly associated with the verb:"
   ]
  },
  {
   "cell_type": "code",
   "execution_count": null,
   "id": "10c6651d",
   "metadata": {},
   "outputs": [
    {
     "name": "stdout",
     "output_type": "stream",
     "text": [
      "[('love', 'me'), ('love', 'he'), ('will', 'love'), ('I', 'love'), ('love', ','), ('you', 'love'), ('the', 'love')]"
     ]
    }
   ],
   "source": [
    "collocations_word(\"love\")"
   ]
  },
  {
   "cell_type": "markdown",
   "id": "c230f33c-97eb-4202-b2a6-79a5a8fa34f0",
   "metadata": {},
   "source": [
    "# 4. Some Applications\n",
    "\n",
    "We just discussed an initial application of the *bag of words* approach: grouping texts based on shared terms. However, this is not the only use case. We will now explore two additional applications that lead us toward language modeling: named entity recognition and classification.\n",
    "\n",
    "## 4.1 Named Entity Recognition\n",
    "\n",
    "[Named Entity Recognition (NER)](https://en.wikipedia.org/wiki/Named-entity_recognition) is an information extraction technique used to identify the type of certain terms in a text, such as locations, people, quantities, etc.\n",
    "\n",
    "To illustrate this,\n",
    "let’s return to *The Count of Monte Cristo* and examine a short excerpt from the work to see how named entity recognition operates:"
   ]
  },
  {
   "cell_type": "code",
   "execution_count": null,
   "id": "46eb4334",
   "metadata": {},
   "outputs": [
    {
     "data": {
      "text/plain": [
       "\" mes yeux. --vous avez donc vu l'empereur aussi? --il est entré chez le maréchal pendant que j'y étais. --et vous lui avez parlé? --c'est-à-dire que c'est lui qui m'a parlé, monsieur, dit dantès en souriant. --et que vous a-t-il dit? --il m'a fait des questions sur le bâtiment, sur l'époque de son départ pour marseille, sur la route qu'il avait suivie et sur la cargaison qu'il portait. je crois que s'il eût été vide, et que j'en eusse été le maître, son intention eût été de l'acheter; mais je lu\""
      ]
     },
     "metadata": {},
     "output_type": "display_data"
    }
   ],
   "source": [
    "import requests\n",
    "import re\n",
    "\n",
    "url = \"https://www.gutenberg.org/files/17989/17989-0.txt\"\n",
    "response = requests.get(url)\n",
    "response.encoding = 'utf-8'  # Assure le bon décodage\n",
    "raw = response.text\n",
    "\n",
    "dumas = (\n",
    "  raw\n",
    "  .split(\"*** START OF THE PROJECT GUTENBERG EBOOK 17989 ***\")[1]\n",
    "  .split(\"*** END OF THE PROJECT GUTENBERG EBOOK 17989 ***\")[0]\n",
    ")\n",
    "\n",
    "\n",
    "def clean_text(text):\n",
    "    text = text.lower() # mettre les mots en minuscule\n",
    "    text = \" \".join(text.split())\n",
    "    return text\n",
    "\n",
    "dumas = clean_text(dumas)\n",
    "\n",
    "dumas[10000:10500]"
   ]
  },
  {
   "cell_type": "code",
   "execution_count": null,
   "id": "b3e4bffd",
   "metadata": {},
   "outputs": [],
   "source": [
    "!python -m spacy download fr_core_news_sm"
   ]
  },
  {
   "cell_type": "code",
   "execution_count": null,
   "id": "8f795b2f",
   "metadata": {},
   "outputs": [],
   "source": [
    "import spacy\n",
    "from spacy import displacy\n",
    "\n",
    "nlp = spacy.load(\"fr_core_news_sm\")\n",
    "doc = nlp(dumas[15000:17000])\n",
    "# displacy.render(doc, style=\"ent\", jupyter=True)"
   ]
  },
  {
   "cell_type": "markdown",
   "id": "3841d2fb-e02f-4ad8-a176-a61c00917d20",
   "metadata": {},
   "source": [
    "The named entity recognition provided\n",
    "by default in general-purpose libraries is often underwhelming; it is\n",
    "frequently necessary to supplement the default rules\n",
    "with *ad hoc* rules specific to each corpus.\n",
    "\n",
    "In practice, named entity recognition was recently\n",
    "used by Etalab to [pseudonymize administrative documents](https://guides.etalab.gouv.fr/pseudonymisation/#sommaire). This involves identifying certain sensitive information (such as civil status, address, etc.) through entity recognition and replacing it with pseudonyms.\n",
    "\n",
    "## 4.2 Text Data Classification: The `Fasttext` Algorithm\n",
    "\n",
    "`Fasttext` is a single-layer neural network developed by Meta in 2016 for text classification and language modeling. As we will see, this model serves as a bridge to more refined forms of language modeling, although `Fasttext` remains far simpler than large language models (LLMs). One of the main use cases of `Fasttext` is supervised text classification: determining a text’s category. For example, identifying whether a song’s lyrics belong to the rap or rock genre. This is a supervised model because it learns to recognize *features*—in this case, pieces of text—that lead to good prediction performance on both training and test sets.\n",
    "\n",
    "The concept of a *feature* might seem odd for text data, which is inherently unstructured. For structured data, as discussed in the [modeling section](../../content/course/modelisation/index.qmd), the approach was straightforward: features were observed variables, and the classification algorithm identified the best combination to predict the label. With text data, we must build features from the text itself—turning unstructured data into structured form. This is where the concepts we’ve covered so far come into play.\n",
    "\n",
    "`FastText` uses a *“bag of n-grams”* approach. It considers that features are derived not only from words in the corpus but also from multiple levels of n-grams. The general architecture of `FastText` looks like this:\n",
    "\n",
    "<figure>\n",
    "<img src=\"https://raw.githubusercontent.com/InseeFrLab/formation-mlops/main/slides/img/diag-fasttext.png\" alt=\"Diagram of FastText architecture\" />\n",
    "<figcaption aria-hidden=\"true\">Diagram of <code>FastText</code> architecture</figcaption>\n",
    "</figure>\n",
    "\n",
    "What interests us here is the left side of the diagram—*“feature extraction”*—since the *embedding* part relates to concepts we will cover in upcoming chapters. In the figure’s example, the text *“Business engineering and services”* is tokenized into words as we’ve seen earlier. But `Fasttext` also creates multiple levels of n-grams. For instance, it generates word bigrams: *“Business engineering”*, *“engineering and”*, *“and services”*; and also character four-grams like *“busi”*, *“usin”*, and *“sine”*. Then, `Fasttext` transforms all these items into numeric vectors. Unlike the term frequency representations we’ve seen, these vectors are not based on corpus frequency (as in document-term matrices) but are word embeddings. We’ll explore this concept in future chapters.\n",
    "\n",
    "`Fasttext` is widely used in public statistics, as many textual data sources need to be classified into aggregated nomenclatures."
   ]
  },
  {
   "cell_type": "code",
   "execution_count": null,
   "id": "d39902f2",
   "metadata": {},
   "outputs": [
    {
     "name": "stdout",
     "output_type": "stream",
     "text": [
      "Erreur lors de l'appel API : 503 Server Error: Service Temporarily Unavailable for url: https://codification-ape-test.lab.sspcloud.fr/predict?nb_echos_max=3&prob_min=0&text_feature=data%20scientist"
     ]
    }
   ],
   "source": [
    "import requests\n",
    "import pandas as pd\n",
    "\n",
    "activite = \"data scientist\"\n",
    "import requests\n",
    "import pandas as pd\n",
    "\n",
    "activite = \"data scientist\"\n",
    "urlApe = (\n",
    "    \"https://codification-ape-test.lab.sspcloud.fr/\"\n",
    "    f\"predict?nb_echos_max=3&prob_min=0&text_feature={activite}\"\n",
    ")\n",
    "\n",
    "try:\n",
    "    # requête\n",
    "    resp = requests.get(urlApe, timeout=10)\n",
    "    resp.raise_for_status()  # lève une erreur si code HTTP != 200\n",
    "    data = resp.json()\n",
    "\n",
    "    # récupération de IC\n",
    "    IC = data.pop(\"IC\", None)\n",
    "\n",
    "    # transformation en DataFrame\n",
    "    df = pd.DataFrame(data.values())\n",
    "    df[\"indice_confiance\"] = IC\n",
    "\n",
    "    print(df)\n",
    "\n",
    "except requests.exceptions.RequestException as e:\n",
    "    print(\"Erreur lors de l'appel API :\", e)\n",
    "    df = pd.DataFrame()  # DataFrame vide en cas d'échec\n",
    "\n",
    "except (ValueError, KeyError) as e:\n",
    "    print(\"Erreur lors du parsing des données :\", e)\n",
    "    df = pd.DataFrame()"
   ]
  },
  {
   "cell_type": "markdown",
   "id": "1d53f9e0-9426-492a-87a4-b81df967fbbe",
   "metadata": {},
   "source": [
    "To see an interactive demonstration of such a model, visit the [corresponding site page](../../content/NLP/02_exoclean.qmd) linked to this notebook."
   ]
  }
 ],
 "metadata": {
  "kernelspec": {
   "display_name": "Python 3 (ipykernel)",
   "language": "python",
   "name": "python3",
   "path": "/home/runner/work/python-datascientist/python-datascientist/.venv/share/jupyter/kernels/python3"
  },
  "language_info": {
   "codemirror_mode": {
    "name": "ipython",
    "version": "3"
   },
   "file_extension": ".py",
   "mimetype": "text/x-python",
   "name": "python",
   "nbconvert_exporter": "python",
   "pygments_lexer": "ipython3",
   "version": "3.12.3"
  }
 },
 "nbformat": 4,
 "nbformat_minor": 5
}
